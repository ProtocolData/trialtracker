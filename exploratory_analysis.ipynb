{
 "cells": [
  {
   "cell_type": "code",
   "execution_count": 371,
   "metadata": {},
   "outputs": [],
   "source": [
    "import pandas as pd\n",
    "from extract import extracted_data_analyzer as eda, aact_querier as aq\n",
    "import seaborn as sns\n",
    "import numpy as np\n",
    "import matplotlib.pyplot as plt\n",
    "import matplotlib.patches as mpatches\n",
    "import psycopg2\n",
    "import getpass\n",
    "import pandas.io.sql as psql"
   ]
  },
  {
   "cell_type": "code",
   "execution_count": 372,
   "metadata": {},
   "outputs": [],
   "source": [
    "#configs\n",
    "pd.set_option('display.max_columns',None)\n",
    "pd.set_option('display.max_rows',None)\n"
   ]
  },
  {
   "cell_type": "code",
   "execution_count": 373,
   "metadata": {},
   "outputs": [],
   "source": [
    "## Functions for data exploration and visualization"
   ]
  },
  {
   "cell_type": "code",
   "execution_count": 374,
   "metadata": {},
   "outputs": [],
   "source": [
    "def percent_breakdown(df, colname):\n",
    "    brk=df[colname].value_counts().reset_index()\n",
    "    brk.columns=[colname,\"study_count\"]\n",
    "    brk['study_percent']=brk.study_count/brk.study_count.sum()\n",
    "    return brk"
   ]
  },
  {
   "cell_type": "code",
   "execution_count": 525,
   "metadata": {},
   "outputs": [],
   "source": [
    "def annual_stacked_bar(og_df, colname=None, collabel=None, start_year=2000, end_year=2021, style='white', palette='muted', colors=10):\n",
    "    # set the figure size\n",
    "    df=og_df.copy()\n",
    "    plt.figure()\n",
    "    sns.set(rc={'figure.figsize':(16.18,10)})\n",
    "    sns.set(style=style)\n",
    "    seapal=sns.color_palette(palette = palette, n_colors = colors, desat = None)\n",
    "    sns.set_palette(seapal)\n",
    "    \n",
    "    #create stacked bar chart\n",
    "    if colname is None:\n",
    "        pivot = df[(df.start_datetime.dt.year>=start_year)&(df.start_datetime.dt.year<=end_year)].groupby([\"start_year\"])['nct_id'].nunique()        \n",
    "        filepath=\"./visuals/stacked_bar_aggregate.png\"\n",
    "        pivot.plot.bar(stacked=True)\n",
    "        plt.title('Trials by Year', fontsize=16)        \n",
    "    else:\n",
    "        pivot = df[(df.start_datetime.dt.year>=start_year)&(df.start_datetime.dt.year<=end_year)].groupby([\"start_year\",colname])['nct_id'].nunique().unstack(colname).fillna(0)\n",
    "        filepath=\"./visuals/stacked_bar_\"+colname+\".png\"\n",
    "        pivot.plot.bar(stacked=True)\n",
    "        \n",
    "        title=\"Trials by \"+colname\n",
    "        if collabel is not None:\n",
    "            title=\"Trials by \"+collabel\n",
    "            \n",
    "        plt.title(title, fontsize=16)\n",
    "        \n",
    "    \n",
    "\n",
    "\n",
    "\n",
    "    #add axis titles\n",
    "    plt.xlabel('Trial Start Year')\n",
    "    plt.ylabel('Number of Trials')\n",
    "    \n",
    "    plt.legend(bbox_to_anchor=(1.2,0.5) , loc='center right') \n",
    "    \n",
    "    \n",
    "    \n",
    "    plt.savefig(filepath, bbox_inches='tight')\n",
    "    return pivot.reset_index()\n",
    "\n",
    "    #rotate x-axis labels\n",
    "    # plt.xticks(rotation=45)"
   ]
  },
  {
   "cell_type": "code",
   "execution_count": 523,
   "metadata": {},
   "outputs": [],
   "source": [
    "def annual_stacked_bar_100(og_df, colname=None, collabel=None, start_year=2000, end_year=2021, style='white', palette='muted', colors=10):\n",
    "    # set the figure size\n",
    "    df=og_df.copy()\n",
    "    plt.figure()\n",
    "    sns.set(rc={'figure.figsize':(16.18,10)})\n",
    "    sns.set(style=style)\n",
    "    seapal=sns.color_palette(palette = palette, n_colors = colors, desat = None)\n",
    "    sns.set_palette(seapal)\n",
    "    \n",
    "    #create stacked bar chart\n",
    "    if colname is None:\n",
    "        pivot = df[(df.start_datetime.dt.year>=start_year)&(df.start_datetime.dt.year<=end_year)].groupby([\"start_year\"])['nct_id'].nunique()       \n",
    "        filepath=\"./visuals/stacked_bar_100_aggregate.png\"\n",
    "        pivot.plot.bar(stacked=True)\n",
    "        plt.title('Trials by Year', fontsize=16)\n",
    "        \n",
    "        #add axis titles\n",
    "        plt.xlabel('Trial Start Year')\n",
    "        plt.ylabel('Proportion of Trials')\n",
    "        plt.legend(bbox_to_anchor=(1.2,0.5) , loc='center right') \n",
    "        plt.savefig(filepath, bbox_inches='tight')\n",
    "\n",
    "    else:\n",
    "        pivot = df[(df.start_datetime.dt.year>=start_year)&(df.start_datetime.dt.year<=end_year)].groupby([\"start_year\"])[colname].value_counts(normalize=True).unstack(colname).fillna(0)\n",
    "        filepath=\"./visuals/stacked_bar_100_\"+colname+\".png\"\n",
    "        pivot.plot.bar(stacked=True)\n",
    "\n",
    "        title=\"Trials by \"+colname\n",
    "        if collabel is not None:\n",
    "            title=\"Trials by \"+collabel\n",
    "            \n",
    "        plt.title(title, fontsize=16)\n",
    "        #add axis titles\n",
    "        plt.xlabel('Trial Start Year')\n",
    "        plt.ylabel('Proportion of Trials')\n",
    "        plt.legend(bbox_to_anchor=(1.2,0.5) , loc='center right') \n",
    "        plt.savefig(filepath, bbox_inches='tight')\n",
    "        plt.show()\n",
    "        \n",
    "        pie_title=\"2021 Trials by \"+colname\n",
    "        if collabel is not None:\n",
    "            pie_title=\"2021 Trials by \"+collabel\n",
    "        plt.pie(pivot.reset_index()[pivot.reset_index().start_year.dt.year==end_year].iloc[0, 1:].tolist(), labels = pivot.reset_index()[pivot.reset_index().start_year.dt.year==end_year].columns[1:].tolist(), autopct='%.0f%%')\n",
    "        plt.title(pie_title, fontsize=16)\n",
    "        pie_path=\"./visuals/stacked_pie_100_\"+colname+\".png\"\n",
    "        plt.savefig(pie_path, bbox_inches='tight')\n",
    "        plt.show()\n",
    "        \n",
    "    \n",
    "\n",
    "\n",
    "\n",
    "    \n",
    "    \n",
    "    \n",
    "    return pivot.reset_index()\n",
    "\n",
    "    #rotate x-axis labels\n",
    "    # plt.xticks(rotation=45)"
   ]
  },
  {
   "cell_type": "code",
   "execution_count": 377,
   "metadata": {},
   "outputs": [],
   "source": [
    "## Explore cancer trials"
   ]
  },
  {
   "cell_type": "code",
   "execution_count": 378,
   "metadata": {},
   "outputs": [],
   "source": [
    "# All cancer trials\n",
    "onc_trials=pd.read_csv(\"extract/extracted_data/ct_fb_parser_data.csv\", index_col=0)"
   ]
  },
  {
   "cell_type": "code",
   "execution_count": 379,
   "metadata": {},
   "outputs": [],
   "source": [
    "# Rename and format columns\n",
    "onc_trials.rename(columns={'#nct_id':'nct_id'}, inplace=True)\n",
    "onc_trials['start_datetime']=pd.to_datetime(onc_trials['start_date'], format='%Y-%m-%d')\n",
    "onc_trials['start_year'] = onc_trials['start_datetime'].dt.to_period('Y')"
   ]
  },
  {
   "cell_type": "code",
   "execution_count": 380,
   "metadata": {},
   "outputs": [],
   "source": [
    "# Clean phase column\n",
    "# onc_trials['phase'].fillna('Null', inplace=True)\n",
    "phase_map={'Early Phase 1':'a) Early Phase 1',\n",
    "           'Phase 1':'b) Phase 1',\n",
    "           'Phase 1/Phase 2':'c) Phase 1/Phase 2',\n",
    "           'Phase 2':'d) Phase 2',\n",
    "           'Phase 2/Phase 3':'e) Phase 2/Phase 3',\n",
    "           'Phase 3':'e) Phase 3',\n",
    "           'Phase 4':'f) Phase 4',\n",
    "           'Not Applicable':'g) Not Applicable'\n",
    "          }\n",
    "\n",
    "onc_trials['mapped_phase']=onc_trials['phase'].map(phase_map).fillna('h) Missing')"
   ]
  },
  {
   "cell_type": "code",
   "execution_count": 396,
   "metadata": {},
   "outputs": [],
   "source": [
    "# Clean phase column\n",
    "# onc_trials['phase'].fillna('Null', inplace=True)\n",
    "study_type_map={'Interventional':'a) Interventional',\n",
    "           'Observational':'b) Observational',\n",
    "           'Observational [Patient Registry]':'c) Observational [Patient Registry]',\n",
    "           'Expanded Access':'d) Expanded Access',\n",
    "          }\n",
    "\n",
    "onc_trials['mapped_study_type']=onc_trials['study_type'].map(study_type_map).fillna('e) Missing')"
   ]
  },
  {
   "cell_type": "code",
   "execution_count": 381,
   "metadata": {},
   "outputs": [
    {
     "name": "stdout",
     "output_type": "stream",
     "text": [
      "50197 cancer trials from 2000 to 2021.\n"
     ]
    }
   ],
   "source": [
    "onc_trial_count=onc_trials[(onc_trials.start_datetime.dt.year>=2000)&(onc_trials.start_datetime.dt.year<=2021)]['nct_id'].nunique()\n",
    "print(f\"{onc_trial_count} cancer trials from 2000 to 2021.\")"
   ]
  },
  {
   "cell_type": "code",
   "execution_count": 516,
   "metadata": {},
   "outputs": [
    {
     "data": {
      "text/plain": [
       "Index(['nct_id', 'title', 'has_us_facility', 'conditions',\n",
       "       'eligibility_criteria', 'start_date', 'lead_sponsor', 'summary',\n",
       "       'overall_status', 'phase', 'enrollment', 'enrollment_type',\n",
       "       'study_type', 'number_of_arms', 'number_of_groups', 'why_stopped',\n",
       "       'has_dmc', 'is_fda_regulated_drug', 'is_fda_regulated_device',\n",
       "       'is_unapproved_device', 'is_ppsd', 'is_us_export', 'start_datetime',\n",
       "       'start_year', 'mapped_phase', 'mapped_study_type'],\n",
       "      dtype='object')"
      ]
     },
     "execution_count": 516,
     "metadata": {},
     "output_type": "execute_result"
    }
   ],
   "source": [
    "onc_trials.columns"
   ]
  },
  {
   "cell_type": "code",
   "execution_count": 515,
   "metadata": {},
   "outputs": [
    {
     "data": {
      "text/html": [
       "<div>\n",
       "<style scoped>\n",
       "    .dataframe tbody tr th:only-of-type {\n",
       "        vertical-align: middle;\n",
       "    }\n",
       "\n",
       "    .dataframe tbody tr th {\n",
       "        vertical-align: top;\n",
       "    }\n",
       "\n",
       "    .dataframe thead th {\n",
       "        text-align: right;\n",
       "    }\n",
       "</style>\n",
       "<table border=\"1\" class=\"dataframe\">\n",
       "  <thead>\n",
       "    <tr style=\"text-align: right;\">\n",
       "      <th></th>\n",
       "      <th>nct_id</th>\n",
       "      <th>title</th>\n",
       "      <th>has_us_facility</th>\n",
       "      <th>conditions</th>\n",
       "      <th>eligibility_criteria</th>\n",
       "      <th>start_date</th>\n",
       "      <th>lead_sponsor</th>\n",
       "      <th>summary</th>\n",
       "      <th>overall_status</th>\n",
       "      <th>phase</th>\n",
       "      <th>enrollment</th>\n",
       "      <th>enrollment_type</th>\n",
       "      <th>study_type</th>\n",
       "      <th>number_of_arms</th>\n",
       "      <th>number_of_groups</th>\n",
       "      <th>why_stopped</th>\n",
       "      <th>has_dmc</th>\n",
       "      <th>is_fda_regulated_drug</th>\n",
       "      <th>is_fda_regulated_device</th>\n",
       "      <th>is_unapproved_device</th>\n",
       "      <th>is_ppsd</th>\n",
       "      <th>is_us_export</th>\n",
       "      <th>start_datetime</th>\n",
       "      <th>start_year</th>\n",
       "      <th>mapped_phase</th>\n",
       "      <th>mapped_study_type</th>\n",
       "    </tr>\n",
       "  </thead>\n",
       "  <tbody>\n",
       "    <tr>\n",
       "      <th>23396</th>\n",
       "      <td>NCT01972867</td>\n",
       "      <td>Study of NanoKnife for Ablation of Prostate Ca...</td>\n",
       "      <td>True</td>\n",
       "      <td>Prostate Cancer</td>\n",
       "      <td>Inclusion Criteria:\\n\\nHas at least a 10-year ...</td>\n",
       "      <td>2021-05-13</td>\n",
       "      <td>Angiodynamics, Inc.</td>\n",
       "      <td>The purpose of this study is to evaluate the f...</td>\n",
       "      <td>Recruiting</td>\n",
       "      <td>Not Applicable</td>\n",
       "      <td>6.0</td>\n",
       "      <td>Anticipated</td>\n",
       "      <td>Interventional</td>\n",
       "      <td>1.0</td>\n",
       "      <td>NaN</td>\n",
       "      <td>NaN</td>\n",
       "      <td>False</td>\n",
       "      <td>False</td>\n",
       "      <td>True</td>\n",
       "      <td>NaN</td>\n",
       "      <td>NaN</td>\n",
       "      <td>NaN</td>\n",
       "      <td>2021-05-13</td>\n",
       "      <td>2021</td>\n",
       "      <td>g) Not Applicable</td>\n",
       "      <td>a) Interventional</td>\n",
       "    </tr>\n",
       "  </tbody>\n",
       "</table>\n",
       "</div>"
      ],
      "text/plain": [
       "            nct_id                                              title  \\\n",
       "23396  NCT01972867  Study of NanoKnife for Ablation of Prostate Ca...   \n",
       "\n",
       "       has_us_facility       conditions  \\\n",
       "23396             True  Prostate Cancer   \n",
       "\n",
       "                                    eligibility_criteria  start_date  \\\n",
       "23396  Inclusion Criteria:\\n\\nHas at least a 10-year ...  2021-05-13   \n",
       "\n",
       "              lead_sponsor                                            summary  \\\n",
       "23396  Angiodynamics, Inc.  The purpose of this study is to evaluate the f...   \n",
       "\n",
       "      overall_status           phase  enrollment enrollment_type  \\\n",
       "23396     Recruiting  Not Applicable         6.0     Anticipated   \n",
       "\n",
       "           study_type  number_of_arms  number_of_groups why_stopped has_dmc  \\\n",
       "23396  Interventional             1.0               NaN         NaN   False   \n",
       "\n",
       "      is_fda_regulated_drug is_fda_regulated_device is_unapproved_device  \\\n",
       "23396                 False                    True                  NaN   \n",
       "\n",
       "       is_ppsd is_us_export start_datetime start_year       mapped_phase  \\\n",
       "23396      NaN          NaN     2021-05-13       2021  g) Not Applicable   \n",
       "\n",
       "       mapped_study_type  \n",
       "23396  a) Interventional  "
      ]
     },
     "execution_count": 515,
     "metadata": {},
     "output_type": "execute_result"
    }
   ],
   "source": [
    "# Get sample study\n",
    "onc_trials[(onc_trials.start_datetime.dt.year==2021)&(onc_trials.mapped_phase=='g) Not Applicable')].sort_values(by='has_us_facility', ascending=False).head(1)"
   ]
  },
  {
   "cell_type": "code",
   "execution_count": 532,
   "metadata": {},
   "outputs": [
    {
     "data": {
      "text/plain": [
       "<Figure size 1164.96x720 with 0 Axes>"
      ]
     },
     "metadata": {},
     "output_type": "display_data"
    },
    {
     "data": {
      "image/png": "[encoded data removed]",
      "text/plain": [
       "<Figure size 1164.96x720 with 1 Axes>"
      ]
     },
     "metadata": {},
     "output_type": "display_data"
    },
    {
     "data": {
      "image/png": "[encoded data removed]",
      "text/plain": [
       "<Figure size 1164.96x720 with 1 Axes>"
      ]
     },
     "metadata": {},
     "output_type": "display_data"
    },
    {
     "data": {
      "text/html": [
       "<div>\n",
       "<style scoped>\n",
       "    .dataframe tbody tr th:only-of-type {\n",
       "        vertical-align: middle;\n",
       "    }\n",
       "\n",
       "    .dataframe tbody tr th {\n",
       "        vertical-align: top;\n",
       "    }\n",
       "\n",
       "    .dataframe thead th {\n",
       "        text-align: right;\n",
       "    }\n",
       "</style>\n",
       "<table border=\"1\" class=\"dataframe\">\n",
       "  <thead>\n",
       "    <tr style=\"text-align: right;\">\n",
       "      <th>study_type</th>\n",
       "      <th>start_year</th>\n",
       "      <th>Expanded Access</th>\n",
       "      <th>Interventional</th>\n",
       "      <th>Observational</th>\n",
       "      <th>Observational [Patient Registry]</th>\n",
       "    </tr>\n",
       "  </thead>\n",
       "  <tbody>\n",
       "    <tr>\n",
       "      <th>0</th>\n",
       "      <td>2000</td>\n",
       "      <td>0.000000</td>\n",
       "      <td>0.906389</td>\n",
       "      <td>0.086181</td>\n",
       "      <td>0.007429</td>\n",
       "    </tr>\n",
       "    <tr>\n",
       "      <th>1</th>\n",
       "      <td>2001</td>\n",
       "      <td>0.000000</td>\n",
       "      <td>0.909477</td>\n",
       "      <td>0.086280</td>\n",
       "      <td>0.004243</td>\n",
       "    </tr>\n",
       "    <tr>\n",
       "      <th>2</th>\n",
       "      <td>2002</td>\n",
       "      <td>0.000000</td>\n",
       "      <td>0.879391</td>\n",
       "      <td>0.117096</td>\n",
       "      <td>0.003513</td>\n",
       "    </tr>\n",
       "    <tr>\n",
       "      <th>3</th>\n",
       "      <td>2003</td>\n",
       "      <td>0.000000</td>\n",
       "      <td>0.871866</td>\n",
       "      <td>0.124420</td>\n",
       "      <td>0.003714</td>\n",
       "    </tr>\n",
       "    <tr>\n",
       "      <th>4</th>\n",
       "      <td>2004</td>\n",
       "      <td>0.000762</td>\n",
       "      <td>0.862148</td>\n",
       "      <td>0.134044</td>\n",
       "      <td>0.003046</td>\n",
       "    </tr>\n",
       "  </tbody>\n",
       "</table>\n",
       "</div>"
      ],
      "text/plain": [
       "study_type start_year  Expanded Access  Interventional  Observational  \\\n",
       "0                2000         0.000000        0.906389       0.086181   \n",
       "1                2001         0.000000        0.909477       0.086280   \n",
       "2                2002         0.000000        0.879391       0.117096   \n",
       "3                2003         0.000000        0.871866       0.124420   \n",
       "4                2004         0.000762        0.862148       0.134044   \n",
       "\n",
       "study_type  Observational [Patient Registry]  \n",
       "0                                   0.007429  \n",
       "1                                   0.004243  \n",
       "2                                   0.003513  \n",
       "3                                   0.003714  \n",
       "4                                   0.003046  "
      ]
     },
     "execution_count": 532,
     "metadata": {},
     "output_type": "execute_result"
    }
   ],
   "source": [
    "df=annual_stacked_bar_100(onc_trials, colname='study_type', collabel=\"US Facility\")\n",
    "df.head()"
   ]
  },
  {
   "cell_type": "code",
   "execution_count": 439,
   "metadata": {},
   "outputs": [
    {
     "data": {
      "text/plain": [
       "['a) Early Phase 1',\n",
       " 'b) Phase 1',\n",
       " 'c) Phase 1/Phase 2',\n",
       " 'd) Phase 2',\n",
       " 'e) Phase 2/Phase 3',\n",
       " 'e) Phase 3',\n",
       " 'f) Phase 4',\n",
       " 'g) Not Applicable',\n",
       " 'h) Missing']"
      ]
     },
     "execution_count": 439,
     "metadata": {},
     "output_type": "execute_result"
    }
   ],
   "source": []
  },
  {
   "cell_type": "code",
   "execution_count": 440,
   "metadata": {},
   "outputs": [
    {
     "data": {
      "image/png": "[encoded data removed]",
      "text/plain": [
       "<Figure size 1164.96x720 with 1 Axes>"
      ]
     },
     "metadata": {},
     "output_type": "display_data"
    }
   ],
   "source": []
  },
  {
   "cell_type": "code",
   "execution_count": 425,
   "metadata": {},
   "outputs": [
    {
     "data": {
      "text/html": [
       "<div>\n",
       "<style scoped>\n",
       "    .dataframe tbody tr th:only-of-type {\n",
       "        vertical-align: middle;\n",
       "    }\n",
       "\n",
       "    .dataframe tbody tr th {\n",
       "        vertical-align: top;\n",
       "    }\n",
       "\n",
       "    .dataframe thead th {\n",
       "        text-align: right;\n",
       "    }\n",
       "</style>\n",
       "<table border=\"1\" class=\"dataframe\">\n",
       "  <thead>\n",
       "    <tr style=\"text-align: right;\">\n",
       "      <th>mapped_phase</th>\n",
       "      <th>start_year</th>\n",
       "      <th>a) Early Phase 1</th>\n",
       "      <th>b) Phase 1</th>\n",
       "      <th>c) Phase 1/Phase 2</th>\n",
       "      <th>d) Phase 2</th>\n",
       "      <th>e) Phase 2/Phase 3</th>\n",
       "      <th>e) Phase 3</th>\n",
       "      <th>f) Phase 4</th>\n",
       "      <th>g) Not Applicable</th>\n",
       "      <th>h) Missing</th>\n",
       "    </tr>\n",
       "  </thead>\n",
       "  <tbody>\n",
       "    <tr>\n",
       "      <th>21</th>\n",
       "      <td>2021</td>\n",
       "      <td>78.0</td>\n",
       "      <td>542.0</td>\n",
       "      <td>273.0</td>\n",
       "      <td>879.0</td>\n",
       "      <td>32.0</td>\n",
       "      <td>251.0</td>\n",
       "      <td>60.0</td>\n",
       "      <td>1140.0</td>\n",
       "      <td>944.0</td>\n",
       "    </tr>\n",
       "  </tbody>\n",
       "</table>\n",
       "</div>"
      ],
      "text/plain": [
       "mapped_phase start_year  a) Early Phase 1  b) Phase 1  c) Phase 1/Phase 2  \\\n",
       "21                 2021              78.0       542.0               273.0   \n",
       "\n",
       "mapped_phase  d) Phase 2  e) Phase 2/Phase 3  e) Phase 3  f) Phase 4  \\\n",
       "21                 879.0                32.0       251.0        60.0   \n",
       "\n",
       "mapped_phase  g) Not Applicable  h) Missing  \n",
       "21                       1140.0       944.0  "
      ]
     },
     "execution_count": 425,
     "metadata": {},
     "output_type": "execute_result"
    }
   ],
   "source": []
  },
  {
   "cell_type": "code",
   "execution_count": 419,
   "metadata": {},
   "outputs": [
    {
     "ename": "KeyError",
     "evalue": "'nct_id'",
     "output_type": "error",
     "traceback": [
      "\u001b[0;31m---------------------------------------------------------------------------\u001b[0m",
      "\u001b[0;31mKeyError\u001b[0m                                  Traceback (most recent call last)",
      "\u001b[0;32m~/miniconda3/envs/trialtrackerenv_py36/lib/python3.6/site-packages/pandas/core/indexes/base.py\u001b[0m in \u001b[0;36mget_loc\u001b[0;34m(self, key, method, tolerance)\u001b[0m\n\u001b[1;32m   2894\u001b[0m             \u001b[0;32mtry\u001b[0m\u001b[0;34m:\u001b[0m\u001b[0;34m\u001b[0m\u001b[0;34m\u001b[0m\u001b[0m\n\u001b[0;32m-> 2895\u001b[0;31m                 \u001b[0;32mreturn\u001b[0m \u001b[0mself\u001b[0m\u001b[0;34m.\u001b[0m\u001b[0m_engine\u001b[0m\u001b[0;34m.\u001b[0m\u001b[0mget_loc\u001b[0m\u001b[0;34m(\u001b[0m\u001b[0mcasted_key\u001b[0m\u001b[0;34m)\u001b[0m\u001b[0;34m\u001b[0m\u001b[0;34m\u001b[0m\u001b[0m\n\u001b[0m\u001b[1;32m   2896\u001b[0m             \u001b[0;32mexcept\u001b[0m \u001b[0mKeyError\u001b[0m \u001b[0;32mas\u001b[0m \u001b[0merr\u001b[0m\u001b[0;34m:\u001b[0m\u001b[0;34m\u001b[0m\u001b[0;34m\u001b[0m\u001b[0m\n",
      "\u001b[0;32mpandas/_libs/index.pyx\u001b[0m in \u001b[0;36mpandas._libs.index.IndexEngine.get_loc\u001b[0;34m()\u001b[0m\n",
      "\u001b[0;32mpandas/_libs/index.pyx\u001b[0m in \u001b[0;36mpandas._libs.index.IndexEngine.get_loc\u001b[0;34m()\u001b[0m\n",
      "\u001b[0;32mpandas/_libs/hashtable_class_helper.pxi\u001b[0m in \u001b[0;36mpandas._libs.hashtable.PyObjectHashTable.get_item\u001b[0;34m()\u001b[0m\n",
      "\u001b[0;32mpandas/_libs/hashtable_class_helper.pxi\u001b[0m in \u001b[0;36mpandas._libs.hashtable.PyObjectHashTable.get_item\u001b[0;34m()\u001b[0m\n",
      "\u001b[0;31mKeyError\u001b[0m: 'nct_id'",
      "\nThe above exception was the direct cause of the following exception:\n",
      "\u001b[0;31mKeyError\u001b[0m                                  Traceback (most recent call last)",
      "\u001b[0;32m<ipython-input-419-ccccfaf149b3>\u001b[0m in \u001b[0;36m<module>\u001b[0;34m\u001b[0m\n\u001b[0;32m----> 1\u001b[0;31m \u001b[0mdf\u001b[0m\u001b[0;34m[\u001b[0m\u001b[0;34m'past_year_count'\u001b[0m\u001b[0;34m]\u001b[0m \u001b[0;34m=\u001b[0m \u001b[0mdf\u001b[0m\u001b[0;34m[\u001b[0m\u001b[0;34m'nct_id'\u001b[0m\u001b[0;34m]\u001b[0m\u001b[0;34m.\u001b[0m\u001b[0mshift\u001b[0m\u001b[0;34m(\u001b[0m\u001b[0;36m1\u001b[0m\u001b[0;34m)\u001b[0m\u001b[0;34m\u001b[0m\u001b[0;34m\u001b[0m\u001b[0m\n\u001b[0m\u001b[1;32m      2\u001b[0m \u001b[0mdf\u001b[0m\u001b[0;34m[\u001b[0m\u001b[0;34m'yoy_perc_change'\u001b[0m\u001b[0;34m]\u001b[0m\u001b[0;34m=\u001b[0m\u001b[0mdf\u001b[0m\u001b[0;34m.\u001b[0m\u001b[0mnct_id\u001b[0m\u001b[0;34m/\u001b[0m\u001b[0mdf\u001b[0m\u001b[0;34m[\u001b[0m\u001b[0;34m'past_year_count'\u001b[0m\u001b[0;34m]\u001b[0m\u001b[0;34m-\u001b[0m\u001b[0;36m1\u001b[0m\u001b[0;34m\u001b[0m\u001b[0;34m\u001b[0m\u001b[0m\n\u001b[1;32m      3\u001b[0m \u001b[0mdf\u001b[0m\u001b[0;34m.\u001b[0m\u001b[0mhead\u001b[0m\u001b[0;34m(\u001b[0m\u001b[0;34m)\u001b[0m\u001b[0;34m\u001b[0m\u001b[0;34m\u001b[0m\u001b[0m\n",
      "\u001b[0;32m~/miniconda3/envs/trialtrackerenv_py36/lib/python3.6/site-packages/pandas/core/frame.py\u001b[0m in \u001b[0;36m__getitem__\u001b[0;34m(self, key)\u001b[0m\n\u001b[1;32m   2900\u001b[0m             \u001b[0;32mif\u001b[0m \u001b[0mself\u001b[0m\u001b[0;34m.\u001b[0m\u001b[0mcolumns\u001b[0m\u001b[0;34m.\u001b[0m\u001b[0mnlevels\u001b[0m \u001b[0;34m>\u001b[0m \u001b[0;36m1\u001b[0m\u001b[0;34m:\u001b[0m\u001b[0;34m\u001b[0m\u001b[0;34m\u001b[0m\u001b[0m\n\u001b[1;32m   2901\u001b[0m                 \u001b[0;32mreturn\u001b[0m \u001b[0mself\u001b[0m\u001b[0;34m.\u001b[0m\u001b[0m_getitem_multilevel\u001b[0m\u001b[0;34m(\u001b[0m\u001b[0mkey\u001b[0m\u001b[0;34m)\u001b[0m\u001b[0;34m\u001b[0m\u001b[0;34m\u001b[0m\u001b[0m\n\u001b[0;32m-> 2902\u001b[0;31m             \u001b[0mindexer\u001b[0m \u001b[0;34m=\u001b[0m \u001b[0mself\u001b[0m\u001b[0;34m.\u001b[0m\u001b[0mcolumns\u001b[0m\u001b[0;34m.\u001b[0m\u001b[0mget_loc\u001b[0m\u001b[0;34m(\u001b[0m\u001b[0mkey\u001b[0m\u001b[0;34m)\u001b[0m\u001b[0;34m\u001b[0m\u001b[0;34m\u001b[0m\u001b[0m\n\u001b[0m\u001b[1;32m   2903\u001b[0m             \u001b[0;32mif\u001b[0m \u001b[0mis_integer\u001b[0m\u001b[0;34m(\u001b[0m\u001b[0mindexer\u001b[0m\u001b[0;34m)\u001b[0m\u001b[0;34m:\u001b[0m\u001b[0;34m\u001b[0m\u001b[0;34m\u001b[0m\u001b[0m\n\u001b[1;32m   2904\u001b[0m                 \u001b[0mindexer\u001b[0m \u001b[0;34m=\u001b[0m \u001b[0;34m[\u001b[0m\u001b[0mindexer\u001b[0m\u001b[0;34m]\u001b[0m\u001b[0;34m\u001b[0m\u001b[0;34m\u001b[0m\u001b[0m\n",
      "\u001b[0;32m~/miniconda3/envs/trialtrackerenv_py36/lib/python3.6/site-packages/pandas/core/indexes/base.py\u001b[0m in \u001b[0;36mget_loc\u001b[0;34m(self, key, method, tolerance)\u001b[0m\n\u001b[1;32m   2895\u001b[0m                 \u001b[0;32mreturn\u001b[0m \u001b[0mself\u001b[0m\u001b[0;34m.\u001b[0m\u001b[0m_engine\u001b[0m\u001b[0;34m.\u001b[0m\u001b[0mget_loc\u001b[0m\u001b[0;34m(\u001b[0m\u001b[0mcasted_key\u001b[0m\u001b[0;34m)\u001b[0m\u001b[0;34m\u001b[0m\u001b[0;34m\u001b[0m\u001b[0m\n\u001b[1;32m   2896\u001b[0m             \u001b[0;32mexcept\u001b[0m \u001b[0mKeyError\u001b[0m \u001b[0;32mas\u001b[0m \u001b[0merr\u001b[0m\u001b[0;34m:\u001b[0m\u001b[0;34m\u001b[0m\u001b[0;34m\u001b[0m\u001b[0m\n\u001b[0;32m-> 2897\u001b[0;31m                 \u001b[0;32mraise\u001b[0m \u001b[0mKeyError\u001b[0m\u001b[0;34m(\u001b[0m\u001b[0mkey\u001b[0m\u001b[0;34m)\u001b[0m \u001b[0;32mfrom\u001b[0m \u001b[0merr\u001b[0m\u001b[0;34m\u001b[0m\u001b[0;34m\u001b[0m\u001b[0m\n\u001b[0m\u001b[1;32m   2898\u001b[0m \u001b[0;34m\u001b[0m\u001b[0m\n\u001b[1;32m   2899\u001b[0m         \u001b[0;32mif\u001b[0m \u001b[0mtolerance\u001b[0m \u001b[0;32mis\u001b[0m \u001b[0;32mnot\u001b[0m \u001b[0;32mNone\u001b[0m\u001b[0;34m:\u001b[0m\u001b[0;34m\u001b[0m\u001b[0;34m\u001b[0m\u001b[0m\n",
      "\u001b[0;31mKeyError\u001b[0m: 'nct_id'"
     ]
    }
   ],
   "source": [
    "df['past_year_count'] = df['nct_id'].shift(1)\n",
    "df['yoy_perc_change']=df.nct_id/df['past_year_count']-1\n",
    "df.head()"
   ]
  },
  {
   "cell_type": "code",
   "execution_count": 385,
   "metadata": {},
   "outputs": [
    {
     "data": {
      "text/plain": [
       "0.09206959266777796"
      ]
     },
     "execution_count": 385,
     "metadata": {},
     "output_type": "execute_result"
    }
   ],
   "source": [
    "df[df.start_year.dt.year<=2020].yoy_perc_change.mean()"
   ]
  },
  {
   "cell_type": "code",
   "execution_count": 386,
   "metadata": {},
   "outputs": [
    {
     "data": {
      "text/html": [
       "<div>\n",
       "<style scoped>\n",
       "    .dataframe tbody tr th:only-of-type {\n",
       "        vertical-align: middle;\n",
       "    }\n",
       "\n",
       "    .dataframe tbody tr th {\n",
       "        vertical-align: top;\n",
       "    }\n",
       "\n",
       "    .dataframe thead th {\n",
       "        text-align: right;\n",
       "    }\n",
       "</style>\n",
       "<table border=\"1\" class=\"dataframe\">\n",
       "  <thead>\n",
       "    <tr style=\"text-align: right;\">\n",
       "      <th></th>\n",
       "      <th>start_year</th>\n",
       "      <th>nct_id</th>\n",
       "      <th>past_year_count</th>\n",
       "      <th>yoy_perc_change</th>\n",
       "    </tr>\n",
       "  </thead>\n",
       "  <tbody>\n",
       "    <tr>\n",
       "      <th>17</th>\n",
       "      <td>2017</td>\n",
       "      <td>3321</td>\n",
       "      <td>3203.0</td>\n",
       "      <td>0.036840</td>\n",
       "    </tr>\n",
       "    <tr>\n",
       "      <th>18</th>\n",
       "      <td>2018</td>\n",
       "      <td>3571</td>\n",
       "      <td>3321.0</td>\n",
       "      <td>0.075279</td>\n",
       "    </tr>\n",
       "    <tr>\n",
       "      <th>19</th>\n",
       "      <td>2019</td>\n",
       "      <td>3668</td>\n",
       "      <td>3571.0</td>\n",
       "      <td>0.027163</td>\n",
       "    </tr>\n",
       "    <tr>\n",
       "      <th>20</th>\n",
       "      <td>2020</td>\n",
       "      <td>3733</td>\n",
       "      <td>3668.0</td>\n",
       "      <td>0.017721</td>\n",
       "    </tr>\n",
       "    <tr>\n",
       "      <th>21</th>\n",
       "      <td>2021</td>\n",
       "      <td>4199</td>\n",
       "      <td>3733.0</td>\n",
       "      <td>0.124833</td>\n",
       "    </tr>\n",
       "  </tbody>\n",
       "</table>\n",
       "</div>"
      ],
      "text/plain": [
       "   start_year  nct_id  past_year_count  yoy_perc_change\n",
       "17       2017    3321           3203.0         0.036840\n",
       "18       2018    3571           3321.0         0.075279\n",
       "19       2019    3668           3571.0         0.027163\n",
       "20       2020    3733           3668.0         0.017721\n",
       "21       2021    4199           3733.0         0.124833"
      ]
     },
     "execution_count": 386,
     "metadata": {},
     "output_type": "execute_result"
    }
   ],
   "source": [
    "df.tail()"
   ]
  },
  {
   "cell_type": "code",
   "execution_count": 403,
   "metadata": {},
   "outputs": [],
   "source": [
    "#analyze eligibility criteria"
   ]
  },
  {
   "cell_type": "code",
   "execution_count": 398,
   "metadata": {},
   "outputs": [],
   "source": [
    "ct = pd.read_csv(\"./extract/extracted_data/ie_parsed_clinical_trials.tsv\", sep='\\t')\n"
   ]
  },
  {
   "cell_type": "code",
   "execution_count": 401,
   "metadata": {},
   "outputs": [
    {
     "data": {
      "text/html": [
       "<div>\n",
       "<style scoped>\n",
       "    .dataframe tbody tr th:only-of-type {\n",
       "        vertical-align: middle;\n",
       "    }\n",
       "\n",
       "    .dataframe tbody tr th {\n",
       "        vertical-align: top;\n",
       "    }\n",
       "\n",
       "    .dataframe thead th {\n",
       "        text-align: right;\n",
       "    }\n",
       "</style>\n",
       "<table border=\"1\" class=\"dataframe\">\n",
       "  <thead>\n",
       "    <tr style=\"text-align: right;\">\n",
       "      <th></th>\n",
       "      <th>nct_id</th>\n",
       "      <th>eligibility_type</th>\n",
       "      <th>criterion</th>\n",
       "      <th>label</th>\n",
       "      <th>term</th>\n",
       "      <th>ner_score</th>\n",
       "      <th>concepts</th>\n",
       "      <th>tree_numbers</th>\n",
       "      <th>nel_score</th>\n",
       "    </tr>\n",
       "  </thead>\n",
       "  <tbody>\n",
       "    <tr>\n",
       "      <th>0</th>\n",
       "      <td>NCT00030264</td>\n",
       "      <td>inclusion</td>\n",
       "      <td>Progressive, debilitating, severely disfigurin...</td>\n",
       "      <td>word_scores:cancer</td>\n",
       "      <td>tumor</td>\n",
       "      <td>0.850</td>\n",
       "      <td>Neoplasms</td>\n",
       "      <td>C04</td>\n",
       "      <td>1.0</td>\n",
       "    </tr>\n",
       "    <tr>\n",
       "      <th>1</th>\n",
       "      <td>NCT00030264</td>\n",
       "      <td>inclusion</td>\n",
       "      <td>Progressive, debilitating, severely disfigurin...</td>\n",
       "      <td>word_scores:cancer</td>\n",
       "      <td>tumor must</td>\n",
       "      <td>0.769</td>\n",
       "      <td>NaN</td>\n",
       "      <td>NaN</td>\n",
       "      <td>NaN</td>\n",
       "    </tr>\n",
       "    <tr>\n",
       "      <th>2</th>\n",
       "      <td>NCT00030264</td>\n",
       "      <td>inclusion</td>\n",
       "      <td>Progressive, debilitating, severely disfigurin...</td>\n",
       "      <td>word_scores:treatment</td>\n",
       "      <td>therapy</td>\n",
       "      <td>0.760</td>\n",
       "      <td>Therapeutics</td>\n",
       "      <td>E02</td>\n",
       "      <td>1.0</td>\n",
       "    </tr>\n",
       "    <tr>\n",
       "      <th>3</th>\n",
       "      <td>NCT00030264</td>\n",
       "      <td>inclusion</td>\n",
       "      <td>or more café-au-lait spots &gt; 0.5 cm in prepube...</td>\n",
       "      <td>word_scores:clinical_variable</td>\n",
       "      <td>café-au-lait spots</td>\n",
       "      <td>0.845</td>\n",
       "      <td>NaN</td>\n",
       "      <td>NaN</td>\n",
       "      <td>NaN</td>\n",
       "    </tr>\n",
       "    <tr>\n",
       "      <th>4</th>\n",
       "      <td>NCT00030264</td>\n",
       "      <td>inclusion</td>\n",
       "      <td>Adequate bone marrow, renal, hepatic function</td>\n",
       "      <td>word_scores:chronic_disease</td>\n",
       "      <td>renal hepatic function</td>\n",
       "      <td>0.807</td>\n",
       "      <td>Kidney</td>\n",
       "      <td>A05.810.453</td>\n",
       "      <td>1.0</td>\n",
       "    </tr>\n",
       "  </tbody>\n",
       "</table>\n",
       "</div>"
      ],
      "text/plain": [
       "        nct_id eligibility_type  \\\n",
       "0  NCT00030264        inclusion   \n",
       "1  NCT00030264        inclusion   \n",
       "2  NCT00030264        inclusion   \n",
       "3  NCT00030264        inclusion   \n",
       "4  NCT00030264        inclusion   \n",
       "\n",
       "                                           criterion  \\\n",
       "0  Progressive, debilitating, severely disfigurin...   \n",
       "1  Progressive, debilitating, severely disfigurin...   \n",
       "2  Progressive, debilitating, severely disfigurin...   \n",
       "3  or more café-au-lait spots > 0.5 cm in prepube...   \n",
       "4      Adequate bone marrow, renal, hepatic function   \n",
       "\n",
       "                           label                    term  ner_score  \\\n",
       "0             word_scores:cancer                   tumor      0.850   \n",
       "1             word_scores:cancer              tumor must      0.769   \n",
       "2          word_scores:treatment                 therapy      0.760   \n",
       "3  word_scores:clinical_variable      café-au-lait spots      0.845   \n",
       "4    word_scores:chronic_disease  renal hepatic function      0.807   \n",
       "\n",
       "       concepts tree_numbers  nel_score  \n",
       "0     Neoplasms          C04        1.0  \n",
       "1           NaN          NaN        NaN  \n",
       "2  Therapeutics          E02        1.0  \n",
       "3           NaN          NaN        NaN  \n",
       "4        Kidney  A05.810.453        1.0  "
      ]
     },
     "execution_count": 401,
     "metadata": {},
     "output_type": "execute_result"
    }
   ],
   "source": [
    "ct.rename(columns={'#nct_id':'nct_id'}, inplace=True)\n",
    "ct.head()"
   ]
  },
  {
   "cell_type": "code",
   "execution_count": 418,
   "metadata": {},
   "outputs": [
    {
     "data": {
      "text/plain": [
       "Women                             0.063121\n",
       "Therapeutics                      0.057018\n",
       "Pregnancy                         0.036463\n",
       "Cancer                            0.028253\n",
       "Drug Therapy                      0.024273\n",
       "Men                               0.019582\n",
       "Radiotherapy                      0.015020\n",
       "Bilirubin                         0.013900\n",
       "Radiation|Radiotherapy            0.012491\n",
       "ECOG                              0.012150\n",
       "Neoplasms                         0.011599\n",
       "Myocardial Infarction             0.011501\n",
       "Congestive Heart Failure          0.011429\n",
       "Breast Cancer                     0.010787\n",
       "Angina, Unstable                  0.010636\n",
       "Brain Cancer|Brain Metastases     0.010354\n",
       "Life Expectancy                   0.008883\n",
       "Hepatitis B                       0.008134\n",
       "Arrhythmias, Cardiac              0.008078\n",
       "Pregnancy Tests                   0.007916\n",
       "Hemoglobin E|Hemoglobins          0.007810\n",
       "HIV                               0.007394\n",
       "Hepatitis C                       0.006903\n",
       "Autoimmune Diseases               0.006875\n",
       "Prostate Cancer                   0.006796\n",
       "Hypertension                      0.006619\n",
       "Platelet Count                    0.006523\n",
       "Immunotherapy                     0.006494\n",
       "Blood Platelets                   0.006090\n",
       "Adrenal Cortex Hormones           0.006065\n",
       "Steroids                          0.005962\n",
       "Carcinoma, Non-Small-Cell Lung    0.005777\n",
       "Aspartate Aminotransferases       0.005684\n",
       "Alanine Transaminase              0.005679\n",
       "Magnetic Resonance Imaging        0.005415\n",
       "HIV|HIV Infections|HIV Testing    0.005293\n",
       "Creatinine                        0.005179\n",
       "Factive                           0.005133\n",
       "Neoplasm Metastasis               0.005039\n",
       "Biopsy                            0.004935\n",
       "Name: concepts, dtype: float64"
      ]
     },
     "execution_count": 418,
     "metadata": {},
     "output_type": "execute_result"
    }
   ],
   "source": [
    "ct.concepts.value_counts(normalize=True).head(40)\n",
    "#TODO: check what proportion of trials contain each term, ie ECOG"
   ]
  },
  {
   "cell_type": "code",
   "execution_count": 7,
   "metadata": {},
   "outputs": [
    {
     "ename": "NameError",
     "evalue": "name 'ct' is not defined",
     "output_type": "error",
     "traceback": [
      "\u001b[0;31m---------------------------------------------------------------------------\u001b[0m",
      "\u001b[0;31mNameError\u001b[0m                                 Traceback (most recent call last)",
      "\u001b[0;32m<ipython-input-7-47dd0ef1b7f7>\u001b[0m in \u001b[0;36m<module>\u001b[0;34m\u001b[0m\n\u001b[0;32m----> 1\u001b[0;31m \u001b[0monc_trials\u001b[0m\u001b[0;34m[\u001b[0m\u001b[0;34m'matches'\u001b[0m\u001b[0;34m]\u001b[0m \u001b[0;34m=\u001b[0m \u001b[0mct\u001b[0m\u001b[0;34m[\u001b[0m\u001b[0;34m'names'\u001b[0m\u001b[0;34m]\u001b[0m\u001b[0;34m.\u001b[0m\u001b[0mapply\u001b[0m\u001b[0;34m(\u001b[0m\u001b[0;32mlambda\u001b[0m \u001b[0mx\u001b[0m\u001b[0;34m:\u001b[0m \u001b[0mprocess\u001b[0m\u001b[0;34m.\u001b[0m\u001b[0mextractOne\u001b[0m\u001b[0;34m(\u001b[0m\u001b[0mx\u001b[0m\u001b[0;34m,\u001b[0m \u001b[0mgroup\u001b[0m\u001b[0;34m[\u001b[0m\u001b[0;34m'names'\u001b[0m\u001b[0;34m]\u001b[0m\u001b[0;34m.\u001b[0m\u001b[0mto_list\u001b[0m\u001b[0;34m(\u001b[0m\u001b[0;34m)\u001b[0m\u001b[0;34m)\u001b[0m\u001b[0;34m)\u001b[0m\u001b[0;34m\u001b[0m\u001b[0;34m\u001b[0m\u001b[0m\n\u001b[0m",
      "\u001b[0;31mNameError\u001b[0m: name 'ct' is not defined"
     ]
    }
   ],
   "source": [
    "onc_trials['matches'] = ct['names'].apply(lambda x: process.extractOne(x, group['names'].to_list()))"
   ]
  },
  {
   "cell_type": "code",
   "execution_count": 36,
   "metadata": {},
   "outputs": [
    {
     "name": "stdout",
     "output_type": "stream",
     "text": [
      "54404 cancer trials.\n"
     ]
    }
   ],
   "source": []
  },
  {
   "cell_type": "code",
   "execution_count": 37,
   "metadata": {},
   "outputs": [
    {
     "data": {
      "text/plain": [
       "Index(['nct_id', 'title', 'has_us_facility', 'conditions',\n",
       "       'eligibility_criteria', 'start_date', 'lead_sponsor', 'summary',\n",
       "       'overall_status', 'phase', 'enrollment', 'enrollment_type',\n",
       "       'study_type', 'number_of_arms', 'number_of_groups', 'why_stopped',\n",
       "       'has_dmc', 'is_fda_regulated_drug', 'is_fda_regulated_device',\n",
       "       'is_unapproved_device', 'is_ppsd', 'is_us_export'],\n",
       "      dtype='object')"
      ]
     },
     "execution_count": 37,
     "metadata": {},
     "output_type": "execute_result"
    }
   ],
   "source": [
    "onc_trials.columns"
   ]
  },
  {
   "cell_type": "code",
   "execution_count": 93,
   "metadata": {},
   "outputs": [
    {
     "data": {
      "text/html": [
       "<div>\n",
       "<style scoped>\n",
       "    .dataframe tbody tr th:only-of-type {\n",
       "        vertical-align: middle;\n",
       "    }\n",
       "\n",
       "    .dataframe tbody tr th {\n",
       "        vertical-align: top;\n",
       "    }\n",
       "\n",
       "    .dataframe thead th {\n",
       "        text-align: right;\n",
       "    }\n",
       "</style>\n",
       "<table border=\"1\" class=\"dataframe\">\n",
       "  <thead>\n",
       "    <tr style=\"text-align: right;\">\n",
       "      <th></th>\n",
       "      <th>phase</th>\n",
       "      <th>study_count</th>\n",
       "      <th>study_percent</th>\n",
       "    </tr>\n",
       "  </thead>\n",
       "  <tbody>\n",
       "    <tr>\n",
       "      <th>0</th>\n",
       "      <td>Phase 2</td>\n",
       "      <td>13283</td>\n",
       "      <td>0.304866</td>\n",
       "    </tr>\n",
       "    <tr>\n",
       "      <th>1</th>\n",
       "      <td>Not Applicable</td>\n",
       "      <td>11757</td>\n",
       "      <td>0.269842</td>\n",
       "    </tr>\n",
       "    <tr>\n",
       "      <th>2</th>\n",
       "      <td>Phase 1</td>\n",
       "      <td>8162</td>\n",
       "      <td>0.187331</td>\n",
       "    </tr>\n",
       "    <tr>\n",
       "      <th>3</th>\n",
       "      <td>Phase 3</td>\n",
       "      <td>4547</td>\n",
       "      <td>0.104361</td>\n",
       "    </tr>\n",
       "    <tr>\n",
       "      <th>4</th>\n",
       "      <td>Phase 1/Phase 2</td>\n",
       "      <td>3467</td>\n",
       "      <td>0.079573</td>\n",
       "    </tr>\n",
       "    <tr>\n",
       "      <th>5</th>\n",
       "      <td>Phase 4</td>\n",
       "      <td>1063</td>\n",
       "      <td>0.024398</td>\n",
       "    </tr>\n",
       "    <tr>\n",
       "      <th>6</th>\n",
       "      <td>Early Phase 1</td>\n",
       "      <td>681</td>\n",
       "      <td>0.015630</td>\n",
       "    </tr>\n",
       "    <tr>\n",
       "      <th>7</th>\n",
       "      <td>Phase 2/Phase 3</td>\n",
       "      <td>610</td>\n",
       "      <td>0.014000</td>\n",
       "    </tr>\n",
       "  </tbody>\n",
       "</table>\n",
       "</div>"
      ],
      "text/plain": [
       "             phase  study_count  study_percent\n",
       "0          Phase 2        13283       0.304866\n",
       "1   Not Applicable        11757       0.269842\n",
       "2          Phase 1         8162       0.187331\n",
       "3          Phase 3         4547       0.104361\n",
       "4  Phase 1/Phase 2         3467       0.079573\n",
       "5          Phase 4         1063       0.024398\n",
       "6    Early Phase 1          681       0.015630\n",
       "7  Phase 2/Phase 3          610       0.014000"
      ]
     },
     "execution_count": 93,
     "metadata": {},
     "output_type": "execute_result"
    }
   ],
   "source": [
    "breakdown(onc_trials, \"phase\")"
   ]
  },
  {
   "cell_type": "code",
   "execution_count": 97,
   "metadata": {},
   "outputs": [
    {
     "data": {
      "text/html": [
       "<div>\n",
       "<style scoped>\n",
       "    .dataframe tbody tr th:only-of-type {\n",
       "        vertical-align: middle;\n",
       "    }\n",
       "\n",
       "    .dataframe tbody tr th {\n",
       "        vertical-align: top;\n",
       "    }\n",
       "\n",
       "    .dataframe thead th {\n",
       "        text-align: right;\n",
       "    }\n",
       "</style>\n",
       "<table border=\"1\" class=\"dataframe\">\n",
       "  <thead>\n",
       "    <tr style=\"text-align: right;\">\n",
       "      <th></th>\n",
       "      <th>study_type</th>\n",
       "      <th>study_count</th>\n",
       "      <th>study_percent</th>\n",
       "    </tr>\n",
       "  </thead>\n",
       "  <tbody>\n",
       "    <tr>\n",
       "      <th>0</th>\n",
       "      <td>Interventional</td>\n",
       "      <td>43571</td>\n",
       "      <td>0.800879</td>\n",
       "    </tr>\n",
       "    <tr>\n",
       "      <th>1</th>\n",
       "      <td>Observational</td>\n",
       "      <td>9654</td>\n",
       "      <td>0.177450</td>\n",
       "    </tr>\n",
       "    <tr>\n",
       "      <th>2</th>\n",
       "      <td>Observational [Patient Registry]</td>\n",
       "      <td>1019</td>\n",
       "      <td>0.018730</td>\n",
       "    </tr>\n",
       "    <tr>\n",
       "      <th>3</th>\n",
       "      <td>Expanded Access</td>\n",
       "      <td>160</td>\n",
       "      <td>0.002941</td>\n",
       "    </tr>\n",
       "  </tbody>\n",
       "</table>\n",
       "</div>"
      ],
      "text/plain": [
       "                         study_type  study_count  study_percent\n",
       "0                    Interventional        43571       0.800879\n",
       "1                     Observational         9654       0.177450\n",
       "2  Observational [Patient Registry]         1019       0.018730\n",
       "3                   Expanded Access          160       0.002941"
      ]
     },
     "execution_count": 97,
     "metadata": {},
     "output_type": "execute_result"
    }
   ],
   "source": [
    "breakdown(onc_trials, \"study_type\")"
   ]
  },
  {
   "cell_type": "code",
   "execution_count": 98,
   "metadata": {},
   "outputs": [
    {
     "data": {
      "text/html": [
       "<div>\n",
       "<style scoped>\n",
       "    .dataframe tbody tr th:only-of-type {\n",
       "        vertical-align: middle;\n",
       "    }\n",
       "\n",
       "    .dataframe tbody tr th {\n",
       "        vertical-align: top;\n",
       "    }\n",
       "\n",
       "    .dataframe thead th {\n",
       "        text-align: right;\n",
       "    }\n",
       "</style>\n",
       "<table border=\"1\" class=\"dataframe\">\n",
       "  <thead>\n",
       "    <tr style=\"text-align: right;\">\n",
       "      <th></th>\n",
       "      <th>overall_status</th>\n",
       "      <th>study_count</th>\n",
       "      <th>study_percent</th>\n",
       "    </tr>\n",
       "  </thead>\n",
       "  <tbody>\n",
       "    <tr>\n",
       "      <th>0</th>\n",
       "      <td>Completed</td>\n",
       "      <td>23604</td>\n",
       "      <td>0.433865</td>\n",
       "    </tr>\n",
       "    <tr>\n",
       "      <th>1</th>\n",
       "      <td>Recruiting</td>\n",
       "      <td>10866</td>\n",
       "      <td>0.199728</td>\n",
       "    </tr>\n",
       "    <tr>\n",
       "      <th>2</th>\n",
       "      <td>Unknown status</td>\n",
       "      <td>6471</td>\n",
       "      <td>0.118943</td>\n",
       "    </tr>\n",
       "    <tr>\n",
       "      <th>3</th>\n",
       "      <td>Terminated</td>\n",
       "      <td>4555</td>\n",
       "      <td>0.083725</td>\n",
       "    </tr>\n",
       "    <tr>\n",
       "      <th>4</th>\n",
       "      <td>Active, not recruiting</td>\n",
       "      <td>3987</td>\n",
       "      <td>0.073285</td>\n",
       "    </tr>\n",
       "    <tr>\n",
       "      <th>5</th>\n",
       "      <td>Not yet recruiting</td>\n",
       "      <td>2502</td>\n",
       "      <td>0.045989</td>\n",
       "    </tr>\n",
       "    <tr>\n",
       "      <th>6</th>\n",
       "      <td>Withdrawn</td>\n",
       "      <td>1694</td>\n",
       "      <td>0.031137</td>\n",
       "    </tr>\n",
       "    <tr>\n",
       "      <th>7</th>\n",
       "      <td>Enrolling by invitation</td>\n",
       "      <td>322</td>\n",
       "      <td>0.005919</td>\n",
       "    </tr>\n",
       "    <tr>\n",
       "      <th>8</th>\n",
       "      <td>Suspended</td>\n",
       "      <td>243</td>\n",
       "      <td>0.004467</td>\n",
       "    </tr>\n",
       "    <tr>\n",
       "      <th>9</th>\n",
       "      <td>No longer available</td>\n",
       "      <td>75</td>\n",
       "      <td>0.001379</td>\n",
       "    </tr>\n",
       "    <tr>\n",
       "      <th>10</th>\n",
       "      <td>Available</td>\n",
       "      <td>45</td>\n",
       "      <td>0.000827</td>\n",
       "    </tr>\n",
       "    <tr>\n",
       "      <th>11</th>\n",
       "      <td>Approved for marketing</td>\n",
       "      <td>36</td>\n",
       "      <td>0.000662</td>\n",
       "    </tr>\n",
       "    <tr>\n",
       "      <th>12</th>\n",
       "      <td>Temporarily not available</td>\n",
       "      <td>4</td>\n",
       "      <td>0.000074</td>\n",
       "    </tr>\n",
       "  </tbody>\n",
       "</table>\n",
       "</div>"
      ],
      "text/plain": [
       "               overall_status  study_count  study_percent\n",
       "0                   Completed        23604       0.433865\n",
       "1                  Recruiting        10866       0.199728\n",
       "2              Unknown status         6471       0.118943\n",
       "3                  Terminated         4555       0.083725\n",
       "4      Active, not recruiting         3987       0.073285\n",
       "5          Not yet recruiting         2502       0.045989\n",
       "6                   Withdrawn         1694       0.031137\n",
       "7     Enrolling by invitation          322       0.005919\n",
       "8                   Suspended          243       0.004467\n",
       "9         No longer available           75       0.001379\n",
       "10                  Available           45       0.000827\n",
       "11     Approved for marketing           36       0.000662\n",
       "12  Temporarily not available            4       0.000074"
      ]
     },
     "execution_count": 98,
     "metadata": {},
     "output_type": "execute_result"
    }
   ],
   "source": [
    "breakdown(onc_trials, \"overall_status\")"
   ]
  },
  {
   "cell_type": "code",
   "execution_count": 99,
   "metadata": {},
   "outputs": [
    {
     "data": {
      "text/html": [
       "<div>\n",
       "<style scoped>\n",
       "    .dataframe tbody tr th:only-of-type {\n",
       "        vertical-align: middle;\n",
       "    }\n",
       "\n",
       "    .dataframe tbody tr th {\n",
       "        vertical-align: top;\n",
       "    }\n",
       "\n",
       "    .dataframe thead th {\n",
       "        text-align: right;\n",
       "    }\n",
       "</style>\n",
       "<table border=\"1\" class=\"dataframe\">\n",
       "  <thead>\n",
       "    <tr style=\"text-align: right;\">\n",
       "      <th></th>\n",
       "      <th>why_stopped</th>\n",
       "      <th>study_count</th>\n",
       "      <th>study_percent</th>\n",
       "    </tr>\n",
       "  </thead>\n",
       "  <tbody>\n",
       "    <tr>\n",
       "      <th>0</th>\n",
       "      <td>Slow accrual</td>\n",
       "      <td>127</td>\n",
       "      <td>0.023167</td>\n",
       "    </tr>\n",
       "    <tr>\n",
       "      <th>1</th>\n",
       "      <td>low accrual</td>\n",
       "      <td>78</td>\n",
       "      <td>0.014228</td>\n",
       "    </tr>\n",
       "    <tr>\n",
       "      <th>2</th>\n",
       "      <td>slow accrual</td>\n",
       "      <td>74</td>\n",
       "      <td>0.013499</td>\n",
       "    </tr>\n",
       "    <tr>\n",
       "      <th>3</th>\n",
       "      <td>Low accrual</td>\n",
       "      <td>64</td>\n",
       "      <td>0.011675</td>\n",
       "    </tr>\n",
       "    <tr>\n",
       "      <th>4</th>\n",
       "      <td>Poor accrual</td>\n",
       "      <td>44</td>\n",
       "      <td>0.008026</td>\n",
       "    </tr>\n",
       "    <tr>\n",
       "      <th>...</th>\n",
       "      <td>...</td>\n",
       "      <td>...</td>\n",
       "      <td>...</td>\n",
       "    </tr>\n",
       "    <tr>\n",
       "      <th>4013</th>\n",
       "      <td>The CYPRESS-2 trial was closed early after the...</td>\n",
       "      <td>1</td>\n",
       "      <td>0.000182</td>\n",
       "    </tr>\n",
       "    <tr>\n",
       "      <th>4014</th>\n",
       "      <td>Identical study Biomed 777-CLP-029 did not mee...</td>\n",
       "      <td>1</td>\n",
       "      <td>0.000182</td>\n",
       "    </tr>\n",
       "    <tr>\n",
       "      <th>4015</th>\n",
       "      <td>Administrative reasons.</td>\n",
       "      <td>1</td>\n",
       "      <td>0.000182</td>\n",
       "    </tr>\n",
       "    <tr>\n",
       "      <th>4016</th>\n",
       "      <td>The PI is dealing with recurrent cancer and mu...</td>\n",
       "      <td>1</td>\n",
       "      <td>0.000182</td>\n",
       "    </tr>\n",
       "    <tr>\n",
       "      <th>4017</th>\n",
       "      <td>Low enrollment &amp; subjects didn't survive to st...</td>\n",
       "      <td>1</td>\n",
       "      <td>0.000182</td>\n",
       "    </tr>\n",
       "  </tbody>\n",
       "</table>\n",
       "<p>4018 rows × 3 columns</p>\n",
       "</div>"
      ],
      "text/plain": [
       "                                            why_stopped  study_count  \\\n",
       "0                                          Slow accrual          127   \n",
       "1                                           low accrual           78   \n",
       "2                                          slow accrual           74   \n",
       "3                                           Low accrual           64   \n",
       "4                                          Poor accrual           44   \n",
       "...                                                 ...          ...   \n",
       "4013  The CYPRESS-2 trial was closed early after the...            1   \n",
       "4014  Identical study Biomed 777-CLP-029 did not mee...            1   \n",
       "4015                            Administrative reasons.            1   \n",
       "4016  The PI is dealing with recurrent cancer and mu...            1   \n",
       "4017  Low enrollment & subjects didn't survive to st...            1   \n",
       "\n",
       "      study_percent  \n",
       "0          0.023167  \n",
       "1          0.014228  \n",
       "2          0.013499  \n",
       "3          0.011675  \n",
       "4          0.008026  \n",
       "...             ...  \n",
       "4013       0.000182  \n",
       "4014       0.000182  \n",
       "4015       0.000182  \n",
       "4016       0.000182  \n",
       "4017       0.000182  \n",
       "\n",
       "[4018 rows x 3 columns]"
      ]
     },
     "execution_count": 99,
     "metadata": {},
     "output_type": "execute_result"
    }
   ],
   "source": [
    "breakdown(onc_trials, \"why_stopped\")"
   ]
  },
  {
   "cell_type": "code",
   "execution_count": 100,
   "metadata": {},
   "outputs": [
    {
     "data": {
      "text/html": [
       "<div>\n",
       "<style scoped>\n",
       "    .dataframe tbody tr th:only-of-type {\n",
       "        vertical-align: middle;\n",
       "    }\n",
       "\n",
       "    .dataframe tbody tr th {\n",
       "        vertical-align: top;\n",
       "    }\n",
       "\n",
       "    .dataframe thead th {\n",
       "        text-align: right;\n",
       "    }\n",
       "</style>\n",
       "<table border=\"1\" class=\"dataframe\">\n",
       "  <thead>\n",
       "    <tr style=\"text-align: right;\">\n",
       "      <th></th>\n",
       "      <th>is_fda_regulated_drug</th>\n",
       "      <th>study_count</th>\n",
       "      <th>study_percent</th>\n",
       "    </tr>\n",
       "  </thead>\n",
       "  <tbody>\n",
       "    <tr>\n",
       "      <th>0</th>\n",
       "      <td>False</td>\n",
       "      <td>17286</td>\n",
       "      <td>0.714357</td>\n",
       "    </tr>\n",
       "    <tr>\n",
       "      <th>1</th>\n",
       "      <td>True</td>\n",
       "      <td>6912</td>\n",
       "      <td>0.285643</td>\n",
       "    </tr>\n",
       "  </tbody>\n",
       "</table>\n",
       "</div>"
      ],
      "text/plain": [
       "   is_fda_regulated_drug  study_count  study_percent\n",
       "0                  False        17286       0.714357\n",
       "1                   True         6912       0.285643"
      ]
     },
     "execution_count": 100,
     "metadata": {},
     "output_type": "execute_result"
    }
   ],
   "source": [
    "breakdown(onc_trials, \"is_fda_regulated_drug\")"
   ]
  },
  {
   "cell_type": "code",
   "execution_count": 101,
   "metadata": {},
   "outputs": [
    {
     "data": {
      "text/html": [
       "<div>\n",
       "<style scoped>\n",
       "    .dataframe tbody tr th:only-of-type {\n",
       "        vertical-align: middle;\n",
       "    }\n",
       "\n",
       "    .dataframe tbody tr th {\n",
       "        vertical-align: top;\n",
       "    }\n",
       "\n",
       "    .dataframe thead th {\n",
       "        text-align: right;\n",
       "    }\n",
       "</style>\n",
       "<table border=\"1\" class=\"dataframe\">\n",
       "  <thead>\n",
       "    <tr style=\"text-align: right;\">\n",
       "      <th></th>\n",
       "      <th>is_fda_regulated_device</th>\n",
       "      <th>study_count</th>\n",
       "      <th>study_percent</th>\n",
       "    </tr>\n",
       "  </thead>\n",
       "  <tbody>\n",
       "    <tr>\n",
       "      <th>0</th>\n",
       "      <td>False</td>\n",
       "      <td>23136</td>\n",
       "      <td>0.956626</td>\n",
       "    </tr>\n",
       "    <tr>\n",
       "      <th>1</th>\n",
       "      <td>True</td>\n",
       "      <td>1049</td>\n",
       "      <td>0.043374</td>\n",
       "    </tr>\n",
       "  </tbody>\n",
       "</table>\n",
       "</div>"
      ],
      "text/plain": [
       "   is_fda_regulated_device  study_count  study_percent\n",
       "0                    False        23136       0.956626\n",
       "1                     True         1049       0.043374"
      ]
     },
     "execution_count": 101,
     "metadata": {},
     "output_type": "execute_result"
    }
   ],
   "source": [
    "breakdown(onc_trials, \"is_fda_regulated_device\")"
   ]
  },
  {
   "cell_type": "code",
   "execution_count": 127,
   "metadata": {},
   "outputs": [],
   "source": [
    "## Sponsor Mapping"
   ]
  },
  {
   "cell_type": "code",
   "execution_count": 128,
   "metadata": {},
   "outputs": [],
   "source": [
    "from fuzzywuzzy import fuzz\n",
    "from fuzzywuzzy import process"
   ]
  },
  {
   "cell_type": "code",
   "execution_count": 222,
   "metadata": {},
   "outputs": [],
   "source": [
    "sponsor_match_dict={\n",
    "    \"AbbVie\":{\"type\":\"Pharma\"},\n",
    "    \"Amgen\":{\"type\":\"Pharma\"},\n",
    "    \"M.D. Anderson Cancer Center\":{\"type\":\"Cancer Center\"},\n",
    "    \"Memorial Sloan Kettering Cancer Center\":{\"type\":\"Cancer Center\"},\n",
    "    \"Roche\":{\"type\":\"Pharma\"},\n",
    "    \"Novartis\":{\"type\":\"Pharma\"},\n",
    "    \"Roche\":{\"type\":\"Pharma\"},\n",
    "    \"Mayo\":{\"type\":\"Academic Medical Center\",\"formal_name\":\"Mayo Clinic\"},\n",
    "    \"Eli Lilly\":{\"type\":\"Pharma\"},\n",
    "    \"Dana-Farber\":{\"type\":\"Cancer Center\"},\n",
    "    \"Pfizer\":{\"type\":\"Pharma\"},\n",
    "    \"Mass General\":{\"type\":\"Academic Medical Center\"},\n",
    "    \"Bristol-Myers Squibb\":{\"type\":\"Pharma\"},\n",
    "    \"AstraZeneca\":{\"type\":\"Pharma\"},\n",
    "    \"Bayer\":{\"type\":\"Pharma\"},\n",
    "    \"Boehringer Ingelheim\":{\"type\":\"Biotech\"},\n",
    "    \"EQRx\":{\"type\":\"Biotech\"},\n",
    "    \"Gilead\":{\"type\":\"Biotech\"},\n",
    "    \"Sanofi\":{\"type\":\"Pharma\"},\n",
    "    \"GlaxoSmithKline\":{\"type\":\"Pharma\"},\n",
    "    \"ImmunoGen\":{\"type\":\"Biotech\"},\n",
    "    \"Janssen\":{\"type\":\"Pharma\"},\n",
    "    \"Merck\":{\"type\":\"Pharma\"},\n",
    "    \"OneOncology\":{\"type\":\"Health System\"},\n",
    "    \"Genentech\":{\"type\":\"Biotech\"},\n",
    "    \"Takeda\":{\"type\":\"Pharma\"},\n",
    "    \"University\":{\"type\":\"University\"},\n",
    "    \n",
    "    \n",
    "    \"National Heart, Lung, and Blood Institute\":{\"type\":\"Government\"},\n",
    "    \"National Cancer Institute\":{\"type\":\"Government\"},\n",
    "    \"National\":{\"type\":\"Government\"},\n",
    "    \"National Institute\":{\"type\":\"Government\"},\n",
    "    \"Cancer Center\":{\"type\":\"Cancer Center\"},\n",
    "    \"Oncology Group\":{\"type\":\"Oncology Group\"},\n",
    "    \"St. Vincent Medical Center - Los Angeles\":{\"type\":\"Hospital\"},\n",
    "    \"Medical Center\":{\"type\":\"Hospital\"},\n",
    "                                                \n",
    "    \"Shenzhen SiBiono GeneTech Co.,Ltd\":{\"type\":\"Biotech\"},\n",
    "    \"European Organisation for Research and Treatment of Cancer - EORTC\":{\"type\":\"Government\"},\n",
    "    \"Cancer Research UK\":{\"type\":\"Research Group\"},\n",
    "\n",
    "    \"ECOG-ACRIN Cancer Research Group\":{\"type\":\"Research Group\"},\n",
    "    \"Swiss Group for Clinical Cancer Research\":{\"type\":\"Research Group\"},\n",
    "    \"Research Group\":{\"type\":\"Research Group\"},\n",
    "    \"Cancer Research\":{\"type\":\"Research Group\"},\n",
    "    \"General Hospital\":{\"type\":\"Hospital\"},\n",
    "    \n",
    "    \"University of Rochester\":{\"type\":\"University\"},\n",
    "    \"Li Liu\":{\"type\":\"Individual\"},\n",
    "    \"BioLeaders Corporation\":{},\n",
    "    \"Regionalt Cancercentrum Väst\":{},\n",
    "    \"Centre Hospitalier d'Abbeville\":{},\n",
    "    \"Nanjing Leads Biolabs Co.,Ltd\":{},\n",
    "    \"NRG Oncology\":{},\n",
    "    \"Immunicon\":{},\n",
    "    \n",
    "}\n",
    "### LOOK INTO WHETHER CT.GOV HAS SPONSOR TYPE ALREADY!!!"
   ]
  },
  {
   "cell_type": "code",
   "execution_count": 7,
   "metadata": {},
   "outputs": [
    {
     "ename": "NameError",
     "evalue": "name 'sponsor_match_dict' is not defined",
     "output_type": "error",
     "traceback": [
      "\u001b[0;31m---------------------------------------------------------------------------\u001b[0m",
      "\u001b[0;31mNameError\u001b[0m                                 Traceback (most recent call last)",
      "\u001b[0;32m<ipython-input-7-d47c81921ff5>\u001b[0m in \u001b[0;36m<module>\u001b[0;34m\u001b[0m\n\u001b[0;32m----> 1\u001b[0;31m \u001b[0msponsor_df\u001b[0m\u001b[0;34m=\u001b[0m\u001b[0mpd\u001b[0m\u001b[0;34m.\u001b[0m\u001b[0mDataFrame\u001b[0m\u001b[0;34m(\u001b[0m\u001b[0msponsor_match_dict\u001b[0m\u001b[0;34m)\u001b[0m\u001b[0;34m.\u001b[0m\u001b[0mtranspose\u001b[0m\u001b[0;34m(\u001b[0m\u001b[0;34m)\u001b[0m\u001b[0;34m\u001b[0m\u001b[0;34m\u001b[0m\u001b[0m\n\u001b[0m\u001b[1;32m      2\u001b[0m \u001b[0msponsor_df\u001b[0m\u001b[0;34m.\u001b[0m\u001b[0mhead\u001b[0m\u001b[0;34m(\u001b[0m\u001b[0;34m)\u001b[0m\u001b[0;34m\u001b[0m\u001b[0;34m\u001b[0m\u001b[0m\n",
      "\u001b[0;31mNameError\u001b[0m: name 'sponsor_match_dict' is not defined"
     ]
    }
   ],
   "source": [
    "sponsor_df=pd.DataFrame(sponsor_match_dict).transpose()\n",
    "sponsor_df.head()"
   ]
  },
  {
   "cell_type": "code",
   "execution_count": 202,
   "metadata": {},
   "outputs": [
    {
     "data": {
      "text/html": [
       "<div>\n",
       "<style scoped>\n",
       "    .dataframe tbody tr th:only-of-type {\n",
       "        vertical-align: middle;\n",
       "    }\n",
       "\n",
       "    .dataframe tbody tr th {\n",
       "        vertical-align: top;\n",
       "    }\n",
       "\n",
       "    .dataframe thead th {\n",
       "        text-align: right;\n",
       "    }\n",
       "</style>\n",
       "<table border=\"1\" class=\"dataframe\">\n",
       "  <thead>\n",
       "    <tr style=\"text-align: right;\">\n",
       "      <th></th>\n",
       "      <th>lead_sponsor</th>\n",
       "      <th>study_count</th>\n",
       "      <th>study_percent</th>\n",
       "    </tr>\n",
       "  </thead>\n",
       "  <tbody>\n",
       "    <tr>\n",
       "      <th>0</th>\n",
       "      <td>National Cancer Institute (NCI)</td>\n",
       "      <td>1959</td>\n",
       "      <td>0.036008</td>\n",
       "    </tr>\n",
       "    <tr>\n",
       "      <th>1</th>\n",
       "      <td>M.D. Anderson Cancer Center</td>\n",
       "      <td>1371</td>\n",
       "      <td>0.025200</td>\n",
       "    </tr>\n",
       "    <tr>\n",
       "      <th>2</th>\n",
       "      <td>Memorial Sloan Kettering Cancer Center</td>\n",
       "      <td>1052</td>\n",
       "      <td>0.019337</td>\n",
       "    </tr>\n",
       "    <tr>\n",
       "      <th>3</th>\n",
       "      <td>Hoffmann-La Roche</td>\n",
       "      <td>553</td>\n",
       "      <td>0.010165</td>\n",
       "    </tr>\n",
       "    <tr>\n",
       "      <th>4</th>\n",
       "      <td>AstraZeneca</td>\n",
       "      <td>491</td>\n",
       "      <td>0.009025</td>\n",
       "    </tr>\n",
       "  </tbody>\n",
       "</table>\n",
       "</div>"
      ],
      "text/plain": [
       "                             lead_sponsor  study_count  study_percent\n",
       "0         National Cancer Institute (NCI)         1959       0.036008\n",
       "1             M.D. Anderson Cancer Center         1371       0.025200\n",
       "2  Memorial Sloan Kettering Cancer Center         1052       0.019337\n",
       "3                       Hoffmann-La Roche          553       0.010165\n",
       "4                             AstraZeneca          491       0.009025"
      ]
     },
     "execution_count": 202,
     "metadata": {},
     "output_type": "execute_result"
    }
   ],
   "source": [
    "breakdown(onc_trials, \"lead_sponsor\").head()"
   ]
  },
  {
   "cell_type": "code",
   "execution_count": 203,
   "metadata": {},
   "outputs": [],
   "source": [
    "onc_trials['matches'] = onc_trials['lead_sponsor'].apply(lambda x: process.extractOne(x, sponsor_df.index.tolist()))"
   ]
  },
  {
   "cell_type": "code",
   "execution_count": 204,
   "metadata": {},
   "outputs": [],
   "source": [
    "onc_trials['sponsor_name_match']=onc_trials.matches.apply(lambda x: x[0])\n",
    "onc_trials['sponsor_match_score']=onc_trials.matches.apply(lambda x: x[1])"
   ]
  },
  {
   "cell_type": "code",
   "execution_count": 205,
   "metadata": {},
   "outputs": [
    {
     "data": {
      "text/plain": [
       "'Mid-Atlantic Oncology Program'"
      ]
     },
     "execution_count": 205,
     "metadata": {},
     "output_type": "execute_result"
    }
   ],
   "source": [
    "onc_trials[['lead_sponsor','sponsor_name_match','sponsor_match_score']][onc_trials.sponsor_match_score==86].iloc[0].lead_sponsor"
   ]
  },
  {
   "cell_type": "code",
   "execution_count": 215,
   "metadata": {},
   "outputs": [
    {
     "data": {
      "text/plain": [
       "NRG Oncology                              27\n",
       "Immunicon                                  2\n",
       "Associazione Progetto Oncologia UMAN.A     1\n",
       "Name: lead_sponsor, dtype: int64"
      ]
     },
     "execution_count": 215,
     "metadata": {},
     "output_type": "execute_result"
    }
   ],
   "source": [
    "onc_trials[['lead_sponsor','sponsor_name_match','sponsor_match_score']][onc_trials.sponsor_match_score==78].lead_sponsor.value_counts()"
   ]
  },
  {
   "cell_type": "code",
   "execution_count": 207,
   "metadata": {},
   "outputs": [
    {
     "data": {
      "text/plain": [
       "0.7158480994044556"
      ]
     },
     "execution_count": 207,
     "metadata": {},
     "output_type": "execute_result"
    }
   ],
   "source": [
    "onc_trials[['lead_sponsor','sponsor_name_match','sponsor_match_score']][onc_trials.sponsor_match_score>=75].shape[0]/onc_trials.shape[0]"
   ]
  },
  {
   "cell_type": "code",
   "execution_count": 218,
   "metadata": {},
   "outputs": [
    {
     "data": {
      "text/plain": [
       "University                                16115\n",
       "Roche                                      3083\n",
       "National Cancer Institute                  2749\n",
       "Cancer Center                              2705\n",
       "M.D. Anderson Cancer Center                2334\n",
       "Medical Center                             2279\n",
       "Oncology Group                             2044\n",
       "National                                   2021\n",
       "Memorial Sloan Kettering Cancer Center     1893\n",
       "National Institute                         1298\n",
       "Name: sponsor_name_match, dtype: int64"
      ]
     },
     "execution_count": 218,
     "metadata": {},
     "output_type": "execute_result"
    }
   ],
   "source": [
    "onc_trials[['lead_sponsor','sponsor_name_match','sponsor_match_score']].sponsor_name_match.value_counts().head(10)"
   ]
  },
  {
   "cell_type": "code",
   "execution_count": 220,
   "metadata": {},
   "outputs": [
    {
     "data": {
      "text/plain": [
       "Hoffmann-La Roche          553\n",
       "University of Rochester     89\n",
       "Name: lead_sponsor, dtype: int64"
      ]
     },
     "execution_count": 220,
     "metadata": {},
     "output_type": "execute_result"
    }
   ],
   "source": [
    "onc_trials[['lead_sponsor','sponsor_name_match','sponsor_match_score']][(onc_trials.sponsor_name_match=='Roche')&(onc_trials.sponsor_match_score>=75)].lead_sponsor.value_counts()"
   ]
  },
  {
   "cell_type": "code",
   "execution_count": 136,
   "metadata": {},
   "outputs": [
    {
     "data": {
      "text/html": [
       "<div>\n",
       "<style scoped>\n",
       "    .dataframe tbody tr th:only-of-type {\n",
       "        vertical-align: middle;\n",
       "    }\n",
       "\n",
       "    .dataframe tbody tr th {\n",
       "        vertical-align: top;\n",
       "    }\n",
       "\n",
       "    .dataframe thead th {\n",
       "        text-align: right;\n",
       "    }\n",
       "</style>\n",
       "<table border=\"1\" class=\"dataframe\">\n",
       "  <thead>\n",
       "    <tr style=\"text-align: right;\">\n",
       "      <th></th>\n",
       "      <th>nct_id</th>\n",
       "      <th>title</th>\n",
       "      <th>has_us_facility</th>\n",
       "      <th>conditions</th>\n",
       "      <th>eligibility_criteria</th>\n",
       "      <th>start_date</th>\n",
       "      <th>lead_sponsor</th>\n",
       "      <th>summary</th>\n",
       "      <th>overall_status</th>\n",
       "      <th>phase</th>\n",
       "      <th>enrollment</th>\n",
       "      <th>enrollment_type</th>\n",
       "      <th>study_type</th>\n",
       "      <th>number_of_arms</th>\n",
       "      <th>number_of_groups</th>\n",
       "      <th>why_stopped</th>\n",
       "      <th>has_dmc</th>\n",
       "      <th>is_fda_regulated_drug</th>\n",
       "      <th>is_fda_regulated_device</th>\n",
       "      <th>is_unapproved_device</th>\n",
       "      <th>is_ppsd</th>\n",
       "      <th>is_us_export</th>\n",
       "      <th>matches</th>\n",
       "      <th>sponsor_name_match</th>\n",
       "      <th>sponsor_match_score</th>\n",
       "    </tr>\n",
       "  </thead>\n",
       "  <tbody>\n",
       "    <tr>\n",
       "      <th>0</th>\n",
       "      <td>NCT00000105</td>\n",
       "      <td>Vaccination With Tetanus and KLH to Assess Imm...</td>\n",
       "      <td>True</td>\n",
       "      <td>Cancer</td>\n",
       "      <td>Inclusion Criteria:\\n\\nPatients must have a di...</td>\n",
       "      <td>2002-07-31</td>\n",
       "      <td>Masonic Cancer Center, University of Minnesota</td>\n",
       "      <td>The purpose of this study is to learn how the ...</td>\n",
       "      <td>Terminated</td>\n",
       "      <td>NaN</td>\n",
       "      <td>112.0</td>\n",
       "      <td>Actual</td>\n",
       "      <td>Observational</td>\n",
       "      <td>NaN</td>\n",
       "      <td>3.0</td>\n",
       "      <td>Replaced by another study.</td>\n",
       "      <td>True</td>\n",
       "      <td>NaN</td>\n",
       "      <td>NaN</td>\n",
       "      <td>NaN</td>\n",
       "      <td>NaN</td>\n",
       "      <td>NaN</td>\n",
       "      <td>(University, 90)</td>\n",
       "      <td>University</td>\n",
       "      <td>90</td>\n",
       "    </tr>\n",
       "    <tr>\n",
       "      <th>1</th>\n",
       "      <td>NCT00000124</td>\n",
       "      <td>Collaborative Ocular Melanoma Study (COMS)</td>\n",
       "      <td>False</td>\n",
       "      <td>Choroid Neoplasms|Uveitis</td>\n",
       "      <td>Men and women eligible for the study must be a...</td>\n",
       "      <td>1986-11-30</td>\n",
       "      <td>National Eye Institute (NEI)</td>\n",
       "      <td>To evaluate therapeutic interventions for pati...</td>\n",
       "      <td>Unknown status</td>\n",
       "      <td>Phase 3</td>\n",
       "      <td>NaN</td>\n",
       "      <td>NaN</td>\n",
       "      <td>Interventional</td>\n",
       "      <td>NaN</td>\n",
       "      <td>NaN</td>\n",
       "      <td>NaN</td>\n",
       "      <td>NaN</td>\n",
       "      <td>NaN</td>\n",
       "      <td>NaN</td>\n",
       "      <td>NaN</td>\n",
       "      <td>NaN</td>\n",
       "      <td>NaN</td>\n",
       "      <td>(Novartis, 45)</td>\n",
       "      <td>Novartis</td>\n",
       "      <td>45</td>\n",
       "    </tr>\n",
       "    <tr>\n",
       "      <th>2</th>\n",
       "      <td>NCT00000603</td>\n",
       "      <td>Cord Blood Stem Cell Transplantation Study (CO...</td>\n",
       "      <td>False</td>\n",
       "      <td>Anemia, Aplastic|Fanconi Anemia|Hematologic Di...</td>\n",
       "      <td>Mothers of Infant-donors must complete a medic...</td>\n",
       "      <td>1996-09-30</td>\n",
       "      <td>National Heart, Lung, and Blood Institute (NHLBI)</td>\n",
       "      <td>To evaluate if HLA-mismatched, unrelated-donor...</td>\n",
       "      <td>Completed</td>\n",
       "      <td>Phase 2</td>\n",
       "      <td>NaN</td>\n",
       "      <td>NaN</td>\n",
       "      <td>Interventional</td>\n",
       "      <td>NaN</td>\n",
       "      <td>NaN</td>\n",
       "      <td>NaN</td>\n",
       "      <td>NaN</td>\n",
       "      <td>NaN</td>\n",
       "      <td>NaN</td>\n",
       "      <td>NaN</td>\n",
       "      <td>NaN</td>\n",
       "      <td>NaN</td>\n",
       "      <td>(Novartis, 53)</td>\n",
       "      <td>Novartis</td>\n",
       "      <td>53</td>\n",
       "    </tr>\n",
       "    <tr>\n",
       "      <th>3</th>\n",
       "      <td>NCT00000611</td>\n",
       "      <td>Women's Health Initiative (WHI)</td>\n",
       "      <td>False</td>\n",
       "      <td>Bone Diseases|Breast Neoplasms|Cardiovascular ...</td>\n",
       "      <td>Postmenopausal women ages 50 to 79.</td>\n",
       "      <td>NaN</td>\n",
       "      <td>National Heart, Lung, and Blood Institute (NHLBI)</td>\n",
       "      <td>To address cardiovascular disease, cancer, and...</td>\n",
       "      <td>Completed</td>\n",
       "      <td>Phase 3</td>\n",
       "      <td>NaN</td>\n",
       "      <td>NaN</td>\n",
       "      <td>Interventional</td>\n",
       "      <td>NaN</td>\n",
       "      <td>NaN</td>\n",
       "      <td>NaN</td>\n",
       "      <td>NaN</td>\n",
       "      <td>NaN</td>\n",
       "      <td>NaN</td>\n",
       "      <td>NaN</td>\n",
       "      <td>NaN</td>\n",
       "      <td>NaN</td>\n",
       "      <td>(Novartis, 53)</td>\n",
       "      <td>Novartis</td>\n",
       "      <td>53</td>\n",
       "    </tr>\n",
       "    <tr>\n",
       "      <th>4</th>\n",
       "      <td>NCT00000764</td>\n",
       "      <td>Chemoprevention of Anal Neoplasia Arising Seco...</td>\n",
       "      <td>True</td>\n",
       "      <td>Anus Neoplasms|HIV Infections</td>\n",
       "      <td>Inclusion Criteria\\n\\nConcurrent Medication:\\n...</td>\n",
       "      <td>NaN</td>\n",
       "      <td>National Institute of Allergy and Infectious D...</td>\n",
       "      <td>PRIMARY: In Phase I, to define a broadly toler...</td>\n",
       "      <td>Completed</td>\n",
       "      <td>Phase 1</td>\n",
       "      <td>98.0</td>\n",
       "      <td>NaN</td>\n",
       "      <td>Interventional</td>\n",
       "      <td>NaN</td>\n",
       "      <td>NaN</td>\n",
       "      <td>NaN</td>\n",
       "      <td>NaN</td>\n",
       "      <td>NaN</td>\n",
       "      <td>NaN</td>\n",
       "      <td>NaN</td>\n",
       "      <td>NaN</td>\n",
       "      <td>NaN</td>\n",
       "      <td>(AstraZeneca, 47)</td>\n",
       "      <td>AstraZeneca</td>\n",
       "      <td>47</td>\n",
       "    </tr>\n",
       "  </tbody>\n",
       "</table>\n",
       "</div>"
      ],
      "text/plain": [
       "        nct_id                                              title  \\\n",
       "0  NCT00000105  Vaccination With Tetanus and KLH to Assess Imm...   \n",
       "1  NCT00000124         Collaborative Ocular Melanoma Study (COMS)   \n",
       "2  NCT00000603  Cord Blood Stem Cell Transplantation Study (CO...   \n",
       "3  NCT00000611                    Women's Health Initiative (WHI)   \n",
       "4  NCT00000764  Chemoprevention of Anal Neoplasia Arising Seco...   \n",
       "\n",
       "   has_us_facility                                         conditions  \\\n",
       "0             True                                             Cancer   \n",
       "1            False                          Choroid Neoplasms|Uveitis   \n",
       "2            False  Anemia, Aplastic|Fanconi Anemia|Hematologic Di...   \n",
       "3            False  Bone Diseases|Breast Neoplasms|Cardiovascular ...   \n",
       "4             True                      Anus Neoplasms|HIV Infections   \n",
       "\n",
       "                                eligibility_criteria  start_date  \\\n",
       "0  Inclusion Criteria:\\n\\nPatients must have a di...  2002-07-31   \n",
       "1  Men and women eligible for the study must be a...  1986-11-30   \n",
       "2  Mothers of Infant-donors must complete a medic...  1996-09-30   \n",
       "3                Postmenopausal women ages 50 to 79.         NaN   \n",
       "4  Inclusion Criteria\\n\\nConcurrent Medication:\\n...         NaN   \n",
       "\n",
       "                                        lead_sponsor  \\\n",
       "0     Masonic Cancer Center, University of Minnesota   \n",
       "1                       National Eye Institute (NEI)   \n",
       "2  National Heart, Lung, and Blood Institute (NHLBI)   \n",
       "3  National Heart, Lung, and Blood Institute (NHLBI)   \n",
       "4  National Institute of Allergy and Infectious D...   \n",
       "\n",
       "                                             summary  overall_status    phase  \\\n",
       "0  The purpose of this study is to learn how the ...      Terminated      NaN   \n",
       "1  To evaluate therapeutic interventions for pati...  Unknown status  Phase 3   \n",
       "2  To evaluate if HLA-mismatched, unrelated-donor...       Completed  Phase 2   \n",
       "3  To address cardiovascular disease, cancer, and...       Completed  Phase 3   \n",
       "4  PRIMARY: In Phase I, to define a broadly toler...       Completed  Phase 1   \n",
       "\n",
       "   enrollment enrollment_type      study_type  number_of_arms  \\\n",
       "0       112.0          Actual   Observational             NaN   \n",
       "1         NaN             NaN  Interventional             NaN   \n",
       "2         NaN             NaN  Interventional             NaN   \n",
       "3         NaN             NaN  Interventional             NaN   \n",
       "4        98.0             NaN  Interventional             NaN   \n",
       "\n",
       "   number_of_groups                 why_stopped has_dmc is_fda_regulated_drug  \\\n",
       "0               3.0  Replaced by another study.    True                   NaN   \n",
       "1               NaN                         NaN     NaN                   NaN   \n",
       "2               NaN                         NaN     NaN                   NaN   \n",
       "3               NaN                         NaN     NaN                   NaN   \n",
       "4               NaN                         NaN     NaN                   NaN   \n",
       "\n",
       "  is_fda_regulated_device is_unapproved_device  is_ppsd is_us_export  \\\n",
       "0                     NaN                  NaN      NaN          NaN   \n",
       "1                     NaN                  NaN      NaN          NaN   \n",
       "2                     NaN                  NaN      NaN          NaN   \n",
       "3                     NaN                  NaN      NaN          NaN   \n",
       "4                     NaN                  NaN      NaN          NaN   \n",
       "\n",
       "             matches sponsor_name_match  sponsor_match_score  \n",
       "0   (University, 90)         University                   90  \n",
       "1     (Novartis, 45)           Novartis                   45  \n",
       "2     (Novartis, 53)           Novartis                   53  \n",
       "3     (Novartis, 53)           Novartis                   53  \n",
       "4  (AstraZeneca, 47)        AstraZeneca                   47  "
      ]
     },
     "execution_count": 136,
     "metadata": {},
     "output_type": "execute_result"
    }
   ],
   "source": [
    "onc_trials.head()"
   ]
  },
  {
   "cell_type": "code",
   "execution_count": null,
   "metadata": {},
   "outputs": [],
   "source": []
  },
  {
   "cell_type": "code",
   "execution_count": null,
   "metadata": {},
   "outputs": [],
   "source": []
  },
  {
   "cell_type": "code",
   "execution_count": 113,
   "metadata": {},
   "outputs": [],
   "source": [
    "## New function to plot distributions as time-series.  Maybe top 5 only over time.  Total num version and relative percent stacked chared"
   ]
  },
  {
   "cell_type": "code",
   "execution_count": 112,
   "metadata": {},
   "outputs": [
    {
     "ename": "AttributeError",
     "evalue": "'str' object has no attribute 'left'",
     "output_type": "error",
     "traceback": [
      "\u001b[0;31m---------------------------------------------------------------------------\u001b[0m",
      "\u001b[0;31mAttributeError\u001b[0m                            Traceback (most recent call last)",
      "\u001b[0;32m<ipython-input-112-bc25ebb22da8>\u001b[0m in \u001b[0;36m<module>\u001b[0;34m\u001b[0m\n\u001b[0;32m----> 1\u001b[0;31m \u001b[0;34m\"2002-07-31\"\u001b[0m\u001b[0;34m.\u001b[0m\u001b[0mleft\u001b[0m\u001b[0;34m(\u001b[0m\u001b[0;36m4\u001b[0m\u001b[0;34m)\u001b[0m\u001b[0;34m\u001b[0m\u001b[0;34m\u001b[0m\u001b[0m\n\u001b[0m",
      "\u001b[0;31mAttributeError\u001b[0m: 'str' object has no attribute 'left'"
     ]
    }
   ],
   "source": [
    "\"2002-07-31\".left(4)"
   ]
  },
  {
   "cell_type": "code",
   "execution_count": 108,
   "metadata": {},
   "outputs": [
    {
     "data": {
      "text/html": [
       "<div>\n",
       "<style scoped>\n",
       "    .dataframe tbody tr th:only-of-type {\n",
       "        vertical-align: middle;\n",
       "    }\n",
       "\n",
       "    .dataframe tbody tr th {\n",
       "        vertical-align: top;\n",
       "    }\n",
       "\n",
       "    .dataframe thead th {\n",
       "        text-align: right;\n",
       "    }\n",
       "</style>\n",
       "<table border=\"1\" class=\"dataframe\">\n",
       "  <thead>\n",
       "    <tr style=\"text-align: right;\">\n",
       "      <th></th>\n",
       "      <th>nct_id</th>\n",
       "      <th>start_date</th>\n",
       "    </tr>\n",
       "  </thead>\n",
       "  <tbody>\n",
       "    <tr>\n",
       "      <th>0</th>\n",
       "      <td>NCT00000105</td>\n",
       "      <td>2002-07-31</td>\n",
       "    </tr>\n",
       "    <tr>\n",
       "      <th>1</th>\n",
       "      <td>NCT00000124</td>\n",
       "      <td>1986-11-30</td>\n",
       "    </tr>\n",
       "    <tr>\n",
       "      <th>2</th>\n",
       "      <td>NCT00000603</td>\n",
       "      <td>1996-09-30</td>\n",
       "    </tr>\n",
       "    <tr>\n",
       "      <th>5</th>\n",
       "      <td>NCT00001150</td>\n",
       "      <td>1976-10-31</td>\n",
       "    </tr>\n",
       "    <tr>\n",
       "      <th>6</th>\n",
       "      <td>NCT00001158</td>\n",
       "      <td>1977-04-30</td>\n",
       "    </tr>\n",
       "    <tr>\n",
       "      <th>7</th>\n",
       "      <td>NCT00001160</td>\n",
       "      <td>1977-06-01</td>\n",
       "    </tr>\n",
       "    <tr>\n",
       "      <th>8</th>\n",
       "      <td>NCT00001163</td>\n",
       "      <td>1985-04-02</td>\n",
       "    </tr>\n",
       "    <tr>\n",
       "      <th>9</th>\n",
       "      <td>NCT00001165</td>\n",
       "      <td>1978-09-30</td>\n",
       "    </tr>\n",
       "    <tr>\n",
       "      <th>10</th>\n",
       "      <td>NCT00001167</td>\n",
       "      <td>1979-08-31</td>\n",
       "    </tr>\n",
       "    <tr>\n",
       "      <th>11</th>\n",
       "      <td>NCT00001171</td>\n",
       "      <td>1979-07-31</td>\n",
       "    </tr>\n",
       "    <tr>\n",
       "      <th>12</th>\n",
       "      <td>NCT00001186</td>\n",
       "      <td>1983-02-15</td>\n",
       "    </tr>\n",
       "    <tr>\n",
       "      <th>13</th>\n",
       "      <td>NCT00001189</td>\n",
       "      <td>1983-12-31</td>\n",
       "    </tr>\n",
       "    <tr>\n",
       "      <th>14</th>\n",
       "      <td>NCT00001193</td>\n",
       "      <td>1984-11-30</td>\n",
       "    </tr>\n",
       "    <tr>\n",
       "      <th>15</th>\n",
       "      <td>NCT00001209</td>\n",
       "      <td>1986-10-31</td>\n",
       "    </tr>\n",
       "    <tr>\n",
       "      <th>16</th>\n",
       "      <td>NCT00001219</td>\n",
       "      <td>1987-06-18</td>\n",
       "    </tr>\n",
       "    <tr>\n",
       "      <th>17</th>\n",
       "      <td>NCT00001238</td>\n",
       "      <td>1990-12-05</td>\n",
       "    </tr>\n",
       "    <tr>\n",
       "      <th>18</th>\n",
       "      <td>NCT00001239</td>\n",
       "      <td>1989-07-31</td>\n",
       "    </tr>\n",
       "    <tr>\n",
       "      <th>19</th>\n",
       "      <td>NCT00001250</td>\n",
       "      <td>1989-12-31</td>\n",
       "    </tr>\n",
       "    <tr>\n",
       "      <th>20</th>\n",
       "      <td>NCT00001251</td>\n",
       "      <td>1989-11-30</td>\n",
       "    </tr>\n",
       "    <tr>\n",
       "      <th>21</th>\n",
       "      <td>NCT00001266</td>\n",
       "      <td>1990-10-31</td>\n",
       "    </tr>\n",
       "  </tbody>\n",
       "</table>\n",
       "</div>"
      ],
      "text/plain": [
       "         nct_id  start_date\n",
       "0   NCT00000105  2002-07-31\n",
       "1   NCT00000124  1986-11-30\n",
       "2   NCT00000603  1996-09-30\n",
       "5   NCT00001150  1976-10-31\n",
       "6   NCT00001158  1977-04-30\n",
       "7   NCT00001160  1977-06-01\n",
       "8   NCT00001163  1985-04-02\n",
       "9   NCT00001165  1978-09-30\n",
       "10  NCT00001167  1979-08-31\n",
       "11  NCT00001171  1979-07-31\n",
       "12  NCT00001186  1983-02-15\n",
       "13  NCT00001189  1983-12-31\n",
       "14  NCT00001193  1984-11-30\n",
       "15  NCT00001209  1986-10-31\n",
       "16  NCT00001219  1987-06-18\n",
       "17  NCT00001238  1990-12-05\n",
       "18  NCT00001239  1989-07-31\n",
       "19  NCT00001250  1989-12-31\n",
       "20  NCT00001251  1989-11-30\n",
       "21  NCT00001266  1990-10-31"
      ]
     },
     "execution_count": 108,
     "metadata": {},
     "output_type": "execute_result"
    }
   ],
   "source": [
    "onc_trials[['nct_id','start_date']].dropna().head(20)\n",
    "onc_trials['year']=onc_tri"
   ]
  },
  {
   "cell_type": "code",
   "execution_count": 43,
   "metadata": {},
   "outputs": [],
   "source": [
    "## Compare document links with queried trials"
   ]
  },
  {
   "cell_type": "code",
   "execution_count": 7,
   "metadata": {},
   "outputs": [],
   "source": [
    "doc_json=eda.read_doc_links()"
   ]
  },
  {
   "cell_type": "code",
   "execution_count": null,
   "metadata": {},
   "outputs": [],
   "source": [
    "len(doc_json)"
   ]
  },
  {
   "cell_type": "code",
   "execution_count": 8,
   "metadata": {},
   "outputs": [
    {
     "data": {
      "text/plain": [
       "17547"
      ]
     },
     "execution_count": 8,
     "metadata": {},
     "output_type": "execute_result"
    }
   ],
   "source": [
    "len(doc_json)"
   ]
  },
  {
   "cell_type": "code",
   "execution_count": 11,
   "metadata": {},
   "outputs": [],
   "source": [
    "doc_items = list(doc_json.items())"
   ]
  },
  {
   "cell_type": "code",
   "execution_count": 15,
   "metadata": {},
   "outputs": [],
   "source": [
    "doc_df = pd.DataFrame(doc_json).transpose()"
   ]
  },
  {
   "cell_type": "code",
   "execution_count": 16,
   "metadata": {},
   "outputs": [
    {
     "data": {
      "text/html": [
       "<div>\n",
       "<style scoped>\n",
       "    .dataframe tbody tr th:only-of-type {\n",
       "        vertical-align: middle;\n",
       "    }\n",
       "\n",
       "    .dataframe tbody tr th {\n",
       "        vertical-align: top;\n",
       "    }\n",
       "\n",
       "    .dataframe thead th {\n",
       "        text-align: right;\n",
       "    }\n",
       "</style>\n",
       "<table border=\"1\" class=\"dataframe\">\n",
       "  <thead>\n",
       "    <tr style=\"text-align: right;\">\n",
       "      <th></th>\n",
       "      <th>PROT</th>\n",
       "      <th>ICF</th>\n",
       "      <th>SAP</th>\n",
       "    </tr>\n",
       "  </thead>\n",
       "  <tbody>\n",
       "    <tr>\n",
       "      <th>NCT00000105</th>\n",
       "      <td>NaN</td>\n",
       "      <td>NaN</td>\n",
       "      <td>NaN</td>\n",
       "    </tr>\n",
       "    <tr>\n",
       "      <th>NCT00000124</th>\n",
       "      <td>NaN</td>\n",
       "      <td>NaN</td>\n",
       "      <td>NaN</td>\n",
       "    </tr>\n",
       "    <tr>\n",
       "      <th>NCT00000603</th>\n",
       "      <td>NaN</td>\n",
       "      <td>NaN</td>\n",
       "      <td>NaN</td>\n",
       "    </tr>\n",
       "    <tr>\n",
       "      <th>NCT00000611</th>\n",
       "      <td>NaN</td>\n",
       "      <td>NaN</td>\n",
       "      <td>NaN</td>\n",
       "    </tr>\n",
       "    <tr>\n",
       "      <th>NCT00000764</th>\n",
       "      <td>NaN</td>\n",
       "      <td>NaN</td>\n",
       "      <td>NaN</td>\n",
       "    </tr>\n",
       "  </tbody>\n",
       "</table>\n",
       "</div>"
      ],
      "text/plain": [
       "            PROT  ICF  SAP\n",
       "NCT00000105  NaN  NaN  NaN\n",
       "NCT00000124  NaN  NaN  NaN\n",
       "NCT00000603  NaN  NaN  NaN\n",
       "NCT00000611  NaN  NaN  NaN\n",
       "NCT00000764  NaN  NaN  NaN"
      ]
     },
     "execution_count": 16,
     "metadata": {},
     "output_type": "execute_result"
    }
   ],
   "source": [
    "doc_df.head()"
   ]
  },
  {
   "cell_type": "code",
   "execution_count": 17,
   "metadata": {},
   "outputs": [
    {
     "data": {
      "text/plain": [
       "16"
      ]
     },
     "execution_count": 17,
     "metadata": {},
     "output_type": "execute_result"
    }
   ],
   "source": [
    "doc_df[~doc_df['PROT'].isna()].PROT.shape[0]"
   ]
  },
  {
   "cell_type": "code",
   "execution_count": 18,
   "metadata": {},
   "outputs": [
    {
     "data": {
      "text/plain": [
       "3"
      ]
     },
     "execution_count": 18,
     "metadata": {},
     "output_type": "execute_result"
    }
   ],
   "source": [
    " doc_df[~doc_df['ICF'].isna()].ICF.shape[0]"
   ]
  },
  {
   "cell_type": "code",
   "execution_count": 19,
   "metadata": {},
   "outputs": [
    {
     "data": {
      "text/plain": [
       "1"
      ]
     },
     "execution_count": 19,
     "metadata": {},
     "output_type": "execute_result"
    }
   ],
   "source": [
    "doc_df[~doc_df['SAP'].isna()].SAP.shape[0]"
   ]
  },
  {
   "cell_type": "code",
   "execution_count": null,
   "metadata": {},
   "outputs": [],
   "source": []
  }
 ],
 "metadata": {
  "kernelspec": {
   "display_name": "Python 3",
   "language": "python",
   "name": "python3"
  },
  "language_info": {
   "codemirror_mode": {
    "name": "ipython",
    "version": 3
   },
   "file_extension": ".py",
   "mimetype": "text/x-python",
   "name": "python",
   "nbconvert_exporter": "python",
   "pygments_lexer": "ipython3",
   "version": "3.6.13"
  }
 },
 "nbformat": 4,
 "nbformat_minor": 4
}
