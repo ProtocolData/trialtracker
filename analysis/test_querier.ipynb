{
 "cells": [
  {
   "cell_type": "code",
   "execution_count": 1,
   "id": "0aa867f0-9e47-4177-ac04-b08817a0ce2f",
   "metadata": {},
   "outputs": [],
   "source": [
    "import pandas as pd\n",
    "import os\n",
    "import sys\n",
    "my_path = os.path.abspath(os.path.dirname('.'))\n",
    "path = os.path.join(my_path, \"..\")\n",
    "sys.path.insert(1, path)\n",
    "from extract import extracted_data_analyzer as eda, aact_querier as aq\n"
   ]
  },
  {
   "cell_type": "code",
   "execution_count": 9,
   "id": "90fe51cc-d562-4278-a459-16585b9dda0c",
   "metadata": {},
   "outputs": [
    {
     "name": "stdout",
     "output_type": "stream",
     "text": [
      "0\n"
     ]
    }
   ],
   "source": [
    "l1=[]\n",
    "print(len(l1))"
   ]
  },
  {
   "cell_type": "code",
   "execution_count": 2,
   "id": "e29a961f-bb1e-4ea3-84f1-997b95db9e9c",
   "metadata": {},
   "outputs": [
    {
     "name": "stdout",
     "output_type": "stream",
     "text": [
      "/Users/forrest.xiao/non_fh_code/trialtracker/extract/extracted_data/cancer_terms.csv\n"
     ]
    }
   ],
   "source": [
    "terms=aq.get_term_str()"
   ]
  },
  {
   "cell_type": "code",
   "execution_count": 4,
   "id": "ce7edba5-bbc7-4942-9ff0-30b69f72eb0d",
   "metadata": {},
   "outputs": [],
   "source": [
    "query=aq.get_default_query(terms, True)"
   ]
  },
  {
   "cell_type": "code",
   "execution_count": 6,
   "id": "9d00d079-f83e-4a4b-83a8-973997b3aa34",
   "metadata": {},
   "outputs": [
    {
     "name": "stdout",
     "output_type": "stream",
     "text": [
      "\n",
      "\twith cancer_trials as (select  distinct s.nct_id,s.brief_title AS title,\n",
      "\ts.start_date,\n",
      "\ts.overall_status,\n",
      "\ts.phase,\n",
      "\ts.enrollment,\n",
      "\ts.enrollment_type,\n",
      "\t\t\n",
      "\ts.study_type,\n",
      "\t\ts.number_of_arms,\n",
      "\t\ts.number_of_groups,\n",
      "\t\ts.why_stopped,\n",
      "\t\ts.has_dmc,\n",
      "\t\ts.is_fda_regulated_drug,\n",
      "\t\ts.is_fda_regulated_device,\n",
      "\t\ts.is_unapproved_device,\n",
      "\t\ts.is_ppsd,\n",
      "\t\ts.is_us_export\n",
      "\n",
      "\tfrom ctgov.studies s\n",
      "\tinner join ctgov.conditions c\n",
      "\ton s.nct_id=c.nct_id\n",
      "\twhere \n",
      "\t(\n",
      "\tc.downcase_name like '%cancer%' or c.downcase_name like '%neoplasm%' or c.downcase_name like '%tumor%' or c.downcase_name like '%malignancy%' or c.downcase_name like '%oncology%' or c.downcase_name like '%neoplasia%' or c.downcase_name like '%neoplastic%' or c.downcase_name like '%carcinoma%' or c.downcase_name like '%lymphoma%' or c.downcase_name like '%metastatic%' or c.downcase_name like '%metastasis%' or c.downcase_name like '%metastases%' or c.downcase_name like '%leukemia%' or c.downcase_name like '%leukaemia%' or c.downcase_name like '%myeloma%' or c.downcase_name like '%mesothelioma%' or c.downcase_name like '%malignan%' or c.downcase_name like '%hnscc%' or c.downcase_name like '%melanoma%' or c.downcase_name like '%polycythemia vera%' or c.downcase_name like '%blastoma%' or c.downcase_name like '%sarcoma%' or c.downcase_name like '%nsclc%' or (c.downcase_name like '%gist%' and downcase_name not like '%regist%' and downcase_name not like '%logist%') or c.downcase_name like '%crpc%' or c.downcase_name like '%myelodysplastic syndrome%' or c.downcase_name like '%mds%' or c.downcase_name like '%cytoma%' or c.downcase_name like '%waldenstrom macroglobulinemia%' or c.downcase_name like '%myelofibrosis%' or c.downcase_name like '%hodgkin%' or c.downcase_name like '%cml%' or c.downcase_name like '%aml%' or c.downcase_name like '%glioma%' or c.downcase_name like '%ependymoma%' or c.downcase_name like '%seminoma%' or c.downcase_name like '%chordoma%' or c.downcase_name like '%pseudomyxoma peritonei%' or c.downcase_name like '%fibroxanthoma%'\n",
      "\t))\n",
      "\t,\n",
      "\n",
      "\tconditions as (\n",
      "\tSELECT\n",
      "\tc.nct_id,\n",
      "\tSTRING_AGG(c.name, '|' ORDER BY name) AS conditions\n",
      "\tFROM cancer_trials t\n",
      "\tinner join ctgov.conditions c\n",
      "\ton t.nct_id=c.nct_id\t\n",
      "\tGROUP BY\n",
      "\tc.nct_id\t\n",
      "\t),\n",
      "\n",
      "\tsponsors as (\n",
      "\tselect \n",
      "\ts.nct_id,\n",
      "\tSTRING_AGG(s.name, '|' ORDER BY name) AS lead_sponsor\n",
      "\t\t\n",
      "\tfrom ctgov.sponsors s\n",
      "\twhere s.lead_or_collaborator='lead'\t\n",
      "\tgroup by s.nct_id\t\n",
      "\t)\n",
      "\n",
      "\tselect \n",
      "\t\n",
      "\tt.nct_id,\n",
      "\tt.title,\n",
      "\tCASE WHEN cv.has_us_facility THEN 'true' ELSE 'false' END AS has_us_facility,\n",
      "\tc.conditions,\n",
      "\te.criteria AS eligibility_criteria, \n",
      "\tt.start_date, s.lead_sponsor, b.description as summary, t.overall_status, t.phase, t.enrollment, t.enrollment_type, t.study_type, t.number_of_arms, t.number_of_groups, t.why_stopped, t.has_dmc, t.is_fda_regulated_drug, t.is_fda_regulated_device, t.is_unapproved_device, t.is_ppsd, t.is_us_export\n",
      "\n",
      "\tfrom cancer_trials t\n",
      "\n",
      "\tinner join conditions c\n",
      "\ton t.nct_id=c.nct_id\n",
      "\n",
      "\tleft join ctgov.calculated_values cv\n",
      "\ton cv.nct_id=t.nct_id\n",
      "\n",
      "\tleft join ctgov.eligibilities e\n",
      "\ton e.nct_id=t.nct_id\n",
      "\n",
      "\tleft join sponsors s\n",
      "\ton s.nct_id=t.nct_id\n",
      "\n",
      "\tleft join ctgov.brief_summaries b\n",
      "\ton b.nct_id=t.nct_id\n",
      "\n",
      "\torder by t.nct_id asc;\n",
      "\t\n"
     ]
    }
   ],
   "source": [
    "print(query)"
   ]
  },
  {
   "cell_type": "code",
   "execution_count": 2,
   "id": "cd1436e9-e9f8-451a-9de9-92b2b9d76e7b",
   "metadata": {},
   "outputs": [],
   "source": [
    "df=pd.read_csv(\"~/Downloads/trials_by_site_v5.csv\", index_col=0)"
   ]
  },
  {
   "cell_type": "code",
   "execution_count": 3,
   "id": "ba9c6eb2-b8ef-459c-a606-60e8d9326d67",
   "metadata": {},
   "outputs": [],
   "source": [
    "ncts=df.nct_identifier.dropna().tolist()"
   ]
  },
  {
   "cell_type": "code",
   "execution_count": 4,
   "id": "dfe64076-bcea-4be6-83ef-574168e69606",
   "metadata": {},
   "outputs": [
    {
     "data": {
      "text/plain": [
       "7633"
      ]
     },
     "execution_count": 4,
     "metadata": {},
     "output_type": "execute_result"
    }
   ],
   "source": [
    "len(ncts)"
   ]
  },
  {
   "cell_type": "code",
   "execution_count": 5,
   "id": "c2f45c4a-2963-45c0-aa5c-89ac583c43d7",
   "metadata": {},
   "outputs": [
    {
     "data": {
      "text/plain": [
       "'NCT03863223'"
      ]
     },
     "execution_count": 5,
     "metadata": {},
     "output_type": "execute_result"
    }
   ],
   "source": [
    "ncts[3]"
   ]
  },
  {
   "cell_type": "code",
   "execution_count": 6,
   "id": "d90edff4-3bf4-4adc-aaed-da324301d175",
   "metadata": {},
   "outputs": [
    {
     "data": {
      "text/plain": [
       "'NCT03822351'"
      ]
     },
     "execution_count": 6,
     "metadata": {},
     "output_type": "execute_result"
    }
   ],
   "source": [
    "ncts[100]"
   ]
  },
  {
   "cell_type": "code",
   "execution_count": 7,
   "id": "2781140a-75f1-467e-9658-6e40a6610286",
   "metadata": {},
   "outputs": [],
   "source": [
    "query=aq.get_query_for_ncts(ncts)"
   ]
  },
  {
   "cell_type": "code",
   "execution_count": 8,
   "id": "c81af377-2896-4d80-9238-aa510e5afaa8",
   "metadata": {},
   "outputs": [],
   "source": [
    "# print(query)"
   ]
  },
  {
   "cell_type": "code",
   "execution_count": 9,
   "id": "eb50d64a-6b3f-4cb2-ba77-c43f2592a9ff",
   "metadata": {},
   "outputs": [
    {
     "name": "stdin",
     "output_type": "stream",
     "text": [
      "What is your AACT username? ···\n",
      "What is your AACT password? ············\n"
     ]
    },
    {
     "name": "stdout",
     "output_type": "stream",
     "text": [
      "PostgreSQL connection is now closed\n"
     ]
    }
   ],
   "source": [
    "output=aq.query_aact(aq.get_query_for_ncts(ncts))"
   ]
  },
  {
   "cell_type": "code",
   "execution_count": 10,
   "id": "72a9353a-ca77-4691-aedc-8e52eeabd3a5",
   "metadata": {},
   "outputs": [
    {
     "data": {
      "text/html": [
       "<div>\n",
       "<style scoped>\n",
       "    .dataframe tbody tr th:only-of-type {\n",
       "        vertical-align: middle;\n",
       "    }\n",
       "\n",
       "    .dataframe tbody tr th {\n",
       "        vertical-align: top;\n",
       "    }\n",
       "\n",
       "    .dataframe thead th {\n",
       "        text-align: right;\n",
       "    }\n",
       "</style>\n",
       "<table border=\"1\" class=\"dataframe\">\n",
       "  <thead>\n",
       "    <tr style=\"text-align: right;\">\n",
       "      <th></th>\n",
       "      <th>nct_id</th>\n",
       "      <th>title</th>\n",
       "      <th>has_us_facility</th>\n",
       "      <th>conditions</th>\n",
       "      <th>eligibility_criteria</th>\n",
       "      <th>start_date</th>\n",
       "      <th>lead_sponsor</th>\n",
       "      <th>summary</th>\n",
       "      <th>overall_status</th>\n",
       "      <th>phase</th>\n",
       "      <th>...</th>\n",
       "      <th>study_type</th>\n",
       "      <th>number_of_arms</th>\n",
       "      <th>number_of_groups</th>\n",
       "      <th>why_stopped</th>\n",
       "      <th>has_dmc</th>\n",
       "      <th>is_fda_regulated_drug</th>\n",
       "      <th>is_fda_regulated_device</th>\n",
       "      <th>is_unapproved_device</th>\n",
       "      <th>is_ppsd</th>\n",
       "      <th>is_us_export</th>\n",
       "    </tr>\n",
       "  </thead>\n",
       "  <tbody>\n",
       "    <tr>\n",
       "      <th>0</th>\n",
       "      <td>NCT00002651</td>\n",
       "      <td>SWOG-9346, Hormone Therapy in Treating Men Wit...</td>\n",
       "      <td>false</td>\n",
       "      <td>Prostate Cancer</td>\n",
       "      <td>DISEASE CHARACTERISTICS:\\n\\nHistologically or ...</td>\n",
       "      <td>1995-05-31</td>\n",
       "      <td>Southwest Oncology Group</td>\n",
       "      <td>RATIONALE: Testosterone can stimulate the grow...</td>\n",
       "      <td>Completed</td>\n",
       "      <td>Phase 3</td>\n",
       "      <td>...</td>\n",
       "      <td>Interventional</td>\n",
       "      <td>2.0</td>\n",
       "      <td>NaN</td>\n",
       "      <td>None</td>\n",
       "      <td>True</td>\n",
       "      <td>None</td>\n",
       "      <td>None</td>\n",
       "      <td>None</td>\n",
       "      <td>None</td>\n",
       "      <td>None</td>\n",
       "    </tr>\n",
       "    <tr>\n",
       "      <th>1</th>\n",
       "      <td>NCT00003140</td>\n",
       "      <td>Letrozole After Tamoxifen in Treating Women Wi...</td>\n",
       "      <td>false</td>\n",
       "      <td>Breast Cancer</td>\n",
       "      <td>DISEASE CHARACTERISTICS:\\n\\nHistologically or ...</td>\n",
       "      <td>1998-08-24</td>\n",
       "      <td>NCIC Clinical Trials Group</td>\n",
       "      <td>RATIONALE: Estrogen can stimulate the growth o...</td>\n",
       "      <td>Completed</td>\n",
       "      <td>Phase 3</td>\n",
       "      <td>...</td>\n",
       "      <td>Interventional</td>\n",
       "      <td>2.0</td>\n",
       "      <td>NaN</td>\n",
       "      <td>None</td>\n",
       "      <td>True</td>\n",
       "      <td>None</td>\n",
       "      <td>None</td>\n",
       "      <td>None</td>\n",
       "      <td>None</td>\n",
       "      <td>None</td>\n",
       "    </tr>\n",
       "    <tr>\n",
       "      <th>2</th>\n",
       "      <td>NCT00003389</td>\n",
       "      <td>Combination Chemotherapy With or Without Radia...</td>\n",
       "      <td>true</td>\n",
       "      <td>Lymphoma</td>\n",
       "      <td>Inclusion criteria:\\n\\nHistologically proven p...</td>\n",
       "      <td>1999-04-30</td>\n",
       "      <td>Eastern Cooperative Oncology Group</td>\n",
       "      <td>RATIONALE: Drugs used in chemotherapy use diff...</td>\n",
       "      <td>Completed</td>\n",
       "      <td>Phase 3</td>\n",
       "      <td>...</td>\n",
       "      <td>Interventional</td>\n",
       "      <td>2.0</td>\n",
       "      <td>NaN</td>\n",
       "      <td>None</td>\n",
       "      <td>True</td>\n",
       "      <td>None</td>\n",
       "      <td>None</td>\n",
       "      <td>None</td>\n",
       "      <td>None</td>\n",
       "      <td>None</td>\n",
       "    </tr>\n",
       "    <tr>\n",
       "      <th>3</th>\n",
       "      <td>NCT00003641</td>\n",
       "      <td>High-Dose Interferon Alfa in Treating Patients...</td>\n",
       "      <td>true</td>\n",
       "      <td>Melanoma (Skin)</td>\n",
       "      <td>Inclusion Criteria:\\n\\nHistologically confirme...</td>\n",
       "      <td>1998-12-31</td>\n",
       "      <td>ECOG-ACRIN Cancer Research Group</td>\n",
       "      <td>RATIONALE: Interferon alfa may interfere with ...</td>\n",
       "      <td>Active, not recruiting</td>\n",
       "      <td>Phase 3</td>\n",
       "      <td>...</td>\n",
       "      <td>Interventional</td>\n",
       "      <td>2.0</td>\n",
       "      <td>NaN</td>\n",
       "      <td>None</td>\n",
       "      <td>True</td>\n",
       "      <td>None</td>\n",
       "      <td>None</td>\n",
       "      <td>None</td>\n",
       "      <td>None</td>\n",
       "      <td>None</td>\n",
       "    </tr>\n",
       "    <tr>\n",
       "      <th>4</th>\n",
       "      <td>NCT00003857</td>\n",
       "      <td>Radiation Therapy With or Without Optional Tam...</td>\n",
       "      <td>true</td>\n",
       "      <td>Breast Cancer</td>\n",
       "      <td>DISEASE CHARACTERISTICS:\\n\\nDuctal carcinoma i...</td>\n",
       "      <td>1999-12-31</td>\n",
       "      <td>Radiation Therapy Oncology Group</td>\n",
       "      <td>RATIONALE: Radiation therapy uses high-energy ...</td>\n",
       "      <td>Completed</td>\n",
       "      <td>Phase 3</td>\n",
       "      <td>...</td>\n",
       "      <td>Interventional</td>\n",
       "      <td>2.0</td>\n",
       "      <td>NaN</td>\n",
       "      <td>None</td>\n",
       "      <td>True</td>\n",
       "      <td>None</td>\n",
       "      <td>None</td>\n",
       "      <td>None</td>\n",
       "      <td>None</td>\n",
       "      <td>None</td>\n",
       "    </tr>\n",
       "  </tbody>\n",
       "</table>\n",
       "<p>5 rows × 22 columns</p>\n",
       "</div>"
      ],
      "text/plain": [
       "        nct_id                                              title  \\\n",
       "0  NCT00002651  SWOG-9346, Hormone Therapy in Treating Men Wit...   \n",
       "1  NCT00003140  Letrozole After Tamoxifen in Treating Women Wi...   \n",
       "2  NCT00003389  Combination Chemotherapy With or Without Radia...   \n",
       "3  NCT00003641  High-Dose Interferon Alfa in Treating Patients...   \n",
       "4  NCT00003857  Radiation Therapy With or Without Optional Tam...   \n",
       "\n",
       "  has_us_facility       conditions  \\\n",
       "0           false  Prostate Cancer   \n",
       "1           false    Breast Cancer   \n",
       "2            true         Lymphoma   \n",
       "3            true  Melanoma (Skin)   \n",
       "4            true    Breast Cancer   \n",
       "\n",
       "                                eligibility_criteria  start_date  \\\n",
       "0  DISEASE CHARACTERISTICS:\\n\\nHistologically or ...  1995-05-31   \n",
       "1  DISEASE CHARACTERISTICS:\\n\\nHistologically or ...  1998-08-24   \n",
       "2  Inclusion criteria:\\n\\nHistologically proven p...  1999-04-30   \n",
       "3  Inclusion Criteria:\\n\\nHistologically confirme...  1998-12-31   \n",
       "4  DISEASE CHARACTERISTICS:\\n\\nDuctal carcinoma i...  1999-12-31   \n",
       "\n",
       "                         lead_sponsor  \\\n",
       "0            Southwest Oncology Group   \n",
       "1          NCIC Clinical Trials Group   \n",
       "2  Eastern Cooperative Oncology Group   \n",
       "3    ECOG-ACRIN Cancer Research Group   \n",
       "4    Radiation Therapy Oncology Group   \n",
       "\n",
       "                                             summary          overall_status  \\\n",
       "0  RATIONALE: Testosterone can stimulate the grow...               Completed   \n",
       "1  RATIONALE: Estrogen can stimulate the growth o...               Completed   \n",
       "2  RATIONALE: Drugs used in chemotherapy use diff...               Completed   \n",
       "3  RATIONALE: Interferon alfa may interfere with ...  Active, not recruiting   \n",
       "4  RATIONALE: Radiation therapy uses high-energy ...               Completed   \n",
       "\n",
       "     phase  ...      study_type number_of_arms number_of_groups  why_stopped  \\\n",
       "0  Phase 3  ...  Interventional            2.0              NaN         None   \n",
       "1  Phase 3  ...  Interventional            2.0              NaN         None   \n",
       "2  Phase 3  ...  Interventional            2.0              NaN         None   \n",
       "3  Phase 3  ...  Interventional            2.0              NaN         None   \n",
       "4  Phase 3  ...  Interventional            2.0              NaN         None   \n",
       "\n",
       "   has_dmc is_fda_regulated_drug is_fda_regulated_device is_unapproved_device  \\\n",
       "0     True                  None                    None                 None   \n",
       "1     True                  None                    None                 None   \n",
       "2     True                  None                    None                 None   \n",
       "3     True                  None                    None                 None   \n",
       "4     True                  None                    None                 None   \n",
       "\n",
       "  is_ppsd is_us_export  \n",
       "0    None         None  \n",
       "1    None         None  \n",
       "2    None         None  \n",
       "3    None         None  \n",
       "4    None         None  \n",
       "\n",
       "[5 rows x 22 columns]"
      ]
     },
     "execution_count": 10,
     "metadata": {},
     "output_type": "execute_result"
    }
   ],
   "source": [
    "output.head()"
   ]
  },
  {
   "cell_type": "code",
   "execution_count": 11,
   "id": "40c441e7-2ee1-4610-bf5d-2b89ddf30eef",
   "metadata": {},
   "outputs": [],
   "source": [
    "out_nct=output.nct_id.tolist()"
   ]
  },
  {
   "cell_type": "code",
   "execution_count": 13,
   "id": "32695e5f-a14c-4cee-a21e-b5c294e5d7a7",
   "metadata": {},
   "outputs": [],
   "source": [
    "output.to_csv(\"~/Downloads/supplement_4.csv\")"
   ]
  },
  {
   "cell_type": "code",
   "execution_count": 12,
   "id": "031d4ef2-0fda-4006-b9ac-528ba1501c33",
   "metadata": {},
   "outputs": [],
   "source": [
    "diff = list(set([item for item in ncts if item not in out_nct]))"
   ]
  },
  {
   "cell_type": "code",
   "execution_count": 13,
   "id": "0078001c-052a-4893-a036-30cc90b37e98",
   "metadata": {},
   "outputs": [
    {
     "data": {
      "text/plain": [
       "212"
      ]
     },
     "execution_count": 13,
     "metadata": {},
     "output_type": "execute_result"
    }
   ],
   "source": [
    "len(diff)"
   ]
  },
  {
   "cell_type": "code",
   "execution_count": 14,
   "id": "3829e010-10f1-4b49-9c12-01fa6005eac2",
   "metadata": {},
   "outputs": [
    {
     "data": {
      "text/plain": [
       "['NCT02796261',\n",
       " '02596035',\n",
       " 'NCT02946463',\n",
       " 'NCT04458909',\n",
       " '8888',\n",
       " 'NCT01950247',\n",
       " 'NCT01611155',\n",
       " 'nct02465060',\n",
       " 'NCT03818607',\n",
       " 'NCT03911869',\n",
       " 'NCT03778957',\n",
       " 'NCT04759664',\n",
       " '03254875',\n",
       " 'NCT03518034',\n",
       " 'NCT04687072',\n",
       " 'NCT04573478',\n",
       " 'NCT12345678',\n",
       " 'NCT04225026',\n",
       " '02545504',\n",
       " 'NCT04592198',\n",
       " '02511106',\n",
       " 'NCT04902157',\n",
       " 'NCT03224767',\n",
       " 'NCT02199730',\n",
       " 'NCT04648020',\n",
       " 'NCT03739814',\n",
       " 'NCIC MA-17  R',\n",
       " 'NCT02178475',\n",
       " 'BETH',\n",
       " 'CDR0000659092',\n",
       " 'NCT04812925',\n",
       " 'NCT03583164',\n",
       " 'NCT05280509',\n",
       " 'NCT04274738',\n",
       " 'NCT23456789',\n",
       " 'NCT04138927',\n",
       " 'NCT03584516',\n",
       " 'NCT029881303',\n",
       " 'NCT03731637',\n",
       " 'NCT00000002',\n",
       " 'NCT04215809',\n",
       " 'NCT04188379',\n",
       " 'NCT3367572',\n",
       " 'NCT03362177',\n",
       " 'NCT05070845',\n",
       " '02034916',\n",
       " 'NCT03233191',\n",
       " 'NCT04032704',\n",
       " 'NCT03550391',\n",
       " 'CALGB/SWOG 80702',\n",
       " 'NCT04971226',\n",
       " '03498716',\n",
       " 'NCT04562870',\n",
       " 'NCT03036813',\n",
       " 'NCT05074433',\n",
       " 'NCT02738047',\n",
       " 'NCT03975647',\n",
       " 'NCT03395704',\n",
       " 'NCT00000001',\n",
       " 'NCT03053440',\n",
       " '1111111',\n",
       " 'NCT04799275',\n",
       " 'NCT3701282',\n",
       " 'NCT4214262',\n",
       " 'NCT04745832',\n",
       " 'NCT04609046',\n",
       " 'NCT04511975',\n",
       " 'NCT04971772',\n",
       " '02437318',\n",
       " 'NCT03180268',\n",
       " 'NCT04454658',\n",
       " 'NCT02129972',\n",
       " 'NCT04964518',\n",
       " 'NCT04367480',\n",
       " 'NCT03992443',\n",
       " 'NCT04468984',\n",
       " 'NCT02315469)',\n",
       " 'NCT04216290',\n",
       " 'NCT04071223',\n",
       " 'NCT04672460',\n",
       " 'NCT02092909',\n",
       " 'NCT12345688',\n",
       " 'NCT04592913',\n",
       " 'NCT03400098',\n",
       " 'NCT03395210',\n",
       " 'NCT02940886',\n",
       " '12345',\n",
       " 'NCT00000419',\n",
       " 'NCT05073458',\n",
       " 'NCT02694978',\n",
       " 'NCT04533750',\n",
       " '938383993030393',\n",
       " '02492711',\n",
       " 'NCT03608020',\n",
       " 'NCT04472598',\n",
       " 'NCT00117117',\n",
       " 'NCT03646123',\n",
       " '03998202',\n",
       " '02454179',\n",
       " 'NCT03800134',\n",
       " 'CT01831726',\n",
       " 'NCT04498117',\n",
       " '123456789',\n",
       " 'NCT05205252',\n",
       " 'NCT04396860',\n",
       " 'NCT04854499',\n",
       " 'NCT03531255',\n",
       " 'NCT03500549',\n",
       " 'NCT03403712',\n",
       " 'NCT03421353',\n",
       " 'NCT03994627',\n",
       " 'NCT03941860',\n",
       " '02537444',\n",
       " 'NCT03180502',\n",
       " 'NCT03734016 ',\n",
       " 'ECOG-50303',\n",
       " 'NCT05251727',\n",
       " 'NCT45454545',\n",
       " 'NCT03808558',\n",
       " 'NCT05081609',\n",
       " 'NCT04278924',\n",
       " 'NCT03102606',\n",
       " 'NCT03689712',\n",
       " 'NCT04929041',\n",
       " 'NCT03937154',\n",
       " 'None provided',\n",
       " 'CAN-NCIC-PRC2',\n",
       " '04873362',\n",
       " '02486718',\n",
       " 'NCT03200340',\n",
       " 'NCT03194542',\n",
       " 'NCT02490878',\n",
       " 'CT02574078',\n",
       " 'NCT04175912',\n",
       " 'NCT04739800',\n",
       " 'NCT02517021',\n",
       " 'NCT04671667',\n",
       " 'NCT02106494',\n",
       " 'NCT03746314',\n",
       " 'NCT02523014',\n",
       " 'NCT03291587',\n",
       " 'NCT04904276',\n",
       " 'NCT03471078',\n",
       " 'NCT03859869',\n",
       " 'NCT04224688',\n",
       " 'NCT03707574',\n",
       " 'NCT03594175',\n",
       " 'NCT04145115',\n",
       " 'NCT04181060',\n",
       " 'NCT01781468',\n",
       " 'NCT03222609',\n",
       " 'NCT01984554',\n",
       " 'NCT04372602',\n",
       " 'NCT02516423',\n",
       " 'B-47 (NSABP-47)NCT01275677',\n",
       " 'NCT04052854',\n",
       " 'NCT05279001',\n",
       " 'NCT01695993',\n",
       " 'NCT02856646',\n",
       " 'NCT00376597',\n",
       " 'NCT03869814 ',\n",
       " '02588261',\n",
       " 'NCT04638829',\n",
       " 'NCT00244686',\n",
       " 'NCT03456063',\n",
       " 'NCT01254630',\n",
       " 'NCT01744665',\n",
       " 'NCT03226678',\n",
       " 'NCT03263091',\n",
       " 'NCT02673190',\n",
       " 'NCT01655823',\n",
       " 'REVOLUTION',\n",
       " 'PICI 180823',\n",
       " 'NCT04989283',\n",
       " 'Factor XIII',\n",
       " 'NCT03499808',\n",
       " 'NCT05204927',\n",
       " 'NCT03628638',\n",
       " '03653507',\n",
       " 'NCT02612558',\n",
       " 'NCT004493853',\n",
       " 'NCT03101358',\n",
       " '123456',\n",
       " 'CALGB 70604',\n",
       " 'NCT05003882',\n",
       " 'NCT04076943',\n",
       " 'NCT02593760',\n",
       " 'NCT03264989',\n",
       " 'NCT02130063',\n",
       " 'NCT04319198',\n",
       " 'NCT03801902',\n",
       " 'ACORN',\n",
       " 'NCT03518138',\n",
       " 'CT01655823',\n",
       " 'NCT04269551',\n",
       " 'NCT02508389',\n",
       " 'NCT3199885',\n",
       " 'NCT03764618',\n",
       " 'NCT03312582',\n",
       " 'CT01885195',\n",
       " 'NCT4435756',\n",
       " 'NCT03448926',\n",
       " 'NCT04708418',\n",
       " 'NCT02822573',\n",
       " 'NCT3737981',\n",
       " 'NCT03147742',\n",
       " 'NCT02229539',\n",
       " 'NCT02949128',\n",
       " 'NCT02401061',\n",
       " 'NCT01859754',\n",
       " 'CALGB 30504',\n",
       " 'NCT04607421']"
      ]
     },
     "execution_count": 14,
     "metadata": {},
     "output_type": "execute_result"
    }
   ],
   "source": [
    "diff"
   ]
  },
  {
   "cell_type": "code",
   "execution_count": null,
   "id": "89294d53-33c7-4f72-81f2-fd61c3adbb47",
   "metadata": {},
   "outputs": [],
   "source": []
  }
 ],
 "metadata": {
  "kernelspec": {
   "display_name": "Python 3",
   "language": "python",
   "name": "python3"
  },
  "language_info": {
   "codemirror_mode": {
    "name": "ipython",
    "version": 3
   },
   "file_extension": ".py",
   "mimetype": "text/x-python",
   "name": "python",
   "nbconvert_exporter": "python",
   "pygments_lexer": "ipython3",
   "version": "3.6.13"
  }
 },
 "nbformat": 4,
 "nbformat_minor": 5
}
