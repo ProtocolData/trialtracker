{
 "cells": [
  {
   "cell_type": "code",
   "execution_count": 1,
   "id": "3cdffd43-5d97-4932-99e6-f586168c317d",
   "metadata": {},
   "outputs": [],
   "source": [
    "# set path\n",
    "import os\n",
    "import sys\n",
    "my_path = os.path.abspath(os.path.dirname('.'))\n",
    "path = os.path.join(my_path, \"..\")\n",
    "sys.path.insert(1, path)"
   ]
  },
  {
   "cell_type": "code",
   "execution_count": 2,
   "id": "5bd96586-7fd4-47d1-9c19-3abb55f1f761",
   "metadata": {},
   "outputs": [],
   "source": [
    "# load modules\n",
    "import pandas as pd\n",
    "from extract import extracted_data_analyzer as eda, aact_querier as aq\n",
    "import seaborn as sns\n",
    "import numpy as np\n",
    "import matplotlib.pyplot as plt\n",
    "import matplotlib.patches as mpatches\n",
    "import psycopg2\n",
    "import getpass\n",
    "import pandas.io.sql as psql\n",
    "import plotly.express as px\n",
    "import imageio\n",
    "import pycountry as pc\n",
    "from plotly.offline import iplot\n",
    "from matplotlib.pyplot import *\n",
    "import re"
   ]
  },
  {
   "cell_type": "code",
   "execution_count": null,
   "id": "7d4d9599-ab45-49c4-8eb0-c6f322cbcb4f",
   "metadata": {},
   "outputs": [],
   "source": [
    "# read data\n",
    "onc_trials=pd.read_csv(path+\"/extract/extracted_data/onc_trials.csv\", parse_dates=['start_datetime'], dtype={'eligibility_criteria': str}, index_col=0)"
   ]
  },
  {
   "cell_type": "code",
   "execution_count": 4,
   "id": "cac88b0c-0b07-4bb4-94f7-aecc7fc23f7d",
   "metadata": {},
   "outputs": [
    {
     "data": {
      "text/html": [
       "<div>\n",
       "<style scoped>\n",
       "    .dataframe tbody tr th:only-of-type {\n",
       "        vertical-align: middle;\n",
       "    }\n",
       "\n",
       "    .dataframe tbody tr th {\n",
       "        vertical-align: top;\n",
       "    }\n",
       "\n",
       "    .dataframe thead th {\n",
       "        text-align: right;\n",
       "    }\n",
       "</style>\n",
       "<table border=\"1\" class=\"dataframe\">\n",
       "  <thead>\n",
       "    <tr style=\"text-align: right;\">\n",
       "      <th></th>\n",
       "      <th>nct_id</th>\n",
       "      <th>title</th>\n",
       "      <th>has_us_facility</th>\n",
       "      <th>conditions</th>\n",
       "      <th>eligibility_criteria</th>\n",
       "      <th>start_date</th>\n",
       "      <th>lead_sponsor</th>\n",
       "      <th>summary</th>\n",
       "      <th>overall_status</th>\n",
       "      <th>phase</th>\n",
       "      <th>...</th>\n",
       "      <th>has_dmc</th>\n",
       "      <th>is_fda_regulated_drug</th>\n",
       "      <th>is_fda_regulated_device</th>\n",
       "      <th>is_unapproved_device</th>\n",
       "      <th>is_ppsd</th>\n",
       "      <th>is_us_export</th>\n",
       "      <th>start_datetime</th>\n",
       "      <th>start_year</th>\n",
       "      <th>mapped_phase</th>\n",
       "      <th>mapped_study_type</th>\n",
       "    </tr>\n",
       "  </thead>\n",
       "  <tbody>\n",
       "    <tr>\n",
       "      <th>0</th>\n",
       "      <td>NCT00000105</td>\n",
       "      <td>Vaccination With Tetanus and KLH to Assess Imm...</td>\n",
       "      <td>True</td>\n",
       "      <td>Cancer</td>\n",
       "      <td>Inclusion Criteria:\\n\\nPatients must have a di...</td>\n",
       "      <td>2002-07-31</td>\n",
       "      <td>Masonic Cancer Center, University of Minnesota</td>\n",
       "      <td>The purpose of this study is to learn how the ...</td>\n",
       "      <td>Terminated</td>\n",
       "      <td>NaN</td>\n",
       "      <td>...</td>\n",
       "      <td>True</td>\n",
       "      <td>NaN</td>\n",
       "      <td>NaN</td>\n",
       "      <td>NaN</td>\n",
       "      <td>NaN</td>\n",
       "      <td>NaN</td>\n",
       "      <td>2002-07-31</td>\n",
       "      <td>2002.0</td>\n",
       "      <td>h) Missing</td>\n",
       "      <td>b) Observational</td>\n",
       "    </tr>\n",
       "  </tbody>\n",
       "</table>\n",
       "<p>1 rows × 26 columns</p>\n",
       "</div>"
      ],
      "text/plain": [
       "        nct_id                                              title  \\\n",
       "0  NCT00000105  Vaccination With Tetanus and KLH to Assess Imm...   \n",
       "\n",
       "   has_us_facility conditions  \\\n",
       "0             True     Cancer   \n",
       "\n",
       "                                eligibility_criteria  start_date  \\\n",
       "0  Inclusion Criteria:\\n\\nPatients must have a di...  2002-07-31   \n",
       "\n",
       "                                     lead_sponsor  \\\n",
       "0  Masonic Cancer Center, University of Minnesota   \n",
       "\n",
       "                                             summary overall_status phase  \\\n",
       "0  The purpose of this study is to learn how the ...     Terminated   NaN   \n",
       "\n",
       "   ...  has_dmc is_fda_regulated_drug is_fda_regulated_device  \\\n",
       "0  ...     True                   NaN                     NaN   \n",
       "\n",
       "   is_unapproved_device  is_ppsd is_us_export start_datetime start_year  \\\n",
       "0                   NaN      NaN          NaN     2002-07-31     2002.0   \n",
       "\n",
       "  mapped_phase mapped_study_type  \n",
       "0   h) Missing  b) Observational  \n",
       "\n",
       "[1 rows x 26 columns]"
      ]
     },
     "execution_count": 4,
     "metadata": {},
     "output_type": "execute_result"
    }
   ],
   "source": [
    "onc_trials.head(1)"
   ]
  },
  {
   "cell_type": "code",
   "execution_count": 7,
   "id": "7ed7de12-ead7-4ee9-929b-3b5b2ab0fabd",
   "metadata": {},
   "outputs": [],
   "source": [
    "import requests"
   ]
  },
  {
   "cell_type": "code",
   "execution_count": 17,
   "id": "4cab37db-0d80-4bee-bd27-4983cd95f5d2",
   "metadata": {},
   "outputs": [
    {
     "data": {
      "text/plain": [
       "'{\"Code\":\"InternalServerError\",\"Message\":\"An internal server error occurred.\"}'"
      ]
     },
     "execution_count": 17,
     "metadata": {},
     "output_type": "execute_result"
    }
   ],
   "source": [
    "target_url = 'https://bionlp.aws.science.io/v1/annotate'\n",
    "myobj = {'somekey': 'somevalue'}\n",
    "\n",
    "headers = {\n",
    "            # 'Content-Type': 'text',\n",
    "            'x-api-id': 'dX8703raZb4lPM0cZRNa',\n",
    "            'x-api-secret': 'a6c848de-7d7b-47cd-b391-8c17251ef27d',\n",
    "        }\n",
    "\n",
    "response = requests.post(\n",
    "                target_url,\n",
    "                # data=payload,\n",
    "                headers=headers,\n",
    "                # timeout=self.timeout,\n",
    "            )\n",
    "\n",
    "# print(x.text)\n",
    "response.text"
   ]
  },
  {
   "cell_type": "code",
   "execution_count": null,
   "id": "4427cf8c-5ee1-4750-bdab-53cc5b540232",
   "metadata": {},
   "outputs": [],
   "source": []
  }
 ],
 "metadata": {
  "kernelspec": {
   "display_name": "Python 3",
   "language": "python",
   "name": "python3"
  },
  "language_info": {
   "codemirror_mode": {
    "name": "ipython",
    "version": 3
   },
   "file_extension": ".py",
   "mimetype": "text/x-python",
   "name": "python",
   "nbconvert_exporter": "python",
   "pygments_lexer": "ipython3",
   "version": "3.6.13"
  }
 },
 "nbformat": 4,
 "nbformat_minor": 5
}
