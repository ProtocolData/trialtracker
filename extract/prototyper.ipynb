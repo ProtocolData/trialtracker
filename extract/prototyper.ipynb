{
 "cells": [
  {
   "cell_type": "code",
   "execution_count": 1,
   "id": "0521c904-5526-47d0-b894-07cf608d2765",
   "metadata": {},
   "outputs": [],
   "source": [
    "import pandas as pd\n",
    "import os\n",
    "import sys\n",
    "import aact_querier as aq\n",
    "\n",
    "filepath='extracted_data/ct_fb_parser_data.csv'\n",
    "nct_col='#nct_id'"
   ]
  },
  {
   "cell_type": "code",
   "execution_count": 13,
   "id": "b81693db-cf50-4571-941d-ab29aa06ad9d",
   "metadata": {},
   "outputs": [],
   "source": [
    "query=aq.get_default_query(aq.get_term_str())"
   ]
  },
  {
   "cell_type": "code",
   "execution_count": 14,
   "id": "0f89746c-b8b0-424c-9acf-1d7327e9d77c",
   "metadata": {},
   "outputs": [
    {
     "name": "stdin",
     "output_type": "stream",
     "text": [
      "What is your AACT username?  If you don't have one, please sign up for access here: https://aact.ctti-clinicaltrials.org/users/sign_up ···\n",
      "What is your AACT password? ············\n"
     ]
    },
    {
     "name": "stdout",
     "output_type": "stream",
     "text": [
      "PostgreSQL connection is now closed\n"
     ]
    }
   ],
   "source": [
    "df=aq.query_aact(query)"
   ]
  },
  {
   "cell_type": "code",
   "execution_count": 34,
   "id": "5f8b8462-d9eb-4d9e-86e8-8d9fd40783a9",
   "metadata": {},
   "outputs": [],
   "source": [
    "df['start_datetime']=pd.to_datetime(df['start_date'])\n",
    "# df['year']=pd.to_datetime(df['start_date']).dt.year"
   ]
  },
  {
   "cell_type": "code",
   "execution_count": 35,
   "id": "21f7a5bf-6388-4780-8adf-296a3de5db9a",
   "metadata": {},
   "outputs": [],
   "source": [
    "df[(df['start_datetime']>='2016-01-01')&(df['start_datetime']<'2022-01-01')].to_csv(\"~/Downloads/fh_ctgov.csv\")\n"
   ]
  },
  {
   "cell_type": "code",
   "execution_count": 53,
   "id": "3f65dd1c-5c9e-40fa-a8a4-f10191de55f7",
   "metadata": {},
   "outputs": [],
   "source": [
    "small_df=df[(df['start_datetime']>='2016-01-01')&(df['start_datetime']<'2022-01-01')]"
   ]
  },
  {
   "cell_type": "code",
   "execution_count": 55,
   "id": "a2098b29-3fcc-418a-9670-a44c0af2f814",
   "metadata": {},
   "outputs": [
    {
     "data": {
      "text/plain": [
       "(32480, 39)"
      ]
     },
     "execution_count": 55,
     "metadata": {},
     "output_type": "execute_result"
    }
   ],
   "source": [
    "small_df.shape"
   ]
  },
  {
   "cell_type": "code",
   "execution_count": 36,
   "id": "d6278678-4071-49d7-9c3d-330c1d0b7be1",
   "metadata": {},
   "outputs": [
    {
     "data": {
      "text/plain": [
       "5    None\n",
       "6    None\n",
       "7    None\n",
       "8    None\n",
       "9    None\n",
       "Name: start_date, dtype: object"
      ]
     },
     "execution_count": 36,
     "metadata": {},
     "output_type": "execute_result"
    }
   ],
   "source": [
    "df[df['year'].isnull()].start_date.head()"
   ]
  },
  {
   "cell_type": "code",
   "execution_count": 41,
   "id": "b70ac409-7027-4be6-836b-3c83c0955e2c",
   "metadata": {},
   "outputs": [],
   "source": [
    "pd.set_option('display.max_columns', None)\n",
    "pd.set_option('display.max_rows', None)"
   ]
  },
  {
   "cell_type": "code",
   "execution_count": 54,
   "id": "55c7d08a-1247-47c2-a993-54a7f42087af",
   "metadata": {},
   "outputs": [
    {
     "data": {
      "text/plain": [
       "count    30411.000000\n",
       "mean        11.095393\n",
       "std         49.680172\n",
       "min          1.000000\n",
       "25%          1.000000\n",
       "50%          1.000000\n",
       "75%          4.000000\n",
       "max       1498.000000\n",
       "Name: total_facility_count, dtype: float64"
      ]
     },
     "execution_count": 54,
     "metadata": {},
     "output_type": "execute_result"
    }
   ],
   "source": [
    "small_df.total_facility_count.describe()"
   ]
  },
  {
   "cell_type": "code",
   "execution_count": 57,
   "id": "93eddfc8-e63c-4c7d-b472-1612f217f7d8",
   "metadata": {},
   "outputs": [
    {
     "data": {
      "text/html": [
       "<div>\n",
       "<style scoped>\n",
       "    .dataframe tbody tr th:only-of-type {\n",
       "        vertical-align: middle;\n",
       "    }\n",
       "\n",
       "    .dataframe tbody tr th {\n",
       "        vertical-align: top;\n",
       "    }\n",
       "\n",
       "    .dataframe thead th {\n",
       "        text-align: right;\n",
       "    }\n",
       "</style>\n",
       "<table border=\"1\" class=\"dataframe\">\n",
       "  <thead>\n",
       "    <tr style=\"text-align: right;\">\n",
       "      <th></th>\n",
       "      <th>#nct_id</th>\n",
       "      <th>title</th>\n",
       "      <th>has_us_facility</th>\n",
       "      <th>conditions</th>\n",
       "      <th>eligibility_criteria</th>\n",
       "      <th>start_date</th>\n",
       "      <th>lead_sponsor</th>\n",
       "      <th>summary</th>\n",
       "      <th>overall_status</th>\n",
       "      <th>phase</th>\n",
       "      <th>enrollment</th>\n",
       "      <th>enrollment_type</th>\n",
       "      <th>study_type</th>\n",
       "      <th>number_of_arms</th>\n",
       "      <th>number_of_groups</th>\n",
       "      <th>why_stopped</th>\n",
       "      <th>has_dmc</th>\n",
       "      <th>is_fda_regulated_drug</th>\n",
       "      <th>is_fda_regulated_device</th>\n",
       "      <th>is_unapproved_device</th>\n",
       "      <th>is_ppsd</th>\n",
       "      <th>is_us_export</th>\n",
       "      <th>nct_id</th>\n",
       "      <th>responsible_party_name</th>\n",
       "      <th>responsible_party_type</th>\n",
       "      <th>responsible_party_title</th>\n",
       "      <th>responsible_party_organization</th>\n",
       "      <th>responsible_party_affiliation</th>\n",
       "      <th>nct_id</th>\n",
       "      <th>pi_name</th>\n",
       "      <th>pi_role</th>\n",
       "      <th>pi_affiliation</th>\n",
       "      <th>investigator_initiated_study</th>\n",
       "      <th>nct_id</th>\n",
       "      <th>us_facility_count</th>\n",
       "      <th>total_facility_count</th>\n",
       "      <th>percent_us_facilities</th>\n",
       "      <th>year</th>\n",
       "      <th>start_datetime</th>\n",
       "    </tr>\n",
       "  </thead>\n",
       "  <tbody>\n",
       "    <tr>\n",
       "      <th>46319</th>\n",
       "      <td>NCT02794428</td>\n",
       "      <td>Chemoprevention of Gastric Carcinogenesis</td>\n",
       "      <td>true</td>\n",
       "      <td>Gastric Cancer|Gastric Intestinal Metaplasia</td>\n",
       "      <td>Inclusion Criteria:\\n\\nPatients must have a hi...</td>\n",
       "      <td>2016-09-19</td>\n",
       "      <td>Vanderbilt-Ingram Cancer Center</td>\n",
       "      <td>A clinical study of the efficacy of oral alpha...</td>\n",
       "      <td>Recruiting</td>\n",
       "      <td>Phase 2</td>\n",
       "      <td>300.0</td>\n",
       "      <td>Anticipated</td>\n",
       "      <td>Interventional</td>\n",
       "      <td>2.0</td>\n",
       "      <td>NaN</td>\n",
       "      <td>None</td>\n",
       "      <td>True</td>\n",
       "      <td>None</td>\n",
       "      <td>None</td>\n",
       "      <td>None</td>\n",
       "      <td>None</td>\n",
       "      <td>None</td>\n",
       "      <td>NCT02794428</td>\n",
       "      <td>Douglas Morgan</td>\n",
       "      <td>Principal Investigator</td>\n",
       "      <td>Director, Latin America sites, Vanderbilt Inst...</td>\n",
       "      <td>None</td>\n",
       "      <td>Vanderbilt-Ingram Cancer Center</td>\n",
       "      <td>NCT02794428</td>\n",
       "      <td>Keith Wilson, MD</td>\n",
       "      <td>Principal Investigator</td>\n",
       "      <td>Vanderbilt University Medical Center, Vanderbi...</td>\n",
       "      <td>False</td>\n",
       "      <td>NCT02794428</td>\n",
       "      <td>0.0</td>\n",
       "      <td>2.0</td>\n",
       "      <td>0.0</td>\n",
       "      <td>2016.0</td>\n",
       "      <td>2016-09-19</td>\n",
       "    </tr>\n",
       "    <tr>\n",
       "      <th>48970</th>\n",
       "      <td>NCT02982564</td>\n",
       "      <td>Effect of Low vs Moderate-intensity Endurance ...</td>\n",
       "      <td>true</td>\n",
       "      <td>Breast Neoplasms</td>\n",
       "      <td>Inclusion Criteria:\\n\\nFifty years of age or o...</td>\n",
       "      <td>2016-03-01</td>\n",
       "      <td>University of Puerto Rico</td>\n",
       "      <td>The purpose of this study is to evaluate the e...</td>\n",
       "      <td>Recruiting</td>\n",
       "      <td>Not Applicable</td>\n",
       "      <td>142.0</td>\n",
       "      <td>Anticipated</td>\n",
       "      <td>Interventional</td>\n",
       "      <td>2.0</td>\n",
       "      <td>NaN</td>\n",
       "      <td>None</td>\n",
       "      <td>True</td>\n",
       "      <td>None</td>\n",
       "      <td>None</td>\n",
       "      <td>None</td>\n",
       "      <td>None</td>\n",
       "      <td>None</td>\n",
       "      <td>NCT02982564</td>\n",
       "      <td>None</td>\n",
       "      <td>Sponsor</td>\n",
       "      <td>None</td>\n",
       "      <td>None</td>\n",
       "      <td>None</td>\n",
       "      <td>NCT02982564</td>\n",
       "      <td>Ana L Mulero-Portela, PhD</td>\n",
       "      <td>Principal Investigator</td>\n",
       "      <td>University of Puerto Rico Medical Sciences Campus</td>\n",
       "      <td>True</td>\n",
       "      <td>NCT02982564</td>\n",
       "      <td>0.0</td>\n",
       "      <td>1.0</td>\n",
       "      <td>0.0</td>\n",
       "      <td>2016.0</td>\n",
       "      <td>2016-03-01</td>\n",
       "    </tr>\n",
       "    <tr>\n",
       "      <th>66524</th>\n",
       "      <td>NCT04255849</td>\n",
       "      <td>Nine-valent HPV Vaccine to Prevent Persistent ...</td>\n",
       "      <td>true</td>\n",
       "      <td>HIV-1-infection|HPV Infection|HPV Positive Oro...</td>\n",
       "      <td>Inclusion Criteria:\\n\\nHIV-1 infection\\nReceip...</td>\n",
       "      <td>2021-02-23</td>\n",
       "      <td>Weill Medical College of Cornell University</td>\n",
       "      <td>This is a randomized, double-blinded, placebo-...</td>\n",
       "      <td>Recruiting</td>\n",
       "      <td>Phase 3</td>\n",
       "      <td>500.0</td>\n",
       "      <td>Anticipated</td>\n",
       "      <td>Interventional</td>\n",
       "      <td>2.0</td>\n",
       "      <td>NaN</td>\n",
       "      <td>None</td>\n",
       "      <td>True</td>\n",
       "      <td>True</td>\n",
       "      <td>False</td>\n",
       "      <td>None</td>\n",
       "      <td>None</td>\n",
       "      <td>True</td>\n",
       "      <td>NCT04255849</td>\n",
       "      <td>None</td>\n",
       "      <td>Sponsor</td>\n",
       "      <td>None</td>\n",
       "      <td>None</td>\n",
       "      <td>None</td>\n",
       "      <td>NCT04255849</td>\n",
       "      <td>Timothy Wilkin, MD</td>\n",
       "      <td>Principal Investigator</td>\n",
       "      <td>Weill Medical College of Cornell University</td>\n",
       "      <td>True</td>\n",
       "      <td>NCT04255849</td>\n",
       "      <td>0.0</td>\n",
       "      <td>3.0</td>\n",
       "      <td>0.0</td>\n",
       "      <td>2021.0</td>\n",
       "      <td>2021-02-23</td>\n",
       "    </tr>\n",
       "    <tr>\n",
       "      <th>69605</th>\n",
       "      <td>NCT04500171</td>\n",
       "      <td>Colorectal Cancer Screening Assessment Study</td>\n",
       "      <td>true</td>\n",
       "      <td>Colorectal Cancer</td>\n",
       "      <td>Inclusion Criteria:\\n\\nResident of America Sam...</td>\n",
       "      <td>2020-09-21</td>\n",
       "      <td>University of Hawaii</td>\n",
       "      <td>This study, led by the American Samoa Communit...</td>\n",
       "      <td>Active, not recruiting</td>\n",
       "      <td>Not Applicable</td>\n",
       "      <td>262.0</td>\n",
       "      <td>Actual</td>\n",
       "      <td>Interventional</td>\n",
       "      <td>4.0</td>\n",
       "      <td>NaN</td>\n",
       "      <td>None</td>\n",
       "      <td>False</td>\n",
       "      <td>False</td>\n",
       "      <td>False</td>\n",
       "      <td>None</td>\n",
       "      <td>None</td>\n",
       "      <td>None</td>\n",
       "      <td>NCT04500171</td>\n",
       "      <td>None</td>\n",
       "      <td>Sponsor</td>\n",
       "      <td>None</td>\n",
       "      <td>None</td>\n",
       "      <td>None</td>\n",
       "      <td>NCT04500171</td>\n",
       "      <td>Victor Tofaeono, M.D.</td>\n",
       "      <td>Principal Investigator</td>\n",
       "      <td>American Samoa Community Cancer Coalition</td>\n",
       "      <td>False</td>\n",
       "      <td>NCT04500171</td>\n",
       "      <td>0.0</td>\n",
       "      <td>2.0</td>\n",
       "      <td>0.0</td>\n",
       "      <td>2020.0</td>\n",
       "      <td>2020-09-21</td>\n",
       "    </tr>\n",
       "    <tr>\n",
       "      <th>71815</th>\n",
       "      <td>NCT04661176</td>\n",
       "      <td>Evaluation of the Sentinel™ PCC4 Assay for Dia...</td>\n",
       "      <td>true</td>\n",
       "      <td>Prostate Cancer</td>\n",
       "      <td>Inclusion Criteria:\\n\\nMales between the ages ...</td>\n",
       "      <td>2020-11-30</td>\n",
       "      <td>miR Scientific LLC</td>\n",
       "      <td>The miR Scientific Sentinel™ Prostate Cancer C...</td>\n",
       "      <td>Recruiting</td>\n",
       "      <td>None</td>\n",
       "      <td>500.0</td>\n",
       "      <td>Anticipated</td>\n",
       "      <td>Observational</td>\n",
       "      <td>NaN</td>\n",
       "      <td>NaN</td>\n",
       "      <td>None</td>\n",
       "      <td>True</td>\n",
       "      <td>False</td>\n",
       "      <td>False</td>\n",
       "      <td>None</td>\n",
       "      <td>None</td>\n",
       "      <td>None</td>\n",
       "      <td>NCT04661176</td>\n",
       "      <td>None</td>\n",
       "      <td>Sponsor</td>\n",
       "      <td>None</td>\n",
       "      <td>None</td>\n",
       "      <td>None</td>\n",
       "      <td>NCT04661176</td>\n",
       "      <td>Alvin Lopez-Pujals, MD</td>\n",
       "      <td>Principal Investigator</td>\n",
       "      <td>San Juan Bautista School of Medicine Clinical ...</td>\n",
       "      <td>False</td>\n",
       "      <td>NCT04661176</td>\n",
       "      <td>0.0</td>\n",
       "      <td>3.0</td>\n",
       "      <td>0.0</td>\n",
       "      <td>2020.0</td>\n",
       "      <td>2020-11-30</td>\n",
       "    </tr>\n",
       "  </tbody>\n",
       "</table>\n",
       "</div>"
      ],
      "text/plain": [
       "           #nct_id                                              title  \\\n",
       "46319  NCT02794428          Chemoprevention of Gastric Carcinogenesis   \n",
       "48970  NCT02982564  Effect of Low vs Moderate-intensity Endurance ...   \n",
       "66524  NCT04255849  Nine-valent HPV Vaccine to Prevent Persistent ...   \n",
       "69605  NCT04500171       Colorectal Cancer Screening Assessment Study   \n",
       "71815  NCT04661176  Evaluation of the Sentinel™ PCC4 Assay for Dia...   \n",
       "\n",
       "      has_us_facility                                         conditions  \\\n",
       "46319            true       Gastric Cancer|Gastric Intestinal Metaplasia   \n",
       "48970            true                                   Breast Neoplasms   \n",
       "66524            true  HIV-1-infection|HPV Infection|HPV Positive Oro...   \n",
       "69605            true                                  Colorectal Cancer   \n",
       "71815            true                                    Prostate Cancer   \n",
       "\n",
       "                                    eligibility_criteria  start_date  \\\n",
       "46319  Inclusion Criteria:\\n\\nPatients must have a hi...  2016-09-19   \n",
       "48970  Inclusion Criteria:\\n\\nFifty years of age or o...  2016-03-01   \n",
       "66524  Inclusion Criteria:\\n\\nHIV-1 infection\\nReceip...  2021-02-23   \n",
       "69605  Inclusion Criteria:\\n\\nResident of America Sam...  2020-09-21   \n",
       "71815  Inclusion Criteria:\\n\\nMales between the ages ...  2020-11-30   \n",
       "\n",
       "                                      lead_sponsor  \\\n",
       "46319              Vanderbilt-Ingram Cancer Center   \n",
       "48970                    University of Puerto Rico   \n",
       "66524  Weill Medical College of Cornell University   \n",
       "69605                         University of Hawaii   \n",
       "71815                           miR Scientific LLC   \n",
       "\n",
       "                                                 summary  \\\n",
       "46319  A clinical study of the efficacy of oral alpha...   \n",
       "48970  The purpose of this study is to evaluate the e...   \n",
       "66524  This is a randomized, double-blinded, placebo-...   \n",
       "69605  This study, led by the American Samoa Communit...   \n",
       "71815  The miR Scientific Sentinel™ Prostate Cancer C...   \n",
       "\n",
       "               overall_status           phase  enrollment enrollment_type  \\\n",
       "46319              Recruiting         Phase 2       300.0     Anticipated   \n",
       "48970              Recruiting  Not Applicable       142.0     Anticipated   \n",
       "66524              Recruiting         Phase 3       500.0     Anticipated   \n",
       "69605  Active, not recruiting  Not Applicable       262.0          Actual   \n",
       "71815              Recruiting            None       500.0     Anticipated   \n",
       "\n",
       "           study_type  number_of_arms  number_of_groups why_stopped has_dmc  \\\n",
       "46319  Interventional             2.0               NaN        None    True   \n",
       "48970  Interventional             2.0               NaN        None    True   \n",
       "66524  Interventional             2.0               NaN        None    True   \n",
       "69605  Interventional             4.0               NaN        None   False   \n",
       "71815   Observational             NaN               NaN        None    True   \n",
       "\n",
       "      is_fda_regulated_drug is_fda_regulated_device is_unapproved_device  \\\n",
       "46319                  None                    None                 None   \n",
       "48970                  None                    None                 None   \n",
       "66524                  True                   False                 None   \n",
       "69605                 False                   False                 None   \n",
       "71815                 False                   False                 None   \n",
       "\n",
       "      is_ppsd is_us_export       nct_id responsible_party_name  \\\n",
       "46319    None         None  NCT02794428         Douglas Morgan   \n",
       "48970    None         None  NCT02982564                   None   \n",
       "66524    None         True  NCT04255849                   None   \n",
       "69605    None         None  NCT04500171                   None   \n",
       "71815    None         None  NCT04661176                   None   \n",
       "\n",
       "       responsible_party_type  \\\n",
       "46319  Principal Investigator   \n",
       "48970                 Sponsor   \n",
       "66524                 Sponsor   \n",
       "69605                 Sponsor   \n",
       "71815                 Sponsor   \n",
       "\n",
       "                                 responsible_party_title  \\\n",
       "46319  Director, Latin America sites, Vanderbilt Inst...   \n",
       "48970                                               None   \n",
       "66524                                               None   \n",
       "69605                                               None   \n",
       "71815                                               None   \n",
       "\n",
       "      responsible_party_organization    responsible_party_affiliation  \\\n",
       "46319                           None  Vanderbilt-Ingram Cancer Center   \n",
       "48970                           None                             None   \n",
       "66524                           None                             None   \n",
       "69605                           None                             None   \n",
       "71815                           None                             None   \n",
       "\n",
       "            nct_id                    pi_name                 pi_role  \\\n",
       "46319  NCT02794428           Keith Wilson, MD  Principal Investigator   \n",
       "48970  NCT02982564  Ana L Mulero-Portela, PhD  Principal Investigator   \n",
       "66524  NCT04255849         Timothy Wilkin, MD  Principal Investigator   \n",
       "69605  NCT04500171      Victor Tofaeono, M.D.  Principal Investigator   \n",
       "71815  NCT04661176     Alvin Lopez-Pujals, MD  Principal Investigator   \n",
       "\n",
       "                                          pi_affiliation  \\\n",
       "46319  Vanderbilt University Medical Center, Vanderbi...   \n",
       "48970  University of Puerto Rico Medical Sciences Campus   \n",
       "66524        Weill Medical College of Cornell University   \n",
       "69605          American Samoa Community Cancer Coalition   \n",
       "71815  San Juan Bautista School of Medicine Clinical ...   \n",
       "\n",
       "       investigator_initiated_study       nct_id  us_facility_count  \\\n",
       "46319                         False  NCT02794428                0.0   \n",
       "48970                          True  NCT02982564                0.0   \n",
       "66524                          True  NCT04255849                0.0   \n",
       "69605                         False  NCT04500171                0.0   \n",
       "71815                         False  NCT04661176                0.0   \n",
       "\n",
       "       total_facility_count  percent_us_facilities    year start_datetime  \n",
       "46319                   2.0                    0.0  2016.0     2016-09-19  \n",
       "48970                   1.0                    0.0  2016.0     2016-03-01  \n",
       "66524                   3.0                    0.0  2021.0     2021-02-23  \n",
       "69605                   2.0                    0.0  2020.0     2020-09-21  \n",
       "71815                   3.0                    0.0  2020.0     2020-11-30  "
      ]
     },
     "execution_count": 57,
     "metadata": {},
     "output_type": "execute_result"
    }
   ],
   "source": [
    "small_df[(small_df.has_us_facility=='true')&(small_df.us_facility_count==0)].head()"
   ]
  },
  {
   "cell_type": "code",
   "execution_count": 50,
   "id": "c9bb4145-de09-4b34-a4c0-24fe62d0efa9",
   "metadata": {},
   "outputs": [
    {
     "data": {
      "text/plain": [
       "Actual         34205\n",
       "Anticipated    26807\n",
       "Name: enrollment_type, dtype: int64"
      ]
     },
     "execution_count": 50,
     "metadata": {},
     "output_type": "execute_result"
    }
   ],
   "source": [
    "df[df.investigator_initiated_study==True].enrollment_type.value_counts()"
   ]
  },
  {
   "cell_type": "code",
   "execution_count": 124,
   "id": "e7355a4f-78a5-4534-95f8-8cd14c464537",
   "metadata": {},
   "outputs": [
    {
     "name": "stdout",
     "output_type": "stream",
     "text": [
      "/Users/forrest.xiao/non_fh_code/trialtracker/extract/extracted_data/ie_parsed_clinical_trials.tsv\n"
     ]
    }
   ],
   "source": [
    "parsed_filepath='extracted_data/ie_parsed_clinical_trials.tsv'\n",
    "main_parsed_path = os.path.join(path, parsed_filepath)\n",
    "print(main_parsed_path)"
   ]
  },
  {
   "cell_type": "code",
   "execution_count": 125,
   "id": "dbbffbc5-aec6-428a-85dd-0d76c1c6d4e8",
   "metadata": {},
   "outputs": [],
   "source": [
    "download_url = 'https://drive.google.com/uc?id=' + \"1n_4wWj35V4g17icSW6yMXIi3Hkjwbpo0\""
   ]
  },
  {
   "cell_type": "code",
   "execution_count": 126,
   "id": "4b05bb9b-5af9-4365-af70-c3f9b316d895",
   "metadata": {},
   "outputs": [
    {
     "data": {
      "text/plain": [
       "'https://drive.google.com/uc?id=1n_4wWj35V4g17icSW6yMXIi3Hkjwbpo0'"
      ]
     },
     "execution_count": 126,
     "metadata": {},
     "output_type": "execute_result"
    }
   ],
   "source": [
    "download_url"
   ]
  },
  {
   "cell_type": "code",
   "execution_count": null,
   "id": "0b9aea54-e59e-4ddc-b163-201c63eafd73",
   "metadata": {},
   "outputs": [],
   "source": [
    "https://drive.google.com/file/d/1n_4wWj35V4g17icSW6yMXIi3Hkjwbpo0/view?usp=sharing"
   ]
  },
  {
   "cell_type": "code",
   "execution_count": 127,
   "id": "5dcd9dcc-cb17-403e-a4e7-0717830acf92",
   "metadata": {},
   "outputs": [],
   "source": [
    "df=pd.read_csv(download_url)"
   ]
  },
  {
   "cell_type": "code",
   "execution_count": 128,
   "id": "76264c6c-5694-4ca7-8d6d-e31a56688b31",
   "metadata": {},
   "outputs": [
    {
     "data": {
      "text/html": [
       "<div>\n",
       "<style scoped>\n",
       "    .dataframe tbody tr th:only-of-type {\n",
       "        vertical-align: middle;\n",
       "    }\n",
       "\n",
       "    .dataframe tbody tr th {\n",
       "        vertical-align: top;\n",
       "    }\n",
       "\n",
       "    .dataframe thead th {\n",
       "        text-align: right;\n",
       "    }\n",
       "</style>\n",
       "<table border=\"1\" class=\"dataframe\">\n",
       "  <thead>\n",
       "    <tr style=\"text-align: right;\">\n",
       "      <th></th>\n",
       "      <th></th>\n",
       "      <th>&lt;!DOCTYPE html&gt;&lt;html&gt;&lt;head&gt;&lt;title&gt;Google Drive - Virus scan warning&lt;/title&gt;&lt;meta http-equiv=\"content-type\" content=\"text/html; charset=utf-8\"/&gt;&lt;style nonce=\"4MQfLqQ9Eq6VA7_4rWslqw\"&gt;/* Copyright 2022 Google Inc. All Rights Reserved. */</th>\n",
       "    </tr>\n",
       "  </thead>\n",
       "  <tbody>\n",
       "    <tr>\n",
       "      <th>.goog-inline-block{position:relative;display:-moz-inline-box;display:inline-block}* html .goog-inline-block{display:inline}*:first-child+html .goog-inline-block{display:inline}.goog-link-button{position:relative;color:#15c;text-decoration:underline;cursor:pointer}.goog-link-button-disabled{color:#ccc;text-decoration:none;cursor:default}body{color:#222;font:normal 13px/1.4 arial</th>\n",
       "      <th>sans-serif;margin:0}.grecaptcha-badge{visibility:hidden}.uc-main{padding-top:50px;text-align:center}#uc-dl-icon{display:inline-block;margin-top:16px;padding-right:1em;vertical-align:top}#uc-text{display:inline-block;max-width:68ex;text-align:left}.uc-error-caption</th>\n",
       "      <td>.uc-warning-caption{color:#222;font-size:16px}...</td>\n",
       "    </tr>\n",
       "  </tbody>\n",
       "</table>\n",
       "</div>"
      ],
      "text/plain": [
       "                                                                                                      <!DOCTYPE html><html><head><title>Google Drive - Virus scan warning</title><meta http-equiv=\"content-type\" content=\"text/html; charset=utf-8\"/><style nonce=\"4MQfLqQ9Eq6VA7_4rWslqw\">/* Copyright 2022 Google Inc. All Rights Reserved. */\n",
       ".goog-inline-block{position:relative;display:-m... sans-serif;margin:0}.grecaptcha-badge{visibilit...  .uc-warning-caption{color:#222;font-size:16px}...                                                                                                                                                                                        "
      ]
     },
     "execution_count": 128,
     "metadata": {},
     "output_type": "execute_result"
    }
   ],
   "source": [
    "df.head()"
   ]
  },
  {
   "cell_type": "code",
   "execution_count": 37,
   "id": "05efaf16-8a89-4903-a6c7-a81a940293e3",
   "metadata": {},
   "outputs": [],
   "source": [
    "# Read previously parsed data\n",
    "main=pd.read_csv(main_parsed_path, sep='\\t')\n"
   ]
  },
  {
   "cell_type": "code",
   "execution_count": 46,
   "id": "c35c378f-9ce4-45ed-ad23-279d42377ace",
   "metadata": {},
   "outputs": [],
   "source": [
    "main_ncts=list(set(main[nct_col].tolist()))"
   ]
  },
  {
   "cell_type": "code",
   "execution_count": 38,
   "id": "04da3a69-b967-4a0f-9008-cd9dc385f6bc",
   "metadata": {},
   "outputs": [],
   "source": [
    "filepath='extracted_data/ct_fb_parser_data.csv'\n",
    "nct_col='#nct_id'\n",
    "\n",
    "df=pd.read_csv(filepath, index_col=0)\n",
    "cur_ncts=list(set(df[nct_col].tolist()))"
   ]
  },
  {
   "cell_type": "code",
   "execution_count": 98,
   "id": "dbcf6b67-7df1-4579-ae75-7349d6e24dd5",
   "metadata": {},
   "outputs": [
    {
     "data": {
      "text/html": [
       "<div>\n",
       "<style scoped>\n",
       "    .dataframe tbody tr th:only-of-type {\n",
       "        vertical-align: middle;\n",
       "    }\n",
       "\n",
       "    .dataframe tbody tr th {\n",
       "        vertical-align: top;\n",
       "    }\n",
       "\n",
       "    .dataframe thead th {\n",
       "        text-align: right;\n",
       "    }\n",
       "</style>\n",
       "<table border=\"1\" class=\"dataframe\">\n",
       "  <thead>\n",
       "    <tr style=\"text-align: right;\">\n",
       "      <th></th>\n",
       "      <th>#nct_id</th>\n",
       "      <th>title</th>\n",
       "      <th>has_us_facility</th>\n",
       "      <th>conditions</th>\n",
       "      <th>eligibility_criteria</th>\n",
       "      <th>start_date</th>\n",
       "      <th>lead_sponsor</th>\n",
       "      <th>summary</th>\n",
       "      <th>overall_status</th>\n",
       "      <th>phase</th>\n",
       "      <th>...</th>\n",
       "      <th>study_type</th>\n",
       "      <th>number_of_arms</th>\n",
       "      <th>number_of_groups</th>\n",
       "      <th>why_stopped</th>\n",
       "      <th>has_dmc</th>\n",
       "      <th>is_fda_regulated_drug</th>\n",
       "      <th>is_fda_regulated_device</th>\n",
       "      <th>is_unapproved_device</th>\n",
       "      <th>is_ppsd</th>\n",
       "      <th>is_us_export</th>\n",
       "    </tr>\n",
       "  </thead>\n",
       "  <tbody>\n",
       "    <tr>\n",
       "      <th>0</th>\n",
       "      <td>NCT00000105</td>\n",
       "      <td>Vaccination With Tetanus and KLH to Assess Imm...</td>\n",
       "      <td>True</td>\n",
       "      <td>Cancer</td>\n",
       "      <td>Inclusion Criteria:\\n\\nPatients must have a di...</td>\n",
       "      <td>2002-07-31</td>\n",
       "      <td>Masonic Cancer Center, University of Minnesota</td>\n",
       "      <td>The purpose of this study is to learn how the ...</td>\n",
       "      <td>Terminated</td>\n",
       "      <td>NaN</td>\n",
       "      <td>...</td>\n",
       "      <td>Observational</td>\n",
       "      <td>NaN</td>\n",
       "      <td>3.0</td>\n",
       "      <td>Replaced by another study.</td>\n",
       "      <td>True</td>\n",
       "      <td>NaN</td>\n",
       "      <td>NaN</td>\n",
       "      <td>NaN</td>\n",
       "      <td>NaN</td>\n",
       "      <td>NaN</td>\n",
       "    </tr>\n",
       "    <tr>\n",
       "      <th>1</th>\n",
       "      <td>NCT00000124</td>\n",
       "      <td>Collaborative Ocular Melanoma Study (COMS)</td>\n",
       "      <td>False</td>\n",
       "      <td>Choroid Neoplasms|Uveitis</td>\n",
       "      <td>Men and women eligible for the study must be a...</td>\n",
       "      <td>1986-11-30</td>\n",
       "      <td>National Eye Institute (NEI)</td>\n",
       "      <td>To evaluate therapeutic interventions for pati...</td>\n",
       "      <td>Unknown status</td>\n",
       "      <td>Phase 3</td>\n",
       "      <td>...</td>\n",
       "      <td>Interventional</td>\n",
       "      <td>NaN</td>\n",
       "      <td>NaN</td>\n",
       "      <td>NaN</td>\n",
       "      <td>NaN</td>\n",
       "      <td>NaN</td>\n",
       "      <td>NaN</td>\n",
       "      <td>NaN</td>\n",
       "      <td>NaN</td>\n",
       "      <td>NaN</td>\n",
       "    </tr>\n",
       "    <tr>\n",
       "      <th>2</th>\n",
       "      <td>NCT00000589</td>\n",
       "      <td>Trial to Reduce Alloimmunization to Platelets ...</td>\n",
       "      <td>False</td>\n",
       "      <td>Blood Platelets|Blood Transfusion|Hematologic ...</td>\n",
       "      <td>Male and female thrombocytopenic patients, age...</td>\n",
       "      <td>1989-08-31</td>\n",
       "      <td>National Heart, Lung, and Blood Institute (NHLBI)</td>\n",
       "      <td>To determine the best, clinically useful proce...</td>\n",
       "      <td>Completed</td>\n",
       "      <td>Phase 3</td>\n",
       "      <td>...</td>\n",
       "      <td>Interventional</td>\n",
       "      <td>NaN</td>\n",
       "      <td>NaN</td>\n",
       "      <td>NaN</td>\n",
       "      <td>NaN</td>\n",
       "      <td>NaN</td>\n",
       "      <td>NaN</td>\n",
       "      <td>NaN</td>\n",
       "      <td>NaN</td>\n",
       "      <td>NaN</td>\n",
       "    </tr>\n",
       "    <tr>\n",
       "      <th>3</th>\n",
       "      <td>NCT00000591</td>\n",
       "      <td>T-Cell Depletion in Unrelated Donor Marrow Tra...</td>\n",
       "      <td>False</td>\n",
       "      <td>Bone Marrow Transplantation|Graft vs Host Dise...</td>\n",
       "      <td>No eligibility criteria</td>\n",
       "      <td>1993-11-30</td>\n",
       "      <td>National Heart, Lung, and Blood Institute (NHLBI)</td>\n",
       "      <td>To determine if a reduction in morbidity and m...</td>\n",
       "      <td>Completed</td>\n",
       "      <td>Phase 3</td>\n",
       "      <td>...</td>\n",
       "      <td>Interventional</td>\n",
       "      <td>NaN</td>\n",
       "      <td>NaN</td>\n",
       "      <td>NaN</td>\n",
       "      <td>NaN</td>\n",
       "      <td>NaN</td>\n",
       "      <td>NaN</td>\n",
       "      <td>NaN</td>\n",
       "      <td>NaN</td>\n",
       "      <td>NaN</td>\n",
       "    </tr>\n",
       "    <tr>\n",
       "      <th>4</th>\n",
       "      <td>NCT00000603</td>\n",
       "      <td>Cord Blood Stem Cell Transplantation Study (CO...</td>\n",
       "      <td>False</td>\n",
       "      <td>Anemia, Aplastic|Fanconi Anemia|Hematologic Di...</td>\n",
       "      <td>Mothers of Infant-donors must complete a medic...</td>\n",
       "      <td>1996-09-30</td>\n",
       "      <td>National Heart, Lung, and Blood Institute (NHLBI)</td>\n",
       "      <td>To evaluate if HLA-mismatched, unrelated-donor...</td>\n",
       "      <td>Completed</td>\n",
       "      <td>Phase 2</td>\n",
       "      <td>...</td>\n",
       "      <td>Interventional</td>\n",
       "      <td>NaN</td>\n",
       "      <td>NaN</td>\n",
       "      <td>NaN</td>\n",
       "      <td>NaN</td>\n",
       "      <td>NaN</td>\n",
       "      <td>NaN</td>\n",
       "      <td>NaN</td>\n",
       "      <td>NaN</td>\n",
       "      <td>NaN</td>\n",
       "    </tr>\n",
       "  </tbody>\n",
       "</table>\n",
       "<p>5 rows × 22 columns</p>\n",
       "</div>"
      ],
      "text/plain": [
       "       #nct_id                                              title  \\\n",
       "0  NCT00000105  Vaccination With Tetanus and KLH to Assess Imm...   \n",
       "1  NCT00000124         Collaborative Ocular Melanoma Study (COMS)   \n",
       "2  NCT00000589  Trial to Reduce Alloimmunization to Platelets ...   \n",
       "3  NCT00000591  T-Cell Depletion in Unrelated Donor Marrow Tra...   \n",
       "4  NCT00000603  Cord Blood Stem Cell Transplantation Study (CO...   \n",
       "\n",
       "   has_us_facility                                         conditions  \\\n",
       "0             True                                             Cancer   \n",
       "1            False                          Choroid Neoplasms|Uveitis   \n",
       "2            False  Blood Platelets|Blood Transfusion|Hematologic ...   \n",
       "3            False  Bone Marrow Transplantation|Graft vs Host Dise...   \n",
       "4            False  Anemia, Aplastic|Fanconi Anemia|Hematologic Di...   \n",
       "\n",
       "                                eligibility_criteria  start_date  \\\n",
       "0  Inclusion Criteria:\\n\\nPatients must have a di...  2002-07-31   \n",
       "1  Men and women eligible for the study must be a...  1986-11-30   \n",
       "2  Male and female thrombocytopenic patients, age...  1989-08-31   \n",
       "3                            No eligibility criteria  1993-11-30   \n",
       "4  Mothers of Infant-donors must complete a medic...  1996-09-30   \n",
       "\n",
       "                                        lead_sponsor  \\\n",
       "0     Masonic Cancer Center, University of Minnesota   \n",
       "1                       National Eye Institute (NEI)   \n",
       "2  National Heart, Lung, and Blood Institute (NHLBI)   \n",
       "3  National Heart, Lung, and Blood Institute (NHLBI)   \n",
       "4  National Heart, Lung, and Blood Institute (NHLBI)   \n",
       "\n",
       "                                             summary  overall_status    phase  \\\n",
       "0  The purpose of this study is to learn how the ...      Terminated      NaN   \n",
       "1  To evaluate therapeutic interventions for pati...  Unknown status  Phase 3   \n",
       "2  To determine the best, clinically useful proce...       Completed  Phase 3   \n",
       "3  To determine if a reduction in morbidity and m...       Completed  Phase 3   \n",
       "4  To evaluate if HLA-mismatched, unrelated-donor...       Completed  Phase 2   \n",
       "\n",
       "   ...      study_type number_of_arms number_of_groups  \\\n",
       "0  ...   Observational            NaN              3.0   \n",
       "1  ...  Interventional            NaN              NaN   \n",
       "2  ...  Interventional            NaN              NaN   \n",
       "3  ...  Interventional            NaN              NaN   \n",
       "4  ...  Interventional            NaN              NaN   \n",
       "\n",
       "                  why_stopped  has_dmc is_fda_regulated_drug  \\\n",
       "0  Replaced by another study.     True                   NaN   \n",
       "1                         NaN      NaN                   NaN   \n",
       "2                         NaN      NaN                   NaN   \n",
       "3                         NaN      NaN                   NaN   \n",
       "4                         NaN      NaN                   NaN   \n",
       "\n",
       "  is_fda_regulated_device is_unapproved_device is_ppsd is_us_export  \n",
       "0                     NaN                  NaN     NaN          NaN  \n",
       "1                     NaN                  NaN     NaN          NaN  \n",
       "2                     NaN                  NaN     NaN          NaN  \n",
       "3                     NaN                  NaN     NaN          NaN  \n",
       "4                     NaN                  NaN     NaN          NaN  \n",
       "\n",
       "[5 rows x 22 columns]"
      ]
     },
     "execution_count": 98,
     "metadata": {},
     "output_type": "execute_result"
    }
   ],
   "source": [
    "df.head()"
   ]
  },
  {
   "cell_type": "code",
   "execution_count": 58,
   "id": "675fbcc0-13b9-4aec-8158-9bf3b98e4bfe",
   "metadata": {},
   "outputs": [
    {
     "name": "stdout",
     "output_type": "stream",
     "text": [
      "There are 7803 overlapping trials.\n"
     ]
    }
   ],
   "source": [
    "# Find overlapping trials that have been extracted already\n",
    "diff_ncts=list(set(cur_ncts) - set(main_ncts))\n",
    "\n",
    "print(f\"There are {len(diff_ncts)} overlapping trials.\")"
   ]
  },
  {
   "cell_type": "code",
   "execution_count": 56,
   "id": "28bf705c-8f29-4e7c-8f20-f7e251c0c668",
   "metadata": {},
   "outputs": [
    {
     "data": {
      "text/plain": [
       "74652"
      ]
     },
     "execution_count": 56,
     "metadata": {},
     "output_type": "execute_result"
    }
   ],
   "source": [
    "len(main_ncts)"
   ]
  },
  {
   "cell_type": "code",
   "execution_count": 57,
   "id": "4f85ad3d-071f-42f9-bcdf-b8d413ead960",
   "metadata": {},
   "outputs": [
    {
     "data": {
      "text/plain": [
       "82243"
      ]
     },
     "execution_count": 57,
     "metadata": {},
     "output_type": "execute_result"
    }
   ],
   "source": [
    "len(cur_ncts)"
   ]
  },
  {
   "cell_type": "code",
   "execution_count": 95,
   "id": "c6217b79-9c0e-4efb-a4c4-880ad73377a0",
   "metadata": {},
   "outputs": [
    {
     "data": {
      "text/html": [
       "<div>\n",
       "<style scoped>\n",
       "    .dataframe tbody tr th:only-of-type {\n",
       "        vertical-align: middle;\n",
       "    }\n",
       "\n",
       "    .dataframe tbody tr th {\n",
       "        vertical-align: top;\n",
       "    }\n",
       "\n",
       "    .dataframe thead th {\n",
       "        text-align: right;\n",
       "    }\n",
       "</style>\n",
       "<table border=\"1\" class=\"dataframe\">\n",
       "  <thead>\n",
       "    <tr style=\"text-align: right;\">\n",
       "      <th></th>\n",
       "      <th>Unnamed: 0</th>\n",
       "      <th>#nct_id</th>\n",
       "      <th>eligibility_type</th>\n",
       "      <th>criterion</th>\n",
       "      <th>label</th>\n",
       "      <th>term</th>\n",
       "      <th>ner_score</th>\n",
       "      <th>concepts</th>\n",
       "      <th>tree_numbers</th>\n",
       "      <th>nel_score</th>\n",
       "    </tr>\n",
       "  </thead>\n",
       "  <tbody>\n",
       "    <tr>\n",
       "      <th>1824717</th>\n",
       "      <td>1824717</td>\n",
       "      <td>NCT05422781</td>\n",
       "      <td>exclusion</td>\n",
       "      <td>Participation in another therapeutic clinical ...</td>\n",
       "      <td>word_scores:chronic_disease</td>\n",
       "      <td>viral diseases oncologic disorders such</td>\n",
       "      <td>0.722</td>\n",
       "      <td>Virus Diseases</td>\n",
       "      <td>C01.925</td>\n",
       "      <td>1.0</td>\n",
       "    </tr>\n",
       "    <tr>\n",
       "      <th>1824718</th>\n",
       "      <td>1824718</td>\n",
       "      <td>NCT05422781</td>\n",
       "      <td>exclusion</td>\n",
       "      <td>Participation in another therapeutic clinical ...</td>\n",
       "      <td>word_scores:chronic_disease</td>\n",
       "      <td>c hepatitis</td>\n",
       "      <td>0.756</td>\n",
       "      <td>Hepatitis C</td>\n",
       "      <td>C01.221.250.750|C01.925.440.440|C01.925.782.35...</td>\n",
       "      <td>1.0</td>\n",
       "    </tr>\n",
       "    <tr>\n",
       "      <th>1824719</th>\n",
       "      <td>1824719</td>\n",
       "      <td>NCT05422781</td>\n",
       "      <td>exclusion</td>\n",
       "      <td>Participation in another therapeutic clinical ...</td>\n",
       "      <td>word_scores:cancer</td>\n",
       "      <td>malignancy</td>\n",
       "      <td>0.736</td>\n",
       "      <td>Cancer</td>\n",
       "      <td>C04</td>\n",
       "      <td>1.0</td>\n",
       "    </tr>\n",
       "    <tr>\n",
       "      <th>1824720</th>\n",
       "      <td>1824720</td>\n",
       "      <td>NCT05422781</td>\n",
       "      <td>exclusion</td>\n",
       "      <td>Participation in another therapeutic clinical ...</td>\n",
       "      <td>word_scores:cancer</td>\n",
       "      <td>non-melanoma skin cancer carcinoma situ cervix</td>\n",
       "      <td>0.905</td>\n",
       "      <td>NaN</td>\n",
       "      <td>NaN</td>\n",
       "      <td>NaN</td>\n",
       "    </tr>\n",
       "    <tr>\n",
       "      <th>1824721</th>\n",
       "      <td>1824721</td>\n",
       "      <td>NCT05422781</td>\n",
       "      <td>exclusion</td>\n",
       "      <td>Participation in another therapeutic clinical ...</td>\n",
       "      <td>word_scores:cancer</td>\n",
       "      <td>cancers</td>\n",
       "      <td>0.900</td>\n",
       "      <td>Cancer</td>\n",
       "      <td>C04</td>\n",
       "      <td>1.0</td>\n",
       "    </tr>\n",
       "  </tbody>\n",
       "</table>\n",
       "</div>"
      ],
      "text/plain": [
       "         Unnamed: 0      #nct_id eligibility_type  \\\n",
       "1824717     1824717  NCT05422781        exclusion   \n",
       "1824718     1824718  NCT05422781        exclusion   \n",
       "1824719     1824719  NCT05422781        exclusion   \n",
       "1824720     1824720  NCT05422781        exclusion   \n",
       "1824721     1824721  NCT05422781        exclusion   \n",
       "\n",
       "                                                 criterion  \\\n",
       "1824717  Participation in another therapeutic clinical ...   \n",
       "1824718  Participation in another therapeutic clinical ...   \n",
       "1824719  Participation in another therapeutic clinical ...   \n",
       "1824720  Participation in another therapeutic clinical ...   \n",
       "1824721  Participation in another therapeutic clinical ...   \n",
       "\n",
       "                               label  \\\n",
       "1824717  word_scores:chronic_disease   \n",
       "1824718  word_scores:chronic_disease   \n",
       "1824719           word_scores:cancer   \n",
       "1824720           word_scores:cancer   \n",
       "1824721           word_scores:cancer   \n",
       "\n",
       "                                                   term  ner_score  \\\n",
       "1824717         viral diseases oncologic disorders such      0.722   \n",
       "1824718                                     c hepatitis      0.756   \n",
       "1824719                                      malignancy      0.736   \n",
       "1824720  non-melanoma skin cancer carcinoma situ cervix      0.905   \n",
       "1824721                                         cancers      0.900   \n",
       "\n",
       "               concepts                                       tree_numbers  \\\n",
       "1824717  Virus Diseases                                            C01.925   \n",
       "1824718     Hepatitis C  C01.221.250.750|C01.925.440.440|C01.925.782.35...   \n",
       "1824719          Cancer                                                C04   \n",
       "1824720             NaN                                                NaN   \n",
       "1824721          Cancer                                                C04   \n",
       "\n",
       "         nel_score  \n",
       "1824717        1.0  \n",
       "1824718        1.0  \n",
       "1824719        1.0  \n",
       "1824720        NaN  \n",
       "1824721        1.0  "
      ]
     },
     "execution_count": 95,
     "metadata": {},
     "output_type": "execute_result"
    }
   ],
   "source": [
    "main.tail()"
   ]
  },
  {
   "cell_type": "code",
   "execution_count": 50,
   "id": "865e09cc-7d49-451a-8e47-314857060869",
   "metadata": {},
   "outputs": [],
   "source": [
    "# Save file as input for fb clinical trial parser\n",
    "inpath = os.path.join(path, \"src/github.com/facebookresearch/Clinical-Trial-Parser/data/input/clinical_trials.csv\")\n",
    "in_df=pd.read_csv(inpath)"
   ]
  },
  {
   "cell_type": "code",
   "execution_count": 92,
   "id": "736c52a3-07bc-406e-8f8f-e14bcdc976c1",
   "metadata": {},
   "outputs": [
    {
     "data": {
      "text/html": [
       "<div>\n",
       "<style scoped>\n",
       "    .dataframe tbody tr th:only-of-type {\n",
       "        vertical-align: middle;\n",
       "    }\n",
       "\n",
       "    .dataframe tbody tr th {\n",
       "        vertical-align: top;\n",
       "    }\n",
       "\n",
       "    .dataframe thead th {\n",
       "        text-align: right;\n",
       "    }\n",
       "</style>\n",
       "<table border=\"1\" class=\"dataframe\">\n",
       "  <thead>\n",
       "    <tr style=\"text-align: right;\">\n",
       "      <th></th>\n",
       "      <th>#nct_id</th>\n",
       "      <th>title</th>\n",
       "      <th>has_us_facility</th>\n",
       "      <th>conditions</th>\n",
       "      <th>eligibility_criteria</th>\n",
       "      <th>start_date</th>\n",
       "      <th>lead_sponsor</th>\n",
       "      <th>summary</th>\n",
       "      <th>overall_status</th>\n",
       "      <th>phase</th>\n",
       "      <th>...</th>\n",
       "      <th>study_type</th>\n",
       "      <th>number_of_arms</th>\n",
       "      <th>number_of_groups</th>\n",
       "      <th>why_stopped</th>\n",
       "      <th>has_dmc</th>\n",
       "      <th>is_fda_regulated_drug</th>\n",
       "      <th>is_fda_regulated_device</th>\n",
       "      <th>is_unapproved_device</th>\n",
       "      <th>is_ppsd</th>\n",
       "      <th>is_us_export</th>\n",
       "    </tr>\n",
       "  </thead>\n",
       "  <tbody>\n",
       "    <tr>\n",
       "      <th>0</th>\n",
       "      <td>NCT00000105</td>\n",
       "      <td>Vaccination With Tetanus and KLH to Assess Imm...</td>\n",
       "      <td>True</td>\n",
       "      <td>Cancer</td>\n",
       "      <td>Inclusion Criteria:\\n\\nPatients must have a di...</td>\n",
       "      <td>2002-07-31</td>\n",
       "      <td>Masonic Cancer Center, University of Minnesota</td>\n",
       "      <td>The purpose of this study is to learn how the ...</td>\n",
       "      <td>Terminated</td>\n",
       "      <td>NaN</td>\n",
       "      <td>...</td>\n",
       "      <td>Observational</td>\n",
       "      <td>NaN</td>\n",
       "      <td>3.0</td>\n",
       "      <td>Replaced by another study.</td>\n",
       "      <td>True</td>\n",
       "      <td>NaN</td>\n",
       "      <td>NaN</td>\n",
       "      <td>NaN</td>\n",
       "      <td>NaN</td>\n",
       "      <td>NaN</td>\n",
       "    </tr>\n",
       "    <tr>\n",
       "      <th>1</th>\n",
       "      <td>NCT00000124</td>\n",
       "      <td>Collaborative Ocular Melanoma Study (COMS)</td>\n",
       "      <td>False</td>\n",
       "      <td>Choroid Neoplasms|Uveitis</td>\n",
       "      <td>Men and women eligible for the study must be a...</td>\n",
       "      <td>1986-11-30</td>\n",
       "      <td>National Eye Institute (NEI)</td>\n",
       "      <td>To evaluate therapeutic interventions for pati...</td>\n",
       "      <td>Unknown status</td>\n",
       "      <td>Phase 3</td>\n",
       "      <td>...</td>\n",
       "      <td>Interventional</td>\n",
       "      <td>NaN</td>\n",
       "      <td>NaN</td>\n",
       "      <td>NaN</td>\n",
       "      <td>NaN</td>\n",
       "      <td>NaN</td>\n",
       "      <td>NaN</td>\n",
       "      <td>NaN</td>\n",
       "      <td>NaN</td>\n",
       "      <td>NaN</td>\n",
       "    </tr>\n",
       "    <tr>\n",
       "      <th>2</th>\n",
       "      <td>NCT00000589</td>\n",
       "      <td>Trial to Reduce Alloimmunization to Platelets ...</td>\n",
       "      <td>False</td>\n",
       "      <td>Blood Platelets|Blood Transfusion|Hematologic ...</td>\n",
       "      <td>Male and female thrombocytopenic patients, age...</td>\n",
       "      <td>1989-08-31</td>\n",
       "      <td>National Heart, Lung, and Blood Institute (NHLBI)</td>\n",
       "      <td>To determine the best, clinically useful proce...</td>\n",
       "      <td>Completed</td>\n",
       "      <td>Phase 3</td>\n",
       "      <td>...</td>\n",
       "      <td>Interventional</td>\n",
       "      <td>NaN</td>\n",
       "      <td>NaN</td>\n",
       "      <td>NaN</td>\n",
       "      <td>NaN</td>\n",
       "      <td>NaN</td>\n",
       "      <td>NaN</td>\n",
       "      <td>NaN</td>\n",
       "      <td>NaN</td>\n",
       "      <td>NaN</td>\n",
       "    </tr>\n",
       "    <tr>\n",
       "      <th>3</th>\n",
       "      <td>NCT00000591</td>\n",
       "      <td>T-Cell Depletion in Unrelated Donor Marrow Tra...</td>\n",
       "      <td>False</td>\n",
       "      <td>Bone Marrow Transplantation|Graft vs Host Dise...</td>\n",
       "      <td>No eligibility criteria</td>\n",
       "      <td>1993-11-30</td>\n",
       "      <td>National Heart, Lung, and Blood Institute (NHLBI)</td>\n",
       "      <td>To determine if a reduction in morbidity and m...</td>\n",
       "      <td>Completed</td>\n",
       "      <td>Phase 3</td>\n",
       "      <td>...</td>\n",
       "      <td>Interventional</td>\n",
       "      <td>NaN</td>\n",
       "      <td>NaN</td>\n",
       "      <td>NaN</td>\n",
       "      <td>NaN</td>\n",
       "      <td>NaN</td>\n",
       "      <td>NaN</td>\n",
       "      <td>NaN</td>\n",
       "      <td>NaN</td>\n",
       "      <td>NaN</td>\n",
       "    </tr>\n",
       "    <tr>\n",
       "      <th>4</th>\n",
       "      <td>NCT00000603</td>\n",
       "      <td>Cord Blood Stem Cell Transplantation Study (CO...</td>\n",
       "      <td>False</td>\n",
       "      <td>Anemia, Aplastic|Fanconi Anemia|Hematologic Di...</td>\n",
       "      <td>Mothers of Infant-donors must complete a medic...</td>\n",
       "      <td>1996-09-30</td>\n",
       "      <td>National Heart, Lung, and Blood Institute (NHLBI)</td>\n",
       "      <td>To evaluate if HLA-mismatched, unrelated-donor...</td>\n",
       "      <td>Completed</td>\n",
       "      <td>Phase 2</td>\n",
       "      <td>...</td>\n",
       "      <td>Interventional</td>\n",
       "      <td>NaN</td>\n",
       "      <td>NaN</td>\n",
       "      <td>NaN</td>\n",
       "      <td>NaN</td>\n",
       "      <td>NaN</td>\n",
       "      <td>NaN</td>\n",
       "      <td>NaN</td>\n",
       "      <td>NaN</td>\n",
       "      <td>NaN</td>\n",
       "    </tr>\n",
       "  </tbody>\n",
       "</table>\n",
       "<p>5 rows × 22 columns</p>\n",
       "</div>"
      ],
      "text/plain": [
       "       #nct_id                                              title  \\\n",
       "0  NCT00000105  Vaccination With Tetanus and KLH to Assess Imm...   \n",
       "1  NCT00000124         Collaborative Ocular Melanoma Study (COMS)   \n",
       "2  NCT00000589  Trial to Reduce Alloimmunization to Platelets ...   \n",
       "3  NCT00000591  T-Cell Depletion in Unrelated Donor Marrow Tra...   \n",
       "4  NCT00000603  Cord Blood Stem Cell Transplantation Study (CO...   \n",
       "\n",
       "   has_us_facility                                         conditions  \\\n",
       "0             True                                             Cancer   \n",
       "1            False                          Choroid Neoplasms|Uveitis   \n",
       "2            False  Blood Platelets|Blood Transfusion|Hematologic ...   \n",
       "3            False  Bone Marrow Transplantation|Graft vs Host Dise...   \n",
       "4            False  Anemia, Aplastic|Fanconi Anemia|Hematologic Di...   \n",
       "\n",
       "                                eligibility_criteria  start_date  \\\n",
       "0  Inclusion Criteria:\\n\\nPatients must have a di...  2002-07-31   \n",
       "1  Men and women eligible for the study must be a...  1986-11-30   \n",
       "2  Male and female thrombocytopenic patients, age...  1989-08-31   \n",
       "3                            No eligibility criteria  1993-11-30   \n",
       "4  Mothers of Infant-donors must complete a medic...  1996-09-30   \n",
       "\n",
       "                                        lead_sponsor  \\\n",
       "0     Masonic Cancer Center, University of Minnesota   \n",
       "1                       National Eye Institute (NEI)   \n",
       "2  National Heart, Lung, and Blood Institute (NHLBI)   \n",
       "3  National Heart, Lung, and Blood Institute (NHLBI)   \n",
       "4  National Heart, Lung, and Blood Institute (NHLBI)   \n",
       "\n",
       "                                             summary  overall_status    phase  \\\n",
       "0  The purpose of this study is to learn how the ...      Terminated      NaN   \n",
       "1  To evaluate therapeutic interventions for pati...  Unknown status  Phase 3   \n",
       "2  To determine the best, clinically useful proce...       Completed  Phase 3   \n",
       "3  To determine if a reduction in morbidity and m...       Completed  Phase 3   \n",
       "4  To evaluate if HLA-mismatched, unrelated-donor...       Completed  Phase 2   \n",
       "\n",
       "   ...      study_type number_of_arms number_of_groups  \\\n",
       "0  ...   Observational            NaN              3.0   \n",
       "1  ...  Interventional            NaN              NaN   \n",
       "2  ...  Interventional            NaN              NaN   \n",
       "3  ...  Interventional            NaN              NaN   \n",
       "4  ...  Interventional            NaN              NaN   \n",
       "\n",
       "                  why_stopped  has_dmc is_fda_regulated_drug  \\\n",
       "0  Replaced by another study.     True                   NaN   \n",
       "1                         NaN      NaN                   NaN   \n",
       "2                         NaN      NaN                   NaN   \n",
       "3                         NaN      NaN                   NaN   \n",
       "4                         NaN      NaN                   NaN   \n",
       "\n",
       "  is_fda_regulated_device is_unapproved_device is_ppsd is_us_export  \n",
       "0                     NaN                  NaN     NaN          NaN  \n",
       "1                     NaN                  NaN     NaN          NaN  \n",
       "2                     NaN                  NaN     NaN          NaN  \n",
       "3                     NaN                  NaN     NaN          NaN  \n",
       "4                     NaN                  NaN     NaN          NaN  \n",
       "\n",
       "[5 rows x 22 columns]"
      ]
     },
     "execution_count": 92,
     "metadata": {},
     "output_type": "execute_result"
    }
   ],
   "source": [
    "df.head()"
   ]
  },
  {
   "cell_type": "code",
   "execution_count": 59,
   "id": "4628c8db-8850-4e5e-aad6-91f5515ad551",
   "metadata": {},
   "outputs": [],
   "source": [
    "over=list(set(diff_ncts) - set(in_df['#nct_id'].tolist()))"
   ]
  },
  {
   "cell_type": "code",
   "execution_count": 60,
   "id": "046e0c72-2d90-47ea-b651-7faaf0449049",
   "metadata": {},
   "outputs": [
    {
     "data": {
      "text/plain": [
       "0"
      ]
     },
     "execution_count": 60,
     "metadata": {},
     "output_type": "execute_result"
    }
   ],
   "source": [
    "len(over)"
   ]
  },
  {
   "cell_type": "code",
   "execution_count": null,
   "id": "0a1650f9-372a-4c0b-b7f7-f694f1d60481",
   "metadata": {},
   "outputs": [],
   "source": []
  },
  {
   "cell_type": "code",
   "execution_count": 61,
   "id": "763ab433-bc90-46a2-b276-16888bf43841",
   "metadata": {},
   "outputs": [],
   "source": [
    "missing=in_df[in_df['#nct_id'].isin(diff_ncts)]"
   ]
  },
  {
   "cell_type": "code",
   "execution_count": 64,
   "id": "47335b0b-8636-440e-a073-a8e27fe7fadd",
   "metadata": {},
   "outputs": [],
   "source": [
    "missing.to_csv(inpath, index=False)"
   ]
  },
  {
   "cell_type": "code",
   "execution_count": 83,
   "id": "5be1042a-6a25-4723-9921-ff7a5bfc86cc",
   "metadata": {},
   "outputs": [],
   "source": [
    "nn=pd.read_csv('/Users/forrest.xiao/non_fh_code/trialtracker/extract/src/github.com/facebookresearch/Clinical-Trial-Parser/data/output/ie_extracted_clinical_trials.tsv', sep='\\t')"
   ]
  },
  {
   "cell_type": "code",
   "execution_count": 84,
   "id": "892d50d1-bdf9-4d26-8830-110e139d3122",
   "metadata": {},
   "outputs": [
    {
     "data": {
      "text/html": [
       "<div>\n",
       "<style scoped>\n",
       "    .dataframe tbody tr th:only-of-type {\n",
       "        vertical-align: middle;\n",
       "    }\n",
       "\n",
       "    .dataframe tbody tr th {\n",
       "        vertical-align: top;\n",
       "    }\n",
       "\n",
       "    .dataframe thead th {\n",
       "        text-align: right;\n",
       "    }\n",
       "</style>\n",
       "<table border=\"1\" class=\"dataframe\">\n",
       "  <thead>\n",
       "    <tr style=\"text-align: right;\">\n",
       "      <th></th>\n",
       "      <th>#nct_id</th>\n",
       "      <th>eligibility_type</th>\n",
       "      <th>criterion</th>\n",
       "    </tr>\n",
       "  </thead>\n",
       "  <tbody>\n",
       "    <tr>\n",
       "      <th>0</th>\n",
       "      <td>NCT00001294</td>\n",
       "      <td>inclusion</td>\n",
       "      <td>The basic criterion for entering families into...</td>\n",
       "    </tr>\n",
       "    <tr>\n",
       "      <th>1</th>\n",
       "      <td>NCT00001500</td>\n",
       "      <td>inclusion</td>\n",
       "      <td>The basic requirement for entry in the study w...</td>\n",
       "    </tr>\n",
       "    <tr>\n",
       "      <th>2</th>\n",
       "      <td>NCT00001500</td>\n",
       "      <td>inclusion</td>\n",
       "      <td>Additional siblings will be encouraged but not...</td>\n",
       "    </tr>\n",
       "    <tr>\n",
       "      <th>3</th>\n",
       "      <td>NCT00001500</td>\n",
       "      <td>inclusion</td>\n",
       "      <td>Probands will be recruited through smoking ces...</td>\n",
       "    </tr>\n",
       "    <tr>\n",
       "      <th>4</th>\n",
       "      <td>NCT00001500</td>\n",
       "      <td>inclusion</td>\n",
       "      <td>Attendees at programs offered by the Health Pr...</td>\n",
       "    </tr>\n",
       "  </tbody>\n",
       "</table>\n",
       "</div>"
      ],
      "text/plain": [
       "       #nct_id eligibility_type  \\\n",
       "0  NCT00001294        inclusion   \n",
       "1  NCT00001500        inclusion   \n",
       "2  NCT00001500        inclusion   \n",
       "3  NCT00001500        inclusion   \n",
       "4  NCT00001500        inclusion   \n",
       "\n",
       "                                           criterion  \n",
       "0  The basic criterion for entering families into...  \n",
       "1  The basic requirement for entry in the study w...  \n",
       "2  Additional siblings will be encouraged but not...  \n",
       "3  Probands will be recruited through smoking ces...  \n",
       "4  Attendees at programs offered by the Health Pr...  "
      ]
     },
     "execution_count": 84,
     "metadata": {},
     "output_type": "execute_result"
    }
   ],
   "source": [
    "nn.head()"
   ]
  },
  {
   "cell_type": "code",
   "execution_count": 85,
   "id": "de8f0670-83ee-45fe-b6b9-24d175017d29",
   "metadata": {},
   "outputs": [
    {
     "data": {
      "text/plain": [
       "829"
      ]
     },
     "execution_count": 85,
     "metadata": {},
     "output_type": "execute_result"
    }
   ],
   "source": [
    "nn['#nct_id'].nunique()"
   ]
  },
  {
   "cell_type": "code",
   "execution_count": 71,
   "id": "5a5c4513-397f-47e6-b3dc-8a634ee81097",
   "metadata": {},
   "outputs": [],
   "source": [
    "ext_list=nn['#nct_id'].tolist()"
   ]
  },
  {
   "cell_type": "code",
   "execution_count": 73,
   "id": "89c7edc9-6b0f-44b0-a7d2-4d796da08871",
   "metadata": {},
   "outputs": [],
   "source": [
    "start=pd.read_csv('/Users/forrest.xiao/non_fh_code/trialtracker/extract/src/github.com/facebookresearch/Clinical-Trial-Parser/data/input/clinical_trials.csv')"
   ]
  },
  {
   "cell_type": "code",
   "execution_count": 78,
   "id": "134bb5ca-0f6c-4232-932d-8b68135cbfb3",
   "metadata": {},
   "outputs": [],
   "source": [
    "start_list=start['#nct_id'].tolist()"
   ]
  },
  {
   "cell_type": "code",
   "execution_count": 79,
   "id": "a8e36c60-8f41-4a73-bcc5-7dbca2250628",
   "metadata": {},
   "outputs": [],
   "source": [
    "inv=list(set(start_list) - set(ext_list))"
   ]
  },
  {
   "cell_type": "code",
   "execution_count": 81,
   "id": "8948585c-f12b-42a1-ace0-ad95e69186a6",
   "metadata": {},
   "outputs": [],
   "source": [
    "inv_df=start[start['#nct_id'].isin(inv)]"
   ]
  },
  {
   "cell_type": "code",
   "execution_count": 82,
   "id": "fc2715fe-a2d5-4d25-8878-5063274d8638",
   "metadata": {},
   "outputs": [
    {
     "data": {
      "text/html": [
       "<div>\n",
       "<style scoped>\n",
       "    .dataframe tbody tr th:only-of-type {\n",
       "        vertical-align: middle;\n",
       "    }\n",
       "\n",
       "    .dataframe tbody tr th {\n",
       "        vertical-align: top;\n",
       "    }\n",
       "\n",
       "    .dataframe thead th {\n",
       "        text-align: right;\n",
       "    }\n",
       "</style>\n",
       "<table border=\"1\" class=\"dataframe\">\n",
       "  <thead>\n",
       "    <tr style=\"text-align: right;\">\n",
       "      <th></th>\n",
       "      <th>#nct_id</th>\n",
       "      <th>title</th>\n",
       "      <th>has_us_facility</th>\n",
       "      <th>conditions</th>\n",
       "      <th>eligibility_criteria</th>\n",
       "    </tr>\n",
       "  </thead>\n",
       "  <tbody>\n",
       "    <tr>\n",
       "      <th>0</th>\n",
       "      <td>NCT00000124</td>\n",
       "      <td>Collaborative Ocular Melanoma Study (COMS)</td>\n",
       "      <td>False</td>\n",
       "      <td>Choroid Neoplasms|Uveitis</td>\n",
       "      <td>Men and women eligible for the study must be a...</td>\n",
       "    </tr>\n",
       "    <tr>\n",
       "      <th>1</th>\n",
       "      <td>NCT00000589</td>\n",
       "      <td>Trial to Reduce Alloimmunization to Platelets ...</td>\n",
       "      <td>False</td>\n",
       "      <td>Blood Platelets|Blood Transfusion|Hematologic ...</td>\n",
       "      <td>Male and female thrombocytopenic patients, age...</td>\n",
       "    </tr>\n",
       "    <tr>\n",
       "      <th>2</th>\n",
       "      <td>NCT00000591</td>\n",
       "      <td>T-Cell Depletion in Unrelated Donor Marrow Tra...</td>\n",
       "      <td>False</td>\n",
       "      <td>Bone Marrow Transplantation|Graft vs Host Dise...</td>\n",
       "      <td>No eligibility criteria</td>\n",
       "    </tr>\n",
       "    <tr>\n",
       "      <th>3</th>\n",
       "      <td>NCT00000603</td>\n",
       "      <td>Cord Blood Stem Cell Transplantation Study (CO...</td>\n",
       "      <td>False</td>\n",
       "      <td>Anemia, Aplastic|Fanconi Anemia|Hematologic Di...</td>\n",
       "      <td>Mothers of Infant-donors must complete a medic...</td>\n",
       "    </tr>\n",
       "    <tr>\n",
       "      <th>4</th>\n",
       "      <td>NCT00000611</td>\n",
       "      <td>Women's Health Initiative (WHI)</td>\n",
       "      <td>False</td>\n",
       "      <td>Bone Diseases|Breast Neoplasms|Cardiovascular ...</td>\n",
       "      <td>Postmenopausal women ages 50 to 79.</td>\n",
       "    </tr>\n",
       "  </tbody>\n",
       "</table>\n",
       "</div>"
      ],
      "text/plain": [
       "       #nct_id                                              title  \\\n",
       "0  NCT00000124         Collaborative Ocular Melanoma Study (COMS)   \n",
       "1  NCT00000589  Trial to Reduce Alloimmunization to Platelets ...   \n",
       "2  NCT00000591  T-Cell Depletion in Unrelated Donor Marrow Tra...   \n",
       "3  NCT00000603  Cord Blood Stem Cell Transplantation Study (CO...   \n",
       "4  NCT00000611                    Women's Health Initiative (WHI)   \n",
       "\n",
       "   has_us_facility                                         conditions  \\\n",
       "0            False                          Choroid Neoplasms|Uveitis   \n",
       "1            False  Blood Platelets|Blood Transfusion|Hematologic ...   \n",
       "2            False  Bone Marrow Transplantation|Graft vs Host Dise...   \n",
       "3            False  Anemia, Aplastic|Fanconi Anemia|Hematologic Di...   \n",
       "4            False  Bone Diseases|Breast Neoplasms|Cardiovascular ...   \n",
       "\n",
       "                                eligibility_criteria  \n",
       "0  Men and women eligible for the study must be a...  \n",
       "1  Male and female thrombocytopenic patients, age...  \n",
       "2                            No eligibility criteria  \n",
       "3  Mothers of Infant-donors must complete a medic...  \n",
       "4                Postmenopausal women ages 50 to 79.  "
      ]
     },
     "execution_count": 82,
     "metadata": {},
     "output_type": "execute_result"
    }
   ],
   "source": [
    "inv_df.head()"
   ]
  },
  {
   "cell_type": "code",
   "execution_count": 86,
   "id": "e364dff8-44e5-42f8-af22-99cc33374df9",
   "metadata": {},
   "outputs": [
    {
     "data": {
      "text/plain": [
       "True     4894\n",
       "False    2080\n",
       "Name: has_us_facility, dtype: int64"
      ]
     },
     "execution_count": 86,
     "metadata": {},
     "output_type": "execute_result"
    }
   ],
   "source": [
    "inv_df.has_us_facility.value_counts()"
   ]
  },
  {
   "cell_type": "code",
   "execution_count": 116,
   "id": "5ffba0a1-fe2d-4041-b9b2-40936b1e1995",
   "metadata": {},
   "outputs": [],
   "source": [
    "df=pd.read_csv(\"/Users/forrest.xiao/non_fh_code/trialtracker/extract/extracted_data/ct_fb_parser_data.csv\", index_col=0)"
   ]
  },
  {
   "cell_type": "code",
   "execution_count": 122,
   "id": "7ae3e0d2-0fb1-4273-a36a-d8655425ac39",
   "metadata": {},
   "outputs": [],
   "source": [
    "df[['#nct_id','title','has_us_facility','conditions','eligibility_criteria']].to_csv(\"/Users/forrest.xiao/non_fh_code/trialtracker/extract/src/github.com/facebookresearch/Clinical-Trial-Parser/data/input/clinical_trials.csv\", index=False)"
   ]
  },
  {
   "cell_type": "code",
   "execution_count": 120,
   "id": "7c2141c8-a652-4e8e-a0ff-f2a7d8ed06a9",
   "metadata": {},
   "outputs": [
    {
     "data": {
      "text/plain": [
       "(82243,)"
      ]
     },
     "execution_count": 120,
     "metadata": {},
     "output_type": "execute_result"
    }
   ],
   "source": [
    "df['#nct_id'].shape"
   ]
  },
  {
   "cell_type": "code",
   "execution_count": 113,
   "id": "522cbc44-47d9-46ce-9040-ec71bc0547b6",
   "metadata": {},
   "outputs": [
    {
     "data": {
      "text/plain": [
       "(7803, 5)"
      ]
     },
     "execution_count": 113,
     "metadata": {},
     "output_type": "execute_result"
    }
   ],
   "source": [
    "df_in.shape"
   ]
  },
  {
   "cell_type": "code",
   "execution_count": 105,
   "id": "8d8b7cf6-996f-437c-afa6-72be35577e8f",
   "metadata": {},
   "outputs": [
    {
     "data": {
      "text/plain": [
       "['NCT00030264',\n",
       " 'NCT00030264',\n",
       " 'NCT00030264',\n",
       " 'NCT00030264',\n",
       " 'NCT00030264',\n",
       " 'NCT00030264',\n",
       " 'NCT00030264',\n",
       " 'NCT00030264',\n",
       " 'NCT00030264',\n",
       " 'NCT00030264']"
      ]
     },
     "execution_count": 105,
     "metadata": {},
     "output_type": "execute_result"
    }
   ],
   "source": [
    "main['#nct_id'].tolist()[0:10]"
   ]
  },
  {
   "cell_type": "code",
   "execution_count": 111,
   "id": "9559a66c-07ed-4e21-9e2a-2a9b695059da",
   "metadata": {},
   "outputs": [],
   "source": [
    "df[df['#nct_id'].isin(main['#nct_id'].tolist()[0:120])].to_csv(\"/Users/forrest.xiao/non_fh_code/trialtracker/extract/src/github.com/facebookresearch/Clinical-Trial-Parser/data/input/clinical_trials.csv\", index=False)\n"
   ]
  },
  {
   "cell_type": "code",
   "execution_count": 97,
   "id": "8d49b9ff-63a1-4705-8dcc-47e283c6c732",
   "metadata": {},
   "outputs": [
    {
     "data": {
      "text/plain": [
       "(7176, 5)"
      ]
     },
     "execution_count": 97,
     "metadata": {},
     "output_type": "execute_result"
    }
   ],
   "source": [
    "df_in.shape"
   ]
  },
  {
   "cell_type": "code",
   "execution_count": null,
   "id": "ee9d1846-9d1b-4789-83c6-281ff1ae413b",
   "metadata": {},
   "outputs": [],
   "source": []
  }
 ],
 "metadata": {
  "kernelspec": {
   "display_name": "Python 3",
   "language": "python",
   "name": "python3"
  },
  "language_info": {
   "codemirror_mode": {
    "name": "ipython",
    "version": 3
   },
   "file_extension": ".py",
   "mimetype": "text/x-python",
   "name": "python",
   "nbconvert_exporter": "python",
   "pygments_lexer": "ipython3",
   "version": "3.6.13"
  }
 },
 "nbformat": 4,
 "nbformat_minor": 5
}
