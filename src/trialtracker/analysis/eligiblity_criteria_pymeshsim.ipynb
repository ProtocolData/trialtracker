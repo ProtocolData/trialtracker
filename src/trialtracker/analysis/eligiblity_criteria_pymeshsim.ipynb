{
 "cells": [
  {
   "cell_type": "code",
   "execution_count": 1,
   "id": "513d131d-cb74-44c2-86c7-d2c4fe453f9d",
   "metadata": {},
   "outputs": [],
   "source": [
    "# set path\n",
    "import os\n",
    "import sys\n",
    "my_path = os.path.abspath(os.path.dirname('.'))\n",
    "path = os.path.join(my_path, \"..\")\n",
    "sys.path.insert(1, path)"
   ]
  },
  {
   "cell_type": "code",
   "execution_count": 2,
   "id": "c07c7bc4-c74f-4b1b-a6a9-c19857fe96bd",
   "metadata": {},
   "outputs": [],
   "source": [
    "# load modules\n",
    "import pandas as pd\n",
    "from extract import extracted_data_analyzer as eda, aact_querier as aq\n",
    "import seaborn as sns\n",
    "import numpy as np\n",
    "import matplotlib.pyplot as plt\n",
    "import matplotlib.patches as mpatches\n",
    "import psycopg2\n",
    "import getpass\n",
    "import pandas.io.sql as psql\n",
    "import plotly.express as px\n",
    "import imageio\n",
    "import pycountry as pc\n",
    "from plotly.offline import iplot\n",
    "from matplotlib.pyplot import *\n",
    "import re"
   ]
  },
  {
   "cell_type": "code",
   "execution_count": 3,
   "id": "457c5081-bedc-4dc4-acab-89480929aaea",
   "metadata": {},
   "outputs": [],
   "source": [
    "# read data\n",
    "onc_trials=pd.read_csv(path+\"/extract/extracted_data/onc_trials.csv\", parse_dates=['start_datetime'], dtype={'eligibility_criteria': str}, index_col=0)"
   ]
  },
  {
   "cell_type": "code",
   "execution_count": 5,
   "id": "a83f363d-db39-4ebc-bfbd-01217ca997f3",
   "metadata": {},
   "outputs": [
    {
     "data": {
      "text/html": [
       "<div>\n",
       "<style scoped>\n",
       "    .dataframe tbody tr th:only-of-type {\n",
       "        vertical-align: middle;\n",
       "    }\n",
       "\n",
       "    .dataframe tbody tr th {\n",
       "        vertical-align: top;\n",
       "    }\n",
       "\n",
       "    .dataframe thead th {\n",
       "        text-align: right;\n",
       "    }\n",
       "</style>\n",
       "<table border=\"1\" class=\"dataframe\">\n",
       "  <thead>\n",
       "    <tr style=\"text-align: right;\">\n",
       "      <th></th>\n",
       "      <th>nct_id</th>\n",
       "      <th>title</th>\n",
       "      <th>has_us_facility</th>\n",
       "      <th>conditions</th>\n",
       "      <th>eligibility_criteria</th>\n",
       "      <th>start_date</th>\n",
       "      <th>lead_sponsor</th>\n",
       "      <th>summary</th>\n",
       "      <th>overall_status</th>\n",
       "      <th>phase</th>\n",
       "      <th>...</th>\n",
       "      <th>has_dmc</th>\n",
       "      <th>is_fda_regulated_drug</th>\n",
       "      <th>is_fda_regulated_device</th>\n",
       "      <th>is_unapproved_device</th>\n",
       "      <th>is_ppsd</th>\n",
       "      <th>is_us_export</th>\n",
       "      <th>start_datetime</th>\n",
       "      <th>start_year</th>\n",
       "      <th>mapped_phase</th>\n",
       "      <th>mapped_study_type</th>\n",
       "    </tr>\n",
       "  </thead>\n",
       "  <tbody>\n",
       "    <tr>\n",
       "      <th>0</th>\n",
       "      <td>NCT00000105</td>\n",
       "      <td>Vaccination With Tetanus and KLH to Assess Imm...</td>\n",
       "      <td>True</td>\n",
       "      <td>Cancer</td>\n",
       "      <td>Inclusion Criteria:\\n\\nPatients must have a di...</td>\n",
       "      <td>2002-07-31</td>\n",
       "      <td>Masonic Cancer Center, University of Minnesota</td>\n",
       "      <td>The purpose of this study is to learn how the ...</td>\n",
       "      <td>Terminated</td>\n",
       "      <td>NaN</td>\n",
       "      <td>...</td>\n",
       "      <td>True</td>\n",
       "      <td>NaN</td>\n",
       "      <td>NaN</td>\n",
       "      <td>NaN</td>\n",
       "      <td>NaN</td>\n",
       "      <td>NaN</td>\n",
       "      <td>2002-07-31</td>\n",
       "      <td>2002.0</td>\n",
       "      <td>h) Missing</td>\n",
       "      <td>b) Observational</td>\n",
       "    </tr>\n",
       "  </tbody>\n",
       "</table>\n",
       "<p>1 rows × 26 columns</p>\n",
       "</div>"
      ],
      "text/plain": [
       "        nct_id                                              title  \\\n",
       "0  NCT00000105  Vaccination With Tetanus and KLH to Assess Imm...   \n",
       "\n",
       "   has_us_facility conditions  \\\n",
       "0             True     Cancer   \n",
       "\n",
       "                                eligibility_criteria  start_date  \\\n",
       "0  Inclusion Criteria:\\n\\nPatients must have a di...  2002-07-31   \n",
       "\n",
       "                                     lead_sponsor  \\\n",
       "0  Masonic Cancer Center, University of Minnesota   \n",
       "\n",
       "                                             summary overall_status phase  \\\n",
       "0  The purpose of this study is to learn how the ...     Terminated   NaN   \n",
       "\n",
       "   ...  has_dmc is_fda_regulated_drug is_fda_regulated_device  \\\n",
       "0  ...     True                   NaN                     NaN   \n",
       "\n",
       "   is_unapproved_device  is_ppsd is_us_export start_datetime start_year  \\\n",
       "0                   NaN      NaN          NaN     2002-07-31     2002.0   \n",
       "\n",
       "  mapped_phase mapped_study_type  \n",
       "0   h) Missing  b) Observational  \n",
       "\n",
       "[1 rows x 26 columns]"
      ]
     },
     "execution_count": 5,
     "metadata": {},
     "output_type": "execute_result"
    }
   ],
   "source": [
    "onc_trials.head(1)"
   ]
  },
  {
   "cell_type": "code",
   "execution_count": 15,
   "id": "0703c7e7-6313-4f0d-a2ef-bcbd1f0f334a",
   "metadata": {},
   "outputs": [],
   "source": [
    "ie_sample=str(onc_trials[onc_trials.nct_id=='NCT01758146'].eligibility_criteria)"
   ]
  },
  {
   "cell_type": "code",
   "execution_count": 8,
   "id": "af759e04-7710-4608-98a9-8c877e2d4e6b",
   "metadata": {},
   "outputs": [],
   "source": [
    "from pyMeSHSim.metamapWrap.MetamapInterface import MetaMap"
   ]
  },
  {
   "cell_type": "code",
   "execution_count": 24,
   "id": "d1cb13f7-d014-44db-92c4-51e2bb24e5fe",
   "metadata": {},
   "outputs": [],
   "source": [
    "metamap = MetaMap(path=path+\"/metamap/public_mm/bin/metamap20\")"
   ]
  },
  {
   "cell_type": "code",
   "execution_count": 27,
   "id": "138ed1e6-2222-4760-ad36-25554bab5c81",
   "metadata": {},
   "outputs": [
    {
     "name": "stderr",
     "output_type": "stream",
     "text": [
      "Running /Users/forrest.xiao/non_fh_code/trialtracker/analysis/../metamap/public_mm/bin/metamap20\t-N\t-J inpo,dsyn,phpr,anab,orgf,clna,hlca,genf,orga,neop,emod,inbe,lbtr,anst,npop,celc,cell,bpoc,acty,mobd,celf,evnt,sosy,patf,tisu,moft,fndg,bdsu,ortf,menp,acab,comd,sbst,cgab\t-R MSH\t-i\t-Q 4\t--silent\t--sldi\t/var/folders/q3/9rlf7cf92hg8vmhm_y9l_t_c0000gn/T/tmpflh2guoy\t/var/folders/q3/9rlf7cf92hg8vmhm_y9l_t_c0000gn/T/tmpf5_gbdcl ...\n"
     ]
    }
   ],
   "source": [
    "concept = metamap.runMetaMap(semantic_types=metamap.semanticTypes , conjunction=False, term_processing=False, text=\"131-I-TM-601 is investigated in clinical trials for treating brain cancer. 131-I-TM-601 is a solid. Tx binds to and reduces the activity of a matrix metalloproteinase (MMP) that regulates functioning of the chloride channels on cell membranes. TM-601 is a small 36-amino-acid peptide that selectively binds to glioma cells but not normal brain parenchyma. It is a synthetic version of a neurotoxin isolated from the venom of the Giant Yellow Israeli scorpion Leiurus quinquestriatus. The synthetic version of this peptide has been manufactured and covalently linked to iodine 131 ((131)I-TM-601) as a means of targeting radiation to tumor cells in the treatment of brain cancer. The selective effects of TM-601 are regulated by its action on MMP2 receptors.\")"
   ]
  },
  {
   "cell_type": "code",
   "execution_count": 25,
   "id": "da591790-f915-4484-8a2e-807f425c2d93",
   "metadata": {},
   "outputs": [
    {
     "name": "stderr",
     "output_type": "stream",
     "text": [
      "Running /Users/forrest.xiao/non_fh_code/trialtracker/analysis/../metamap/public_mm/bin/metamap20\t-N\t-J inpo,dsyn,phpr,anab,orgf,clna,hlca,genf,orga,neop,emod,inbe,lbtr,anst,npop,celc,cell,bpoc,acty,mobd,celf,evnt,sosy,patf,tisu,moft,fndg,bdsu,ortf,menp,acab,comd,sbst,cgab\t-R MSH\t-i\t-Q 4\t--silent\t--sldi\t/var/folders/q3/9rlf7cf92hg8vmhm_y9l_t_c0000gn/T/tmp9rhvy7nb\t/var/folders/q3/9rlf7cf92hg8vmhm_y9l_t_c0000gn/T/tmp3wtmplnv ...\n"
     ]
    }
   ],
   "source": [
    "concept = metamap.runMetaMap(semantic_types=metamap.semanticTypes , conjunction=False, term_processing=False, text=ie_sample)\n"
   ]
  },
  {
   "cell_type": "code",
   "execution_count": 21,
   "id": "4c5d96f6-c661-4274-9dc7-c5f2521da96c",
   "metadata": {},
   "outputs": [],
   "source": [
    "for con in concept:\n",
    "    print(con)"
   ]
  },
  {
   "cell_type": "code",
   "execution_count": null,
   "id": "0fa2bcff-a62c-4f9d-8b89-dcfbd02e541b",
   "metadata": {},
   "outputs": [],
   "source": []
  }
 ],
 "metadata": {
  "kernelspec": {
   "display_name": "Python 3",
   "language": "python",
   "name": "python3"
  },
  "language_info": {
   "codemirror_mode": {
    "name": "ipython",
    "version": 3
   },
   "file_extension": ".py",
   "mimetype": "text/x-python",
   "name": "python",
   "nbconvert_exporter": "python",
   "pygments_lexer": "ipython3",
   "version": "3.6.13"
  }
 },
 "nbformat": 4,
 "nbformat_minor": 5
}
